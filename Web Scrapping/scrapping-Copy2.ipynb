{
 "cells": [
  {
   "cell_type": "code",
   "execution_count": null,
   "id": "2d95f16c",
   "metadata": {
    "ExecuteTime": {
     "end_time": "2022-09-18T00:46:02.255463Z",
     "start_time": "2022-09-18T00:46:01.746313Z"
    }
   },
   "outputs": [],
   "source": [
    "import numpy as np\n",
    "import pandas as pd\n",
    "import io, requests\n",
    "from selenium import webdriver\n",
    "from selenium.webdriver.common.keys import Keys\n",
    "from selenium.webdriver.common.by import By\n",
    "from selenium.webdriver.support.relative_locator import locate_with\n",
    "import time"
   ]
  },
  {
   "cell_type": "code",
   "execution_count": null,
   "id": "724fbb11",
   "metadata": {
    "ExecuteTime": {
     "end_time": "2022-09-18T00:46:02.316302Z",
     "start_time": "2022-09-18T00:46:02.256461Z"
    }
   },
   "outputs": [],
   "source": [
    "cdata = pd.read_csv('Cleaned Data')"
   ]
  },
  {
   "cell_type": "code",
   "execution_count": null,
   "id": "360c939a",
   "metadata": {
    "ExecuteTime": {
     "end_time": "2022-09-18T00:46:02.336248Z",
     "start_time": "2022-09-18T00:46:02.327271Z"
    }
   },
   "outputs": [],
   "source": [
    "cdata.shape"
   ]
  },
  {
   "cell_type": "code",
   "execution_count": null,
   "id": "7d5c2e7c",
   "metadata": {
    "ExecuteTime": {
     "end_time": "2022-09-18T00:46:02.610901Z",
     "start_time": "2022-09-18T00:46:02.599904Z"
    },
    "scrolled": true
   },
   "outputs": [],
   "source": [
    "cdata.isna().sum()"
   ]
  },
  {
   "cell_type": "code",
   "execution_count": null,
   "id": "23d92389",
   "metadata": {
    "ExecuteTime": {
     "end_time": "2022-09-18T00:46:03.057781Z",
     "start_time": "2022-09-18T00:46:03.046811Z"
    }
   },
   "outputs": [],
   "source": [
    "c = 0\n",
    "l = []\n",
    "for u in cdata.name.isna():\n",
    "    if u == True:\n",
    "        l.append(c)\n",
    "    c+=1"
   ]
  },
  {
   "cell_type": "code",
   "execution_count": null,
   "id": "eda03f17",
   "metadata": {
    "ExecuteTime": {
     "end_time": "2022-09-18T00:46:06.175424Z",
     "start_time": "2022-09-18T00:46:06.167445Z"
    }
   },
   "outputs": [],
   "source": [
    "cdata.drop(l,axis=0,inplace=True)"
   ]
  },
  {
   "cell_type": "code",
   "execution_count": null,
   "id": "4214b678",
   "metadata": {
    "ExecuteTime": {
     "end_time": "2022-09-18T00:46:51.490937Z",
     "start_time": "2022-09-18T00:46:51.487945Z"
    }
   },
   "outputs": [],
   "source": [
    "counter = 16000"
   ]
  },
  {
   "cell_type": "code",
   "execution_count": null,
   "id": "5e4605ae",
   "metadata": {
    "ExecuteTime": {
     "end_time": "2022-09-18T00:47:23.057226Z",
     "start_time": "2022-09-18T00:46:51.807588Z"
    },
    "scrolled": true
   },
   "outputs": [],
   "source": [
    "name = cdata.name[counter+1:counter+2000]\n",
    "ffx = webdriver.Chrome()\n",
    "\n",
    "ffx.get(\"https://www.transfermarkt.com\")\n",
    "\n",
    "bigLi = []\n",
    "notfound = []\n",
    "\n",
    "for e in name:\n",
    "\n",
    "    li = []\n",
    "    li.append(e) \n",
    "    try:\n",
    "        # Search with player name\n",
    "        ffx.find_element(By.CSS_SELECTOR, '[class=\"tm-header__input--search-field\"]').send_keys(e) \n",
    "\n",
    "\n",
    "        # press Enter Key\n",
    "        ffx.find_element(By.CSS_SELECTOR,'[class=\"tm-header__input--search-send\"]').send_keys(Keys.ENTER) \n",
    "\n",
    "        player = ffx.find_element(By.CSS_SELECTOR,'td[class= \"rechts hauptlink\"]')\n",
    "        li3.append(player.text)\n",
    "        \n",
    "        # get player profile link like :   \" https://www.transfermarkt.com/james-rodriguez/profile/spieler/88103 \"\n",
    "        url = ffx.find_element(By.CSS_SELECTOR,'td[class= \"hauptlink\"]').find_element(By.TAG_NAME,'a').get_attribute('href')\n",
    "        \n",
    "    except:\n",
    "        ffx.find_element(By.CSS_SELECTOR, '[class=\"tm-header__input--search-field\"]').clear()\n",
    "        notfound.append(counter)\n",
    "        continue\n",
    "    counter +=1\n",
    "    pages = ['leistungsdatenverein', 'nationalmannschaft', 'marktwertverlauf']\n",
    "\n",
    "                #leistungsdatenverein --->  stat page\n",
    "                #nationalmannschaft  --->  natoinal team stat page\n",
    "                #marktwertverlauf   ---> markert value rank\n",
    "\n",
    "    for page in pages:                    # switching betweem website pages from change this part  ----/profile/----\n",
    "        x = url.split('/')\n",
    "        x[4] = page\n",
    "        for i in range(len(x)):\n",
    "            x[i] = x[i] + \"/\"\n",
    "        url = ''.join(str(u) for u in x)\n",
    "\n",
    "        ffx.get(url)\n",
    "\n",
    "\n",
    "\n",
    "        if page == 'leistungsdatenverein':  \n",
    "            try:\n",
    "                stat = ffx.find_element(By.CSS_SELECTOR, 'div[id=\"yw1\"]').find_element(By.TAG_NAME,'tfoot')  \n",
    "                \n",
    "                for i, j in zip(stat.find_elements(By.CSS_SELECTOR, 'td[class=\"zentriert\"]'), range(1,7)):\n",
    "                    li.append(i.get_attribute(\"innerHTML\"))\n",
    "\n",
    "                for x, j in zip(stat.find_elements(By.CSS_SELECTOR, 'td[class=\"rechts\"]'), range(7,9)):\n",
    "                    li.insert(j, x.get_attribute(\"innerHTML\"))\n",
    "            except:\n",
    "                while len(li) < 9 :\n",
    "                    li.append('none')\n",
    "\n",
    "\n",
    "        elif page == 'nationalmannschaft':  \n",
    "            try:\n",
    "                stat = ffx.find_element(By.CSS_SELECTOR, 'div[id=\"yw1\"]').find_element(By.TAG_NAME,'tfoot')\n",
    "                \n",
    "                for i, j in zip(stat.find_elements(By.CSS_SELECTOR, 'td[class=\"zentriert\"]'), range(9,15)):\n",
    "                    li.insert(j, i.get_attribute(\"innerHTML\"))\n",
    "\n",
    "                for x, j in zip(stat.find_elements(By.CSS_SELECTOR, 'td[class=\"rechts\"]'), range(15,17)):\n",
    "                    li.insert(j, x.get_attribute(\"innerHTML\"))\n",
    "            except:\n",
    "                while len(li) < 17 :\n",
    "                    li.append('none')\n",
    "\n",
    "        else:\n",
    "            try:\n",
    "                for i, j in zip(ffx.find_elements(By.CSS_SELECTOR, 'span[class=\"quick-fact__content--large\"]'), range(17,23)):\n",
    "                    li.append(i.get_attribute(\"innerHTML\"))\n",
    "            except :   \n",
    "                while len(li) < 23 :\n",
    "                    li.append('none')\n",
    "    ffx.find_element(By.CSS_SELECTOR, '[class=\"tm-header__input--search-field\"]').clear()\n",
    "    bigLi.append(li)\n",
    "\n",
    "\n",
    "ffx.quit()"
   ]
  },
  {
   "cell_type": "code",
   "execution_count": null,
   "id": "6b444bdd",
   "metadata": {
    "ExecuteTime": {
     "end_time": "2022-09-17T22:32:37.903024Z",
     "start_time": "2022-09-17T22:32:37.903024Z"
    }
   },
   "outputs": [],
   "source": [
    "counter"
   ]
  },
  {
   "cell_type": "code",
   "execution_count": null,
   "id": "c9de8690",
   "metadata": {},
   "outputs": [],
   "source": [
    "notfound"
   ]
  },
  {
   "cell_type": "code",
   "execution_count": null,
   "id": "ef27ecf8",
   "metadata": {
    "ExecuteTime": {
     "end_time": "2022-09-17T22:32:37.911007Z",
     "start_time": "2022-09-17T22:32:37.911007Z"
    }
   },
   "outputs": [],
   "source": [
    "q = 0\n",
    "for z, i  in zip(bigLi, range(len(bigLi))):\n",
    "    while len(z) < 22 :\n",
    "        z.append('none')\n",
    "    else :\n",
    "        bigLi[i] = bigLi[i][:22]\n",
    "    q+=1"
   ]
  },
  {
   "cell_type": "code",
   "execution_count": null,
   "id": "fe4229c7",
   "metadata": {
    "ExecuteTime": {
     "end_time": "2022-09-17T22:32:37.921973Z",
     "start_time": "2022-09-17T22:32:37.921973Z"
    }
   },
   "outputs": [],
   "source": [
    "df = pd.DataFrame(bigLi, columns=['names', 'apperance', 'goals', 'assists', 'yellow_card', '2nd_ycard', 'red_card', 'drop','min', 'apperance_NT', 'goals_NT', 'assists_NT', 'yellow_card_NT', '2nd_ycard_NT', 'red_card_NT', 'drop NT','min_NT','world_rank', 'league_rank', 'club_rank', 'National_rank', 'position_rank'])                                     "
   ]
  },
  {
   "cell_type": "code",
   "execution_count": null,
   "id": "f0c244e7",
   "metadata": {
    "ExecuteTime": {
     "end_time": "2022-09-17T22:32:37.922969Z",
     "start_time": "2022-09-17T22:32:37.922969Z"
    }
   },
   "outputs": [],
   "source": [
    "df.drop(['drop', 'drop NT'], axis= 1, inplace=True)"
   ]
  },
  {
   "cell_type": "code",
   "execution_count": null,
   "id": "06cab767",
   "metadata": {
    "ExecuteTime": {
     "end_time": "2022-09-17T22:32:37.927960Z",
     "start_time": "2022-09-17T22:32:37.927960Z"
    }
   },
   "outputs": [],
   "source": [
    "data = pd.read_csv('2ndscraped_data')"
   ]
  },
  {
   "cell_type": "code",
   "execution_count": null,
   "id": "2f85f441",
   "metadata": {
    "ExecuteTime": {
     "end_time": "2022-09-17T22:32:37.929951Z",
     "start_time": "2022-09-17T22:32:37.929951Z"
    }
   },
   "outputs": [],
   "source": [
    "data.drop(data.columns[0], axis=1, inplace= True)"
   ]
  },
  {
   "cell_type": "code",
   "execution_count": null,
   "id": "a9b34d21",
   "metadata": {
    "ExecuteTime": {
     "end_time": "2022-09-17T22:32:37.945910Z",
     "start_time": "2022-09-17T22:32:37.945910Z"
    }
   },
   "outputs": [],
   "source": [
    "df.replace('-',0, inplace=True)"
   ]
  },
  {
   "cell_type": "code",
   "execution_count": null,
   "id": "88434cfb",
   "metadata": {
    "ExecuteTime": {
     "end_time": "2022-09-17T22:32:37.951893Z",
     "start_time": "2022-09-17T22:32:37.951893Z"
    }
   },
   "outputs": [],
   "source": [
    "data = data.append(df, ignore_index=True)"
   ]
  },
  {
   "cell_type": "code",
   "execution_count": null,
   "id": "667b05ac",
   "metadata": {
    "ExecuteTime": {
     "end_time": "2022-09-17T22:32:37.960869Z",
     "start_time": "2022-09-17T22:32:37.960869Z"
    }
   },
   "outputs": [],
   "source": [
    "data.to_csv('2ndscraped_data')"
   ]
  }
 ],
 "metadata": {
  "kernelspec": {
   "display_name": "Python 3 (ipykernel)",
   "language": "python",
   "name": "python3"
  },
  "language_info": {
   "codemirror_mode": {
    "name": "ipython",
    "version": 3
   },
   "file_extension": ".py",
   "mimetype": "text/x-python",
   "name": "python",
   "nbconvert_exporter": "python",
   "pygments_lexer": "ipython3",
   "version": "3.9.7"
  }
 },
 "nbformat": 4,
 "nbformat_minor": 5
}
