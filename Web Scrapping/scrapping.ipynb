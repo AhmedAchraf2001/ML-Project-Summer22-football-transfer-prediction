{
 "cells": [
  {
   "cell_type": "code",
   "execution_count": null,
   "id": "2d95f16c",
   "metadata": {
    "ExecuteTime": {
     "end_time": "2022-09-18T00:44:01.915806Z",
     "start_time": "2022-09-18T00:44:00.512075Z"
    }
   },
   "outputs": [],
   "source": [
    "import numpy as np\n",
    "import pandas as pd\n",
    "import io, requests\n",
    "from selenium import webdriver\n",
    "from selenium.webdriver.common.keys import Keys\n",
    "from selenium.webdriver.common.by import By\n",
    "from selenium.webdriver.support.relative_locator import locate_with\n",
    "import time"
   ]
  },
  {
   "cell_type": "code",
   "execution_count": null,
   "id": "724fbb11",
   "metadata": {
    "ExecuteTime": {
     "end_time": "2022-09-18T00:44:01.997550Z",
     "start_time": "2022-09-18T00:44:01.916805Z"
    }
   },
   "outputs": [],
   "source": [
    "cdata = pd.read_csv('Cleaned Data')"
   ]
  },
  {
   "cell_type": "code",
   "execution_count": null,
   "id": "360c939a",
   "metadata": {
    "ExecuteTime": {
     "end_time": "2022-09-18T00:44:02.007475Z",
     "start_time": "2022-09-18T00:44:01.998500Z"
    }
   },
   "outputs": [],
   "source": [
    "cdata.shape"
   ]
  },
  {
   "cell_type": "code",
   "execution_count": null,
   "id": "7d5c2e7c",
   "metadata": {
    "ExecuteTime": {
     "end_time": "2022-09-18T00:44:02.029502Z",
     "start_time": "2022-09-18T00:44:02.008473Z"
    },
    "scrolled": true
   },
   "outputs": [],
   "source": [
    "cdata.isna().sum()"
   ]
  },
  {
   "cell_type": "code",
   "execution_count": null,
   "id": "23d92389",
   "metadata": {
    "ExecuteTime": {
     "end_time": "2022-09-18T00:44:02.040473Z",
     "start_time": "2022-09-18T00:44:02.030499Z"
    }
   },
   "outputs": [],
   "source": [
    "c = 0\n",
    "l = []\n",
    "for u in cdata.name.isna():\n",
    "    if u == True:\n",
    "        l.append(c)\n",
    "    c+=1"
   ]
  },
  {
   "cell_type": "code",
   "execution_count": null,
   "id": "eda03f17",
   "metadata": {
    "ExecuteTime": {
     "end_time": "2022-09-18T00:44:02.436945Z",
     "start_time": "2022-09-18T00:44:02.422979Z"
    }
   },
   "outputs": [],
   "source": [
    "cdata.drop(l,axis=0,inplace=True)"
   ]
  },
  {
   "cell_type": "code",
   "execution_count": null,
   "id": "4214b678",
   "metadata": {
    "ExecuteTime": {
     "end_time": "2022-09-18T00:44:03.434517Z",
     "start_time": "2022-09-18T00:44:03.431525Z"
    }
   },
   "outputs": [],
   "source": [
    "counter = 12000"
   ]
  },
  {
   "cell_type": "code",
   "execution_count": null,
   "id": "5e4605ae",
   "metadata": {
    "ExecuteTime": {
     "end_time": "2022-09-18T00:47:28.587908Z",
     "start_time": "2022-09-18T00:44:04.816075Z"
    },
    "scrolled": false
   },
   "outputs": [],
   "source": [
    "name = cdata.name[counter+1:counter+2000]\n",
    "ffx = webdriver.Chrome()\n",
    "\n",
    "ffx.get(\"https://www.transfermarkt.com\")\n",
    "\n",
    "bigLi = []\n",
    "notfoundplayers = []\n",
    "\n",
    "for e in name:\n",
    "\n",
    "    li = []\n",
    "    li.append(e) \n",
    "    try:\n",
    "        # Search with player name\n",
    "        ffx.find_element(By.CSS_SELECTOR, '[class=\"tm-header__input--search-field\"]').send_keys(e) \n",
    "\n",
    "\n",
    "        # press Enter Key\n",
    "        ffx.find_element(By.CSS_SELECTOR,'[class=\"tm-header__input--search-send\"]').send_keys(Keys.ENTER) \n",
    "\n",
    "        player = ffx.find_element(By.CSS_SELECTOR,'td[class= \"rechts hauptlink\"]')\n",
    "        li3.append(player.text)\n",
    "        \n",
    "        # get player profile link like :   \" https://www.transfermarkt.com/james-rodriguez/profile/spieler/88103 \"\n",
    "        url = ffx.find_element(By.CSS_SELECTOR,'td[class= \"hauptlink\"]').find_element(By.TAG_NAME,'a').get_attribute('href')\n",
    "        \n",
    "    except:\n",
    "        ffx.find_element(By.CSS_SELECTOR, '[class=\"tm-header__input--search-field\"]').clear()\n",
    "        notfoundplayers.append(counter)\n",
    "        continue\n",
    "    counter +=1\n",
    "    pages = ['leistungsdatenverein', 'nationalmannschaft', 'marktwertverlauf']\n",
    "\n",
    "                #leistungsdatenverein --->  stat page\n",
    "                #nationalmannschaft  --->  natoinal team stat page\n",
    "                #marktwertverlauf   ---> markert value rank\n",
    "\n",
    "    for page in pages:                    # switching betweem website pages from change this part  ----/profile/----\n",
    "        x = url.split('/')\n",
    "        x[4] = page\n",
    "        for i in range(len(x)):\n",
    "            x[i] = x[i] + \"/\"\n",
    "        url = ''.join(str(u) for u in x)\n",
    "\n",
    "        ffx.get(url)\n",
    "\n",
    "\n",
    "\n",
    "        if page == 'leistungsdatenverein':  \n",
    "            try:\n",
    "                stat = ffx.find_element(By.CSS_SELECTOR, 'div[id=\"yw1\"]').find_element(By.TAG_NAME,'tfoot')  \n",
    "                \n",
    "                for i, j in zip(stat.find_elements(By.CSS_SELECTOR, 'td[class=\"zentriert\"]'), range(1,7)):\n",
    "                    li.append(i.get_attribute(\"innerHTML\"))\n",
    "\n",
    "                for x, j in zip(stat.find_elements(By.CSS_SELECTOR, 'td[class=\"rechts\"]'), range(7,9)):\n",
    "                    li.insert(j, x.get_attribute(\"innerHTML\"))\n",
    "            except:\n",
    "                while len(li) < 9 :\n",
    "                    li.append('none')\n",
    "\n",
    "\n",
    "        elif page == 'nationalmannschaft':  \n",
    "            try:\n",
    "                stat = ffx.find_element(By.CSS_SELECTOR, 'div[id=\"yw1\"]').find_element(By.TAG_NAME,'tfoot')\n",
    "                \n",
    "                for i, j in zip(stat.find_elements(By.CSS_SELECTOR, 'td[class=\"zentriert\"]'), range(9,15)):\n",
    "                    li.insert(j, i.get_attribute(\"innerHTML\"))\n",
    "\n",
    "                for x, j in zip(stat.find_elements(By.CSS_SELECTOR, 'td[class=\"rechts\"]'), range(15,17)):\n",
    "                    li.insert(j, x.get_attribute(\"innerHTML\"))\n",
    "            except:\n",
    "                while len(li) < 17 :\n",
    "                    li.append('none')\n",
    "\n",
    "        else:\n",
    "            try:\n",
    "                for i, j in zip(ffx.find_elements(By.CSS_SELECTOR, 'span[class=\"quick-fact__content--large\"]'), range(17,23)):\n",
    "                    li.append(i.get_attribute(\"innerHTML\"))\n",
    "            except :   \n",
    "                while len(li) < 23 :\n",
    "                    li.append('none')\n",
    "    ffx.find_element(By.CSS_SELECTOR, '[class=\"tm-header__input--search-field\"]').clear()\n",
    "    bigLi.append(li)\n",
    "\n",
    "\n",
    "ffx.quit()"
   ]
  },
  {
   "cell_type": "code",
   "execution_count": null,
   "id": "6b444bdd",
   "metadata": {
    "ExecuteTime": {
     "end_time": "2022-09-18T00:47:28.588905Z",
     "start_time": "2022-09-18T00:47:28.588905Z"
    }
   },
   "outputs": [],
   "source": [
    "counter"
   ]
  },
  {
   "cell_type": "code",
   "execution_count": null,
   "id": "e7c49bfc",
   "metadata": {},
   "outputs": [],
   "source": [
    "notfoundplayers"
   ]
  },
  {
   "cell_type": "code",
   "execution_count": null,
   "id": "ef27ecf8",
   "metadata": {
    "ExecuteTime": {
     "end_time": "2022-09-18T00:47:28.589902Z",
     "start_time": "2022-09-18T00:47:28.589902Z"
    }
   },
   "outputs": [],
   "source": [
    "q = 0\n",
    "for z, i  in zip(bigLi, range(len(bigLi))):\n",
    "    while len(z) < 22 :\n",
    "        z.append('none')\n",
    "    else :\n",
    "        bigLi[i] = bigLi[i][:22]\n",
    "    q+=1"
   ]
  },
  {
   "cell_type": "code",
   "execution_count": null,
   "id": "74bf7697",
   "metadata": {
    "ExecuteTime": {
     "end_time": "2022-09-18T00:47:28.590901Z",
     "start_time": "2022-09-18T00:47:28.590901Z"
    }
   },
   "outputs": [],
   "source": [
    "bigLi"
   ]
  },
  {
   "cell_type": "code",
   "execution_count": null,
   "id": "fe4229c7",
   "metadata": {
    "ExecuteTime": {
     "end_time": "2022-09-18T00:47:28.591899Z",
     "start_time": "2022-09-18T00:47:28.591899Z"
    }
   },
   "outputs": [],
   "source": [
    "df = pd.DataFrame(bigLi, columns=['names', 'apperance', 'goals', 'assists', 'yellow_card', '2nd_ycard', 'red_card', 'drop','min', 'apperance_NT', 'goals_NT', 'assists_NT', 'yellow_card_NT', '2nd_ycard_NT', 'red_card_NT', 'drop NT','min_NT','world_rank', 'league_rank', 'club_rank', 'National_rank', 'position_rank'])                                     "
   ]
  },
  {
   "cell_type": "code",
   "execution_count": null,
   "id": "f0c244e7",
   "metadata": {
    "ExecuteTime": {
     "end_time": "2022-09-18T00:47:28.592896Z",
     "start_time": "2022-09-18T00:47:28.592896Z"
    }
   },
   "outputs": [],
   "source": [
    "df.drop(['drop', 'drop NT'], axis= 1, inplace=True)"
   ]
  },
  {
   "cell_type": "code",
   "execution_count": null,
   "id": "a9b34d21",
   "metadata": {
    "ExecuteTime": {
     "end_time": "2022-09-18T00:47:28.592896Z",
     "start_time": "2022-09-18T00:47:28.592896Z"
    }
   },
   "outputs": [],
   "source": [
    "df.replace('-',0, inplace=True)"
   ]
  },
  {
   "cell_type": "code",
   "execution_count": null,
   "id": "88434cfb",
   "metadata": {
    "ExecuteTime": {
     "end_time": "2022-09-18T00:47:28.593893Z",
     "start_time": "2022-09-18T00:47:28.593893Z"
    }
   },
   "outputs": [],
   "source": [
    "#data = data.append(df, ignore_index=True)"
   ]
  },
  {
   "cell_type": "code",
   "execution_count": null,
   "id": "667b05ac",
   "metadata": {
    "ExecuteTime": {
     "end_time": "2022-09-18T00:47:28.594891Z",
     "start_time": "2022-09-18T00:47:28.594891Z"
    }
   },
   "outputs": [],
   "source": [
    "df.to_csv('2ndscraped_data')"
   ]
  },
  {
   "cell_type": "code",
   "execution_count": null,
   "id": "06cab767",
   "metadata": {
    "ExecuteTime": {
     "end_time": "2022-09-18T00:47:28.595888Z",
     "start_time": "2022-09-18T00:47:28.595888Z"
    }
   },
   "outputs": [],
   "source": [
    "data = pd.read_csv('2ndscraped_data')"
   ]
  },
  {
   "cell_type": "code",
   "execution_count": null,
   "id": "2f85f441",
   "metadata": {
    "ExecuteTime": {
     "end_time": "2022-09-18T00:47:28.597882Z",
     "start_time": "2022-09-18T00:47:28.597882Z"
    }
   },
   "outputs": [],
   "source": [
    "data.drop(data.columns[0], axis=1, inplace= True)"
   ]
  },
  {
   "cell_type": "code",
   "execution_count": null,
   "id": "ebc1f29f",
   "metadata": {
    "ExecuteTime": {
     "end_time": "2022-09-18T00:47:28.597882Z",
     "start_time": "2022-09-18T00:47:28.597882Z"
    }
   },
   "outputs": [],
   "source": [
    "data.shape"
   ]
  },
  {
   "cell_type": "code",
   "execution_count": null,
   "id": "4c7d91b2",
   "metadata": {},
   "outputs": [],
   "source": []
  },
  {
   "cell_type": "code",
   "execution_count": null,
   "id": "aabc7b27",
   "metadata": {},
   "outputs": [],
   "source": []
  },
  {
   "cell_type": "code",
   "execution_count": null,
   "id": "0220189b",
   "metadata": {},
   "outputs": [],
   "source": []
  },
  {
   "cell_type": "code",
   "execution_count": null,
   "id": "54d38863",
   "metadata": {},
   "outputs": [],
   "source": []
  }
 ],
 "metadata": {
  "kernelspec": {
   "display_name": "Python 3 (ipykernel)",
   "language": "python",
   "name": "python3"
  },
  "language_info": {
   "codemirror_mode": {
    "name": "ipython",
    "version": 3
   },
   "file_extension": ".py",
   "mimetype": "text/x-python",
   "name": "python",
   "nbconvert_exporter": "python",
   "pygments_lexer": "ipython3",
   "version": "3.9.7"
  }
 },
 "nbformat": 4,
 "nbformat_minor": 5
}
