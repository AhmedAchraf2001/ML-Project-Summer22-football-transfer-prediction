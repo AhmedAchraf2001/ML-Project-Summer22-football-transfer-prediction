{
 "cells": [
  {
   "cell_type": "code",
   "execution_count": 1,
   "id": "2d95f16c",
   "metadata": {
    "ExecuteTime": {
     "end_time": "2022-09-16T20:51:43.634691Z",
     "start_time": "2022-09-16T20:51:42.507227Z"
    }
   },
   "outputs": [
    {
     "name": "stderr",
     "output_type": "stream",
     "text": [
      "C:\\Users\\10\\anaconda3\\lib\\site-packages\\requests\\__init__.py:89: RequestsDependencyWarning: urllib3 (1.26.12) or chardet (3.0.4) doesn't match a supported version!\n",
      "  warnings.warn(\"urllib3 ({}) or chardet ({}) doesn't match a supported \"\n"
     ]
    }
   ],
   "source": [
    "import numpy as np\n",
    "import pandas as pd\n",
    "import io, requests\n",
    "from selenium import webdriver\n",
    "from selenium.webdriver.common.keys import Keys\n",
    "from selenium.webdriver.common.by import By\n",
    "from selenium.webdriver.support.relative_locator import locate_with\n",
    "import time"
   ]
  },
  {
   "cell_type": "code",
   "execution_count": 20,
   "id": "724fbb11",
   "metadata": {
    "ExecuteTime": {
     "end_time": "2022-09-16T20:57:13.567424Z",
     "start_time": "2022-09-16T20:57:13.514566Z"
    }
   },
   "outputs": [],
   "source": [
    "cdata = pd.read_csv('Cleaned Data')"
   ]
  },
  {
   "cell_type": "code",
   "execution_count": 21,
   "id": "74ed74f4",
   "metadata": {
    "ExecuteTime": {
     "end_time": "2022-09-16T20:57:13.952479Z",
     "start_time": "2022-09-16T20:57:13.945499Z"
    }
   },
   "outputs": [],
   "source": [
    "cdata.drop(cdata.columns[0], axis=1, inplace= True)"
   ]
  },
  {
   "cell_type": "code",
   "execution_count": 30,
   "id": "8318ffea",
   "metadata": {
    "ExecuteTime": {
     "end_time": "2022-09-16T20:58:19.439344Z",
     "start_time": "2022-09-16T20:58:19.435364Z"
    }
   },
   "outputs": [
    {
     "data": {
      "text/plain": [
       "(30171, 8)"
      ]
     },
     "execution_count": 30,
     "metadata": {},
     "output_type": "execute_result"
    }
   ],
   "source": [
    "cdata.shape"
   ]
  },
  {
   "cell_type": "code",
   "execution_count": 25,
   "id": "7d5c2e7c",
   "metadata": {
    "ExecuteTime": {
     "end_time": "2022-09-16T20:57:35.567672Z",
     "start_time": "2022-09-16T20:57:35.554713Z"
    },
    "scrolled": true
   },
   "outputs": [
    {
     "data": {
      "text/plain": [
       "name                      3\n",
       "position                  0\n",
       "age                       0\n",
       "origin_club               0\n",
       "country_origin_club     889\n",
       "new_club                  0\n",
       "country_new_club       5387\n",
       "cost                      0\n",
       "dtype: int64"
      ]
     },
     "execution_count": 25,
     "metadata": {},
     "output_type": "execute_result"
    }
   ],
   "source": [
    "cdata.isna().sum()"
   ]
  },
  {
   "cell_type": "code",
   "execution_count": 26,
   "id": "23d92389",
   "metadata": {
    "ExecuteTime": {
     "end_time": "2022-09-16T20:57:36.614199Z",
     "start_time": "2022-09-16T20:57:36.602230Z"
    }
   },
   "outputs": [],
   "source": [
    "c = 0\n",
    "l = []\n",
    "for u in cdata.name.isna():\n",
    "    if u == True:\n",
    "        l.append(c)\n",
    "    c+=1"
   ]
  },
  {
   "cell_type": "code",
   "execution_count": 28,
   "id": "eda03f17",
   "metadata": {
    "ExecuteTime": {
     "end_time": "2022-09-16T20:57:47.010342Z",
     "start_time": "2022-09-16T20:57:47.003361Z"
    }
   },
   "outputs": [],
   "source": [
    "cdata.drop(l,axis=0,inplace=True)"
   ]
  },
  {
   "cell_type": "code",
   "execution_count": 71,
   "id": "78dc24aa",
   "metadata": {
    "ExecuteTime": {
     "end_time": "2022-09-16T21:40:32.285243Z",
     "start_time": "2022-09-16T21:40:32.280257Z"
    },
    "scrolled": true
   },
   "outputs": [
    {
     "data": {
      "text/plain": [
       "0      Mohamed Sobhi\n",
       "1    Mohanad Lasheen\n",
       "Name: name, dtype: object"
      ]
     },
     "execution_count": 71,
     "metadata": {},
     "output_type": "execute_result"
    }
   ],
   "source": [
    "name = cdata.name[:2]\n",
    "name"
   ]
  },
  {
   "cell_type": "code",
   "execution_count": 95,
   "id": "5e4605ae",
   "metadata": {
    "ExecuteTime": {
     "end_time": "2022-09-16T22:01:44.246781Z",
     "start_time": "2022-09-16T22:01:34.652310Z"
    }
   },
   "outputs": [
    {
     "ename": "NoSuchWindowException",
     "evalue": "Message: no such window: target window already closed\nfrom unknown error: web view not found\n  (Session info: chrome=105.0.5195.126)\nStacktrace:\nBacktrace:\n\tOrdinal0 [0x00E5DF13+2219795]\n\tOrdinal0 [0x00DF2841+1779777]\n\tOrdinal0 [0x00D0423D+803389]\n\tOrdinal0 [0x00CEC70A+706314]\n\tOrdinal0 [0x00D51502+1119490]\n\tOrdinal0 [0x00D5E8FA+1173754]\n\tOrdinal0 [0x00D4E616+1107478]\n\tOrdinal0 [0x00D27F89+950153]\n\tOrdinal0 [0x00D28F56+954198]\n\tGetHandleVerifier [0x01152CB2+3040210]\n\tGetHandleVerifier [0x01142BB4+2974420]\n\tGetHandleVerifier [0x00EF6A0A+565546]\n\tGetHandleVerifier [0x00EF5680+560544]\n\tOrdinal0 [0x00DF9A5C+1808988]\n\tOrdinal0 [0x00DFE3A8+1827752]\n\tOrdinal0 [0x00DFE495+1827989]\n\tOrdinal0 [0x00E080A4+1867940]\n\tBaseThreadInitThunk [0x76C7FA29+25]\n\tRtlGetAppContainerNamedObjectPath [0x776E7B5E+286]\n\tRtlGetAppContainerNamedObjectPath [0x776E7B2E+238]\n",
     "output_type": "error",
     "traceback": [
      "\u001b[1;31m---------------------------------------------------------------------------\u001b[0m",
      "\u001b[1;31mNoSuchWindowException\u001b[0m                     Traceback (most recent call last)",
      "\u001b[1;32m~\\AppData\\Local\\Temp/ipykernel_6272/2985004687.py\u001b[0m in \u001b[0;36m<module>\u001b[1;34m\u001b[0m\n\u001b[0;32m     43\u001b[0m \u001b[1;33m\u001b[0m\u001b[0m\n\u001b[0;32m     44\u001b[0m         \u001b[1;32mif\u001b[0m \u001b[0mpage\u001b[0m \u001b[1;33m!=\u001b[0m \u001b[1;34m'marktwertverlauf'\u001b[0m\u001b[1;33m:\u001b[0m\u001b[1;33m\u001b[0m\u001b[1;33m\u001b[0m\u001b[0m\n\u001b[1;32m---> 45\u001b[1;33m             \u001b[0mstat\u001b[0m \u001b[1;33m=\u001b[0m \u001b[0mffx\u001b[0m\u001b[1;33m.\u001b[0m\u001b[0mfind_element\u001b[0m\u001b[1;33m(\u001b[0m\u001b[0mBy\u001b[0m\u001b[1;33m.\u001b[0m\u001b[0mCSS_SELECTOR\u001b[0m\u001b[1;33m,\u001b[0m \u001b[1;34m'div[id=\"yw1\"]'\u001b[0m\u001b[1;33m)\u001b[0m\u001b[1;33m.\u001b[0m\u001b[0mfind_element\u001b[0m\u001b[1;33m(\u001b[0m\u001b[0mBy\u001b[0m\u001b[1;33m.\u001b[0m\u001b[0mTAG_NAME\u001b[0m\u001b[1;33m,\u001b[0m\u001b[1;34m'tfoot'\u001b[0m\u001b[1;33m)\u001b[0m\u001b[1;33m\u001b[0m\u001b[1;33m\u001b[0m\u001b[0m\n\u001b[0m\u001b[0;32m     46\u001b[0m             \u001b[1;32mtry\u001b[0m\u001b[1;33m:\u001b[0m\u001b[1;33m\u001b[0m\u001b[1;33m\u001b[0m\u001b[0m\n\u001b[0;32m     47\u001b[0m                 \u001b[1;32mfor\u001b[0m \u001b[0mi\u001b[0m \u001b[1;32min\u001b[0m \u001b[0mstat\u001b[0m\u001b[1;33m.\u001b[0m\u001b[0mfind_elements\u001b[0m\u001b[1;33m(\u001b[0m\u001b[0mBy\u001b[0m\u001b[1;33m.\u001b[0m\u001b[0mCSS_SELECTOR\u001b[0m\u001b[1;33m,\u001b[0m \u001b[1;34m'td[class=\"zentriert\"]'\u001b[0m\u001b[1;33m)\u001b[0m\u001b[1;33m:\u001b[0m\u001b[1;33m\u001b[0m\u001b[1;33m\u001b[0m\u001b[0m\n",
      "\u001b[1;32m~\\anaconda3\\lib\\site-packages\\selenium\\webdriver\\remote\\webdriver.py\u001b[0m in \u001b[0;36mfind_element\u001b[1;34m(self, by, value)\u001b[0m\n\u001b[0;32m    853\u001b[0m             \u001b[0mvalue\u001b[0m \u001b[1;33m=\u001b[0m \u001b[1;34m'[name=\"%s\"]'\u001b[0m \u001b[1;33m%\u001b[0m \u001b[0mvalue\u001b[0m\u001b[1;33m\u001b[0m\u001b[1;33m\u001b[0m\u001b[0m\n\u001b[0;32m    854\u001b[0m \u001b[1;33m\u001b[0m\u001b[0m\n\u001b[1;32m--> 855\u001b[1;33m         return self.execute(Command.FIND_ELEMENT, {\n\u001b[0m\u001b[0;32m    856\u001b[0m             \u001b[1;34m'using'\u001b[0m\u001b[1;33m:\u001b[0m \u001b[0mby\u001b[0m\u001b[1;33m,\u001b[0m\u001b[1;33m\u001b[0m\u001b[1;33m\u001b[0m\u001b[0m\n\u001b[0;32m    857\u001b[0m             'value': value})['value']\n",
      "\u001b[1;32m~\\anaconda3\\lib\\site-packages\\selenium\\webdriver\\remote\\webdriver.py\u001b[0m in \u001b[0;36mexecute\u001b[1;34m(self, driver_command, params)\u001b[0m\n\u001b[0;32m    426\u001b[0m         \u001b[0mresponse\u001b[0m \u001b[1;33m=\u001b[0m \u001b[0mself\u001b[0m\u001b[1;33m.\u001b[0m\u001b[0mcommand_executor\u001b[0m\u001b[1;33m.\u001b[0m\u001b[0mexecute\u001b[0m\u001b[1;33m(\u001b[0m\u001b[0mdriver_command\u001b[0m\u001b[1;33m,\u001b[0m \u001b[0mparams\u001b[0m\u001b[1;33m)\u001b[0m\u001b[1;33m\u001b[0m\u001b[1;33m\u001b[0m\u001b[0m\n\u001b[0;32m    427\u001b[0m         \u001b[1;32mif\u001b[0m \u001b[0mresponse\u001b[0m\u001b[1;33m:\u001b[0m\u001b[1;33m\u001b[0m\u001b[1;33m\u001b[0m\u001b[0m\n\u001b[1;32m--> 428\u001b[1;33m             \u001b[0mself\u001b[0m\u001b[1;33m.\u001b[0m\u001b[0merror_handler\u001b[0m\u001b[1;33m.\u001b[0m\u001b[0mcheck_response\u001b[0m\u001b[1;33m(\u001b[0m\u001b[0mresponse\u001b[0m\u001b[1;33m)\u001b[0m\u001b[1;33m\u001b[0m\u001b[1;33m\u001b[0m\u001b[0m\n\u001b[0m\u001b[0;32m    429\u001b[0m             response['value'] = self._unwrap_value(\n\u001b[0;32m    430\u001b[0m                 response.get('value', None))\n",
      "\u001b[1;32m~\\anaconda3\\lib\\site-packages\\selenium\\webdriver\\remote\\errorhandler.py\u001b[0m in \u001b[0;36mcheck_response\u001b[1;34m(self, response)\u001b[0m\n\u001b[0;32m    241\u001b[0m                 \u001b[0malert_text\u001b[0m \u001b[1;33m=\u001b[0m \u001b[0mvalue\u001b[0m\u001b[1;33m[\u001b[0m\u001b[1;34m'alert'\u001b[0m\u001b[1;33m]\u001b[0m\u001b[1;33m.\u001b[0m\u001b[0mget\u001b[0m\u001b[1;33m(\u001b[0m\u001b[1;34m'text'\u001b[0m\u001b[1;33m)\u001b[0m\u001b[1;33m\u001b[0m\u001b[1;33m\u001b[0m\u001b[0m\n\u001b[0;32m    242\u001b[0m             \u001b[1;32mraise\u001b[0m \u001b[0mexception_class\u001b[0m\u001b[1;33m(\u001b[0m\u001b[0mmessage\u001b[0m\u001b[1;33m,\u001b[0m \u001b[0mscreen\u001b[0m\u001b[1;33m,\u001b[0m \u001b[0mstacktrace\u001b[0m\u001b[1;33m,\u001b[0m \u001b[0malert_text\u001b[0m\u001b[1;33m)\u001b[0m  \u001b[1;31m# type: ignore[call-arg]  # mypy is not smart enough here\u001b[0m\u001b[1;33m\u001b[0m\u001b[1;33m\u001b[0m\u001b[0m\n\u001b[1;32m--> 243\u001b[1;33m         \u001b[1;32mraise\u001b[0m \u001b[0mexception_class\u001b[0m\u001b[1;33m(\u001b[0m\u001b[0mmessage\u001b[0m\u001b[1;33m,\u001b[0m \u001b[0mscreen\u001b[0m\u001b[1;33m,\u001b[0m \u001b[0mstacktrace\u001b[0m\u001b[1;33m)\u001b[0m\u001b[1;33m\u001b[0m\u001b[1;33m\u001b[0m\u001b[0m\n\u001b[0m",
      "\u001b[1;31mNoSuchWindowException\u001b[0m: Message: no such window: target window already closed\nfrom unknown error: web view not found\n  (Session info: chrome=105.0.5195.126)\nStacktrace:\nBacktrace:\n\tOrdinal0 [0x00E5DF13+2219795]\n\tOrdinal0 [0x00DF2841+1779777]\n\tOrdinal0 [0x00D0423D+803389]\n\tOrdinal0 [0x00CEC70A+706314]\n\tOrdinal0 [0x00D51502+1119490]\n\tOrdinal0 [0x00D5E8FA+1173754]\n\tOrdinal0 [0x00D4E616+1107478]\n\tOrdinal0 [0x00D27F89+950153]\n\tOrdinal0 [0x00D28F56+954198]\n\tGetHandleVerifier [0x01152CB2+3040210]\n\tGetHandleVerifier [0x01142BB4+2974420]\n\tGetHandleVerifier [0x00EF6A0A+565546]\n\tGetHandleVerifier [0x00EF5680+560544]\n\tOrdinal0 [0x00DF9A5C+1808988]\n\tOrdinal0 [0x00DFE3A8+1827752]\n\tOrdinal0 [0x00DFE495+1827989]\n\tOrdinal0 [0x00E080A4+1867940]\n\tBaseThreadInitThunk [0x76C7FA29+25]\n\tRtlGetAppContainerNamedObjectPath [0x776E7B5E+286]\n\tRtlGetAppContainerNamedObjectPath [0x776E7B2E+238]\n"
     ]
    }
   ],
   "source": [
    "ffx = webdriver.Chrome()\n",
    "\n",
    "ffx.get(\"https://www.transfermarkt.com\")\n",
    "\n",
    "bigLi = []\n",
    "\n",
    "counter = 0\n",
    "\n",
    "for e in name:\n",
    "    \n",
    "    li = []\n",
    "    counter+=1\n",
    "    li.append(e) \n",
    "    try:\n",
    "        # Search with player name\n",
    "        ffx.find_element(By.CSS_SELECTOR, '[class=\"tm-header__input--search-field\"]').send_keys(e) \n",
    "\n",
    "\n",
    "        # press Enter Key\n",
    "        ffx.find_element(By.CSS_SELECTOR,'[class=\"tm-header__input--search-send\"]').send_keys(Keys.ENTER) \n",
    "\n",
    "\n",
    "        # get player profile link like :   \" https://www.transfermarkt.com/james-rodriguez/profile/spieler/88103 \"\n",
    "        url = ffx.find_element(By.CSS_SELECTOR,'td[class= \"hauptlink\"]').find_element(By.TAG_NAME,'a').get_attribute('href')\n",
    "    except:\n",
    "        continue\n",
    "    pages = ['leistungsdatenverein', 'nationalmannschaft', 'marktwertverlauf']\n",
    "    \n",
    "                #leistungsdatenverein --->  stat page\n",
    "                #nationalmannschaft  --->  natoinal team stat page\n",
    "                #marktwertverlauf   ---> markert value rank\n",
    "    \n",
    "    for page in pages:                    # switching betweem website pages from change this part  ----/profile/----\n",
    "        x = url.split('/')\n",
    "        x[4] = page\n",
    "        for i in range(len(x)):\n",
    "            x[i] = x[i] + \"/\"\n",
    "        url = ''.join(str(u) for u in x)\n",
    "\n",
    "        ffx.get(url)\n",
    "    \n",
    "    \n",
    "        \n",
    "        if page != 'marktwertverlauf':  \n",
    "            stat = ffx.find_element(By.CSS_SELECTOR, 'div[id=\"yw1\"]').find_element(By.TAG_NAME,'tfoot')\n",
    "            try:\n",
    "                for i in stat.find_elements(By.CSS_SELECTOR, 'td[class=\"zentriert\"]'):\n",
    "                    li.append(i.get_attribute(\"innerHTML\"))\n",
    "            except :\n",
    "                li[1:9] = ['none']\n",
    "                \n",
    "                \n",
    "            try:   \n",
    "                for x in stat.find_elements(By.CSS_SELECTOR, 'td[class=\"rechts\"]'):\n",
    "                    li.append(x.get_attribute(\"innerHTML\"))\n",
    "            except :\n",
    "                while len(li) < 23 :\n",
    "                    li.append('none')\n",
    "                \n",
    "                \n",
    "        else:\n",
    "            try:\n",
    "                for i in ffx.find_elements(By.CSS_SELECTOR, 'span[class=\"quick-fact__content--large\"]'):\n",
    "                    li.append(i.get_attribute(\"innerHTML\"))\n",
    "            except :   \n",
    "                while len(li) < 23 :\n",
    "                    li.append('none')\n",
    "                \n",
    "                \n",
    "    bigLi.append(li)\n",
    "                \n",
    "                \n",
    "ffx.quit()"
   ]
  },
  {
   "cell_type": "code",
   "execution_count": 94,
   "id": "4340a92c",
   "metadata": {
    "ExecuteTime": {
     "end_time": "2022-09-16T21:55:12.632716Z",
     "start_time": "2022-09-16T21:55:12.626704Z"
    }
   },
   "outputs": [
    {
     "data": {
      "text/plain": [
       "[['Mohamed Sobhi',\n",
       "  '37',\n",
       "  '-',\n",
       "  '3',\n",
       "  '8',\n",
       "  '-',\n",
       "  '-',\n",
       "  'Total :',\n",
       "  \"2.947'\",\n",
       "  '6',\n",
       "  '-',\n",
       "  '1',\n",
       "  '-',\n",
       "  '-',\n",
       "  '-',\n",
       "  'Total : ',\n",
       "  \"152'\"],\n",
       " ['Mohanad Lasheen',\n",
       "  '130',\n",
       "  '5',\n",
       "  '5',\n",
       "  '15',\n",
       "  '1',\n",
       "  '-',\n",
       "  'Total :',\n",
       "  \"10.770'\",\n",
       "  '5',\n",
       "  '-',\n",
       "  '-',\n",
       "  '1',\n",
       "  '-',\n",
       "  '-',\n",
       "  'Total : ',\n",
       "  \"207'\",\n",
       "  '33',\n",
       "  '3',\n",
       "  '34',\n",
       "  '979',\n",
       "  '658']]"
      ]
     },
     "execution_count": 94,
     "metadata": {},
     "output_type": "execute_result"
    }
   ],
   "source": [
    "bigLi"
   ]
  },
  {
   "cell_type": "code",
   "execution_count": 82,
   "id": "41507d1d",
   "metadata": {
    "ExecuteTime": {
     "end_time": "2022-09-16T21:46:16.760067Z",
     "start_time": "2022-09-16T21:46:16.754083Z"
    }
   },
   "outputs": [
    {
     "name": "stdout",
     "output_type": "stream",
     "text": [
      "2\n"
     ]
    }
   ],
   "source": [
    "print(counter)"
   ]
  },
  {
   "cell_type": "markdown",
   "id": "be95b6cb",
   "metadata": {
    "ExecuteTime": {
     "end_time": "2022-09-16T21:17:38.355746Z",
     "start_time": "2022-09-16T21:17:38.348764Z"
    },
    "scrolled": false
   },
   "source": [
    "j = 0\n",
    "for i in bigLi:\n",
    "    while len(i) < 23 :\n",
    "        i.append('none')\n",
    "    else :\n",
    "        bigLi[j] = bigLi[j][:23]\n",
    "    j+=1"
   ]
  },
  {
   "cell_type": "code",
   "execution_count": 79,
   "id": "8083f112",
   "metadata": {
    "ExecuteTime": {
     "end_time": "2022-09-16T21:45:04.771391Z",
     "start_time": "2022-09-16T21:45:04.766406Z"
    },
    "scrolled": true
   },
   "outputs": [
    {
     "data": {
      "text/plain": [
       "[['Mohamed Sobhi', 'n', 'o', 'n', 'e', 'n', 'o', 'n', 'e', 'n', 'o', 'n', 'e'],\n",
       " ['Mohanad Lasheen',\n",
       "  'n',\n",
       "  'o',\n",
       "  'n',\n",
       "  'e',\n",
       "  'n',\n",
       "  'o',\n",
       "  'n',\n",
       "  'e',\n",
       "  'n',\n",
       "  'o',\n",
       "  'n',\n",
       "  'e']]"
      ]
     },
     "execution_count": 79,
     "metadata": {},
     "output_type": "execute_result"
    }
   ],
   "source": [
    "bigLi"
   ]
  },
  {
   "cell_type": "code",
   "execution_count": 65,
   "id": "39fd8b33",
   "metadata": {
    "ExecuteTime": {
     "end_time": "2022-09-16T21:22:17.113831Z",
     "start_time": "2022-09-16T21:22:17.106850Z"
    }
   },
   "outputs": [
    {
     "data": {
      "text/plain": [
       "5"
      ]
     },
     "execution_count": 65,
     "metadata": {},
     "output_type": "execute_result"
    }
   ],
   "source": [
    "len(bigLi)"
   ]
  },
  {
   "cell_type": "code",
   "execution_count": 66,
   "id": "fe4229c7",
   "metadata": {
    "ExecuteTime": {
     "end_time": "2022-09-16T21:22:17.136799Z",
     "start_time": "2022-09-16T21:22:17.114829Z"
    }
   },
   "outputs": [
    {
     "ename": "ValueError",
     "evalue": "23 columns passed, passed data had 31 columns",
     "output_type": "error",
     "traceback": [
      "\u001b[1;31m---------------------------------------------------------------------------\u001b[0m",
      "\u001b[1;31mAssertionError\u001b[0m                            Traceback (most recent call last)",
      "\u001b[1;32m~\\anaconda3\\lib\\site-packages\\pandas\\core\\internals\\construction.py\u001b[0m in \u001b[0;36m_finalize_columns_and_data\u001b[1;34m(content, columns, dtype)\u001b[0m\n\u001b[0;32m    905\u001b[0m     \u001b[1;32mtry\u001b[0m\u001b[1;33m:\u001b[0m\u001b[1;33m\u001b[0m\u001b[1;33m\u001b[0m\u001b[0m\n\u001b[1;32m--> 906\u001b[1;33m         \u001b[0mcolumns\u001b[0m \u001b[1;33m=\u001b[0m \u001b[0m_validate_or_indexify_columns\u001b[0m\u001b[1;33m(\u001b[0m\u001b[0mcontents\u001b[0m\u001b[1;33m,\u001b[0m \u001b[0mcolumns\u001b[0m\u001b[1;33m)\u001b[0m\u001b[1;33m\u001b[0m\u001b[1;33m\u001b[0m\u001b[0m\n\u001b[0m\u001b[0;32m    907\u001b[0m     \u001b[1;32mexcept\u001b[0m \u001b[0mAssertionError\u001b[0m \u001b[1;32mas\u001b[0m \u001b[0merr\u001b[0m\u001b[1;33m:\u001b[0m\u001b[1;33m\u001b[0m\u001b[1;33m\u001b[0m\u001b[0m\n",
      "\u001b[1;32m~\\anaconda3\\lib\\site-packages\\pandas\\core\\internals\\construction.py\u001b[0m in \u001b[0;36m_validate_or_indexify_columns\u001b[1;34m(content, columns)\u001b[0m\n\u001b[0;32m    953\u001b[0m             \u001b[1;31m# caller's responsibility to check for this...\u001b[0m\u001b[1;33m\u001b[0m\u001b[1;33m\u001b[0m\u001b[0m\n\u001b[1;32m--> 954\u001b[1;33m             raise AssertionError(\n\u001b[0m\u001b[0;32m    955\u001b[0m                 \u001b[1;34mf\"{len(columns)} columns passed, passed data had \"\u001b[0m\u001b[1;33m\u001b[0m\u001b[1;33m\u001b[0m\u001b[0m\n",
      "\u001b[1;31mAssertionError\u001b[0m: 23 columns passed, passed data had 31 columns",
      "\nThe above exception was the direct cause of the following exception:\n",
      "\u001b[1;31mValueError\u001b[0m                                Traceback (most recent call last)",
      "\u001b[1;32m~\\AppData\\Local\\Temp/ipykernel_6272/1945281787.py\u001b[0m in \u001b[0;36m<module>\u001b[1;34m\u001b[0m\n\u001b[1;32m----> 1\u001b[1;33m \u001b[0mdf\u001b[0m \u001b[1;33m=\u001b[0m \u001b[0mpd\u001b[0m\u001b[1;33m.\u001b[0m\u001b[0mDataFrame\u001b[0m\u001b[1;33m(\u001b[0m\u001b[0mbigLi\u001b[0m\u001b[1;33m,\u001b[0m\u001b[0mcolumns\u001b[0m\u001b[1;33m=\u001b[0m\u001b[1;33m[\u001b[0m\u001b[1;34m'names'\u001b[0m\u001b[1;33m,\u001b[0m \u001b[1;34m'apperance'\u001b[0m\u001b[1;33m,\u001b[0m \u001b[1;34m'goals'\u001b[0m\u001b[1;33m,\u001b[0m \u001b[1;34m'assists'\u001b[0m\u001b[1;33m,\u001b[0m \u001b[1;34m'yellow_card'\u001b[0m\u001b[1;33m,\u001b[0m \u001b[1;34m'2nd_ycard'\u001b[0m\u001b[1;33m,\u001b[0m \u001b[1;34m'red_card'\u001b[0m\u001b[1;33m,\u001b[0m \u001b[1;34m'drop'\u001b[0m\u001b[1;33m,\u001b[0m\u001b[1;34m'min'\u001b[0m\u001b[1;33m,\u001b[0m \u001b[1;34m'apperance_NT'\u001b[0m\u001b[1;33m,\u001b[0m \u001b[1;34m'goals_NT'\u001b[0m\u001b[1;33m,\u001b[0m \u001b[1;34m'assists_NT'\u001b[0m\u001b[1;33m,\u001b[0m \u001b[1;34m'yellow_card_NT'\u001b[0m\u001b[1;33m,\u001b[0m \u001b[1;34m'2nd_ycard_NT'\u001b[0m\u001b[1;33m,\u001b[0m \u001b[1;34m'red_card_NT'\u001b[0m\u001b[1;33m,\u001b[0m \u001b[1;34m'drop NT'\u001b[0m\u001b[1;33m,\u001b[0m\u001b[1;34m'min_NT'\u001b[0m\u001b[1;33m,\u001b[0m\u001b[1;34m'world_rank'\u001b[0m\u001b[1;33m,\u001b[0m \u001b[1;34m'league_rank'\u001b[0m\u001b[1;33m,\u001b[0m \u001b[1;34m'club_rank'\u001b[0m\u001b[1;33m,\u001b[0m \u001b[1;34m'National_rank'\u001b[0m\u001b[1;33m,\u001b[0m \u001b[1;34m'position_rank'\u001b[0m\u001b[1;33m,\u001b[0m \u001b[1;34m'Birthyear_rank'\u001b[0m\u001b[1;33m]\u001b[0m\u001b[1;33m)\u001b[0m\u001b[1;33m\u001b[0m\u001b[1;33m\u001b[0m\u001b[0m\n\u001b[0m",
      "\u001b[1;32m~\\anaconda3\\lib\\site-packages\\pandas\\core\\frame.py\u001b[0m in \u001b[0;36m__init__\u001b[1;34m(self, data, index, columns, dtype, copy)\u001b[0m\n\u001b[0;32m    692\u001b[0m                         \u001b[1;31m# ndarray], Index, Series], Sequence[Any]]\"\u001b[0m\u001b[1;33m\u001b[0m\u001b[1;33m\u001b[0m\u001b[0m\n\u001b[0;32m    693\u001b[0m                         \u001b[0mcolumns\u001b[0m \u001b[1;33m=\u001b[0m \u001b[0mensure_index\u001b[0m\u001b[1;33m(\u001b[0m\u001b[0mcolumns\u001b[0m\u001b[1;33m)\u001b[0m  \u001b[1;31m# type: ignore[arg-type]\u001b[0m\u001b[1;33m\u001b[0m\u001b[1;33m\u001b[0m\u001b[0m\n\u001b[1;32m--> 694\u001b[1;33m                     arrays, columns, index = nested_data_to_arrays(\n\u001b[0m\u001b[0;32m    695\u001b[0m                         \u001b[1;31m# error: Argument 3 to \"nested_data_to_arrays\" has incompatible\u001b[0m\u001b[1;33m\u001b[0m\u001b[1;33m\u001b[0m\u001b[0m\n\u001b[0;32m    696\u001b[0m                         \u001b[1;31m# type \"Optional[Collection[Any]]\"; expected \"Optional[Index]\"\u001b[0m\u001b[1;33m\u001b[0m\u001b[1;33m\u001b[0m\u001b[0m\n",
      "\u001b[1;32m~\\anaconda3\\lib\\site-packages\\pandas\\core\\internals\\construction.py\u001b[0m in \u001b[0;36mnested_data_to_arrays\u001b[1;34m(data, columns, index, dtype)\u001b[0m\n\u001b[0;32m    481\u001b[0m         \u001b[0mcolumns\u001b[0m \u001b[1;33m=\u001b[0m \u001b[0mensure_index\u001b[0m\u001b[1;33m(\u001b[0m\u001b[0mdata\u001b[0m\u001b[1;33m[\u001b[0m\u001b[1;36m0\u001b[0m\u001b[1;33m]\u001b[0m\u001b[1;33m.\u001b[0m\u001b[0m_fields\u001b[0m\u001b[1;33m)\u001b[0m\u001b[1;33m\u001b[0m\u001b[1;33m\u001b[0m\u001b[0m\n\u001b[0;32m    482\u001b[0m \u001b[1;33m\u001b[0m\u001b[0m\n\u001b[1;32m--> 483\u001b[1;33m     \u001b[0marrays\u001b[0m\u001b[1;33m,\u001b[0m \u001b[0mcolumns\u001b[0m \u001b[1;33m=\u001b[0m \u001b[0mto_arrays\u001b[0m\u001b[1;33m(\u001b[0m\u001b[0mdata\u001b[0m\u001b[1;33m,\u001b[0m \u001b[0mcolumns\u001b[0m\u001b[1;33m,\u001b[0m \u001b[0mdtype\u001b[0m\u001b[1;33m=\u001b[0m\u001b[0mdtype\u001b[0m\u001b[1;33m)\u001b[0m\u001b[1;33m\u001b[0m\u001b[1;33m\u001b[0m\u001b[0m\n\u001b[0m\u001b[0;32m    484\u001b[0m     \u001b[0mcolumns\u001b[0m \u001b[1;33m=\u001b[0m \u001b[0mensure_index\u001b[0m\u001b[1;33m(\u001b[0m\u001b[0mcolumns\u001b[0m\u001b[1;33m)\u001b[0m\u001b[1;33m\u001b[0m\u001b[1;33m\u001b[0m\u001b[0m\n\u001b[0;32m    485\u001b[0m \u001b[1;33m\u001b[0m\u001b[0m\n",
      "\u001b[1;32m~\\anaconda3\\lib\\site-packages\\pandas\\core\\internals\\construction.py\u001b[0m in \u001b[0;36mto_arrays\u001b[1;34m(data, columns, dtype)\u001b[0m\n\u001b[0;32m    805\u001b[0m         \u001b[0marr\u001b[0m \u001b[1;33m=\u001b[0m \u001b[0m_list_to_arrays\u001b[0m\u001b[1;33m(\u001b[0m\u001b[0mdata\u001b[0m\u001b[1;33m)\u001b[0m\u001b[1;33m\u001b[0m\u001b[1;33m\u001b[0m\u001b[0m\n\u001b[0;32m    806\u001b[0m \u001b[1;33m\u001b[0m\u001b[0m\n\u001b[1;32m--> 807\u001b[1;33m     \u001b[0mcontent\u001b[0m\u001b[1;33m,\u001b[0m \u001b[0mcolumns\u001b[0m \u001b[1;33m=\u001b[0m \u001b[0m_finalize_columns_and_data\u001b[0m\u001b[1;33m(\u001b[0m\u001b[0marr\u001b[0m\u001b[1;33m,\u001b[0m \u001b[0mcolumns\u001b[0m\u001b[1;33m,\u001b[0m \u001b[0mdtype\u001b[0m\u001b[1;33m)\u001b[0m\u001b[1;33m\u001b[0m\u001b[1;33m\u001b[0m\u001b[0m\n\u001b[0m\u001b[0;32m    808\u001b[0m     \u001b[1;32mreturn\u001b[0m \u001b[0mcontent\u001b[0m\u001b[1;33m,\u001b[0m \u001b[0mcolumns\u001b[0m\u001b[1;33m\u001b[0m\u001b[1;33m\u001b[0m\u001b[0m\n\u001b[0;32m    809\u001b[0m \u001b[1;33m\u001b[0m\u001b[0m\n",
      "\u001b[1;32m~\\anaconda3\\lib\\site-packages\\pandas\\core\\internals\\construction.py\u001b[0m in \u001b[0;36m_finalize_columns_and_data\u001b[1;34m(content, columns, dtype)\u001b[0m\n\u001b[0;32m    907\u001b[0m     \u001b[1;32mexcept\u001b[0m \u001b[0mAssertionError\u001b[0m \u001b[1;32mas\u001b[0m \u001b[0merr\u001b[0m\u001b[1;33m:\u001b[0m\u001b[1;33m\u001b[0m\u001b[1;33m\u001b[0m\u001b[0m\n\u001b[0;32m    908\u001b[0m         \u001b[1;31m# GH#26429 do not raise user-facing AssertionError\u001b[0m\u001b[1;33m\u001b[0m\u001b[1;33m\u001b[0m\u001b[0m\n\u001b[1;32m--> 909\u001b[1;33m         \u001b[1;32mraise\u001b[0m \u001b[0mValueError\u001b[0m\u001b[1;33m(\u001b[0m\u001b[0merr\u001b[0m\u001b[1;33m)\u001b[0m \u001b[1;32mfrom\u001b[0m \u001b[0merr\u001b[0m\u001b[1;33m\u001b[0m\u001b[1;33m\u001b[0m\u001b[0m\n\u001b[0m\u001b[0;32m    910\u001b[0m \u001b[1;33m\u001b[0m\u001b[0m\n\u001b[0;32m    911\u001b[0m     \u001b[1;32mif\u001b[0m \u001b[0mlen\u001b[0m\u001b[1;33m(\u001b[0m\u001b[0mcontents\u001b[0m\u001b[1;33m)\u001b[0m \u001b[1;32mand\u001b[0m \u001b[0mcontents\u001b[0m\u001b[1;33m[\u001b[0m\u001b[1;36m0\u001b[0m\u001b[1;33m]\u001b[0m\u001b[1;33m.\u001b[0m\u001b[0mdtype\u001b[0m \u001b[1;33m==\u001b[0m \u001b[0mnp\u001b[0m\u001b[1;33m.\u001b[0m\u001b[0mobject_\u001b[0m\u001b[1;33m:\u001b[0m\u001b[1;33m\u001b[0m\u001b[1;33m\u001b[0m\u001b[0m\n",
      "\u001b[1;31mValueError\u001b[0m: 23 columns passed, passed data had 31 columns"
     ]
    }
   ],
   "source": [
    "df = pd.DataFrame(bigLi,columns=['names', 'apperance', 'goals', 'assists', 'yellow_card', '2nd_ycard', 'red_card', 'drop','min', 'apperance_NT', 'goals_NT', 'assists_NT', 'yellow_card_NT', '2nd_ycard_NT', 'red_card_NT', 'drop NT','min_NT','world_rank', 'league_rank', 'club_rank', 'National_rank', 'position_rank', 'Birthyear_rank'])                                     "
   ]
  },
  {
   "cell_type": "code",
   "execution_count": null,
   "id": "f0c244e7",
   "metadata": {
    "ExecuteTime": {
     "end_time": "2022-09-16T21:22:17.137769Z",
     "start_time": "2022-09-16T21:22:17.137769Z"
    }
   },
   "outputs": [],
   "source": [
    "df.drop(['drop', 'drop NT'], axis= 1, inplace=True)"
   ]
  },
  {
   "cell_type": "code",
   "execution_count": null,
   "id": "a9b34d21",
   "metadata": {
    "ExecuteTime": {
     "end_time": "2022-09-16T21:22:17.138765Z",
     "start_time": "2022-09-16T21:22:17.138765Z"
    }
   },
   "outputs": [],
   "source": [
    "df.replace('-',0, inplace=True)"
   ]
  },
  {
   "cell_type": "code",
   "execution_count": null,
   "id": "88434cfb",
   "metadata": {
    "ExecuteTime": {
     "end_time": "2022-09-16T21:22:17.138765Z",
     "start_time": "2022-09-16T21:22:17.138765Z"
    }
   },
   "outputs": [],
   "source": [
    "#data = data.append(df, ignore_index=True)"
   ]
  },
  {
   "cell_type": "code",
   "execution_count": null,
   "id": "667b05ac",
   "metadata": {
    "ExecuteTime": {
     "end_time": "2022-09-16T21:22:17.139762Z",
     "start_time": "2022-09-16T21:22:17.139762Z"
    }
   },
   "outputs": [],
   "source": [
    "df.to_csv('scraped_data')"
   ]
  },
  {
   "cell_type": "code",
   "execution_count": null,
   "id": "14d1d4d0",
   "metadata": {
    "ExecuteTime": {
     "end_time": "2022-09-16T21:22:17.140759Z",
     "start_time": "2022-09-16T21:22:17.140759Z"
    }
   },
   "outputs": [],
   "source": [
    "data = pd.read_csv('scraped_data')"
   ]
  },
  {
   "cell_type": "code",
   "execution_count": null,
   "id": "f309d6a8",
   "metadata": {
    "ExecuteTime": {
     "end_time": "2022-09-16T21:22:17.141758Z",
     "start_time": "2022-09-16T21:22:17.141758Z"
    }
   },
   "outputs": [],
   "source": [
    "data.drop(data.columns[0], axis=1, inplace= True)"
   ]
  },
  {
   "cell_type": "code",
   "execution_count": null,
   "id": "ebc1f29f",
   "metadata": {
    "ExecuteTime": {
     "end_time": "2022-09-16T21:22:17.142755Z",
     "start_time": "2022-09-16T21:22:17.142755Z"
    }
   },
   "outputs": [],
   "source": [
    "data.shape"
   ]
  },
  {
   "cell_type": "code",
   "execution_count": null,
   "id": "fec831ca",
   "metadata": {
    "ExecuteTime": {
     "end_time": "2022-09-16T21:22:17.143752Z",
     "start_time": "2022-09-16T21:22:17.143752Z"
    },
    "scrolled": false
   },
   "outputs": [],
   "source": [
    "data.head()"
   ]
  },
  {
   "cell_type": "code",
   "execution_count": null,
   "id": "45737f23",
   "metadata": {
    "ExecuteTime": {
     "end_time": "2022-09-16T21:22:17.143752Z",
     "start_time": "2022-09-16T21:22:17.143752Z"
    },
    "scrolled": false
   },
   "outputs": [],
   "source": [
    "data.tail()"
   ]
  },
  {
   "cell_type": "code",
   "execution_count": null,
   "id": "a47a98a1",
   "metadata": {},
   "outputs": [],
   "source": []
  },
  {
   "cell_type": "code",
   "execution_count": null,
   "id": "096e1886",
   "metadata": {},
   "outputs": [],
   "source": []
  }
 ],
 "metadata": {
  "kernelspec": {
   "display_name": "Python 3 (ipykernel)",
   "language": "python",
   "name": "python3"
  },
  "language_info": {
   "codemirror_mode": {
    "name": "ipython",
    "version": 3
   },
   "file_extension": ".py",
   "mimetype": "text/x-python",
   "name": "python",
   "nbconvert_exporter": "python",
   "pygments_lexer": "ipython3",
   "version": "3.9.7"
  }
 },
 "nbformat": 4,
 "nbformat_minor": 5
}
