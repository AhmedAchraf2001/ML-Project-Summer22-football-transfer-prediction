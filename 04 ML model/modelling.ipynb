{
  "cells": [
    {
      "cell_type": "markdown",
      "id": "41f84f19",
      "metadata": {
        "id": "41f84f19"
      },
      "source": [
        "# Regression model on cost feature"
      ]
    },
    {
      "cell_type": "code",
      "execution_count": 103,
      "id": "327688a2",
      "metadata": {
        "ExecuteTime": {
          "end_time": "2022-09-20T06:18:36.470465Z",
          "start_time": "2022-09-20T06:18:36.466476Z"
        },
        "id": "327688a2"
      },
      "outputs": [],
      "source": [
        "import pandas as pd\n",
        "import numpy as np\n",
        "import requests, io\n",
        "import seaborn as sns\n",
        "import matplotlib.pyplot as plt\n",
        "from sklearn.preprocessing import OneHotEncoder\n",
        "from sklearn.preprocessing import StandardScaler, normalize"
      ]
    },
    {
      "cell_type": "code",
      "execution_count": 216,
      "id": "bd8b1406",
      "metadata": {
        "ExecuteTime": {
          "end_time": "2022-09-20T06:18:36.539282Z",
          "start_time": "2022-09-20T06:18:36.471463Z"
        },
        "id": "bd8b1406"
      },
      "outputs": [],
      "source": [
        "data = pd.read_csv('/content/data.csv')\n",
        "data.drop('Unnamed: 0', axis = 1 , inplace= True)"
      ]
    },
    {
      "cell_type": "code",
      "execution_count": 217,
      "id": "4493155d",
      "metadata": {
        "ExecuteTime": {
          "end_time": "2022-09-20T06:18:36.548258Z",
          "start_time": "2022-09-20T06:18:36.541276Z"
        },
        "id": "4493155d"
      },
      "outputs": [],
      "source": [
        "data.drop(data.columns[0], axis = 1 , inplace= True)"
      ]
    },
    {
      "cell_type": "code",
      "execution_count": 180,
      "id": "5a5769f0",
      "metadata": {
        "ExecuteTime": {
          "end_time": "2022-09-20T06:18:36.569202Z",
          "start_time": "2022-09-20T06:18:36.549256Z"
        },
        "colab": {
          "base_uri": "https://localhost:8080/",
          "height": 383
        },
        "id": "5a5769f0",
        "outputId": "ed69cdf0-04d6-4007-acfd-0d7112798b77"
      },
      "outputs": [
        {
          "output_type": "execute_result",
          "data": {
            "text/plain": [
              "   apperance  goals  assists  yellow_card  2nd_ycard  red_card      min  \\\n",
              "0         37      0        3            8          0         0   2947.0   \n",
              "1        130      5        5           15          1         0  10770.0   \n",
              "2        167      1       15           16          0         0  13304.0   \n",
              "3         15      3        0            2          0         0    341.0   \n",
              "4         40      4        3            9          0         0   2478.0   \n",
              "5         60      4        1            6          0         1   4788.0   \n",
              "6        213     17       21           20          1         0  14912.0   \n",
              "7         68      5        4            6          2         0   4787.0   \n",
              "8        117      8       10           14          0         0   5788.0   \n",
              "9         49     14        3           12          0         1   3082.0   \n",
              "\n",
              "   apperance_NT  goals_NT  assists_NT  yellow_card_NT  2nd_ycard_NT  \\\n",
              "0             6         0           1               0             0   \n",
              "1             5         0           0               1             0   \n",
              "2             6         0           1               1             0   \n",
              "3             0         0           0               0             0   \n",
              "4             9         1           1               1             0   \n",
              "5             0         0           0               0             0   \n",
              "6             4         1           0               0             0   \n",
              "7             9         1           3               1             0   \n",
              "8             0         0           0               0             0   \n",
              "9             0         0           0               0             0   \n",
              "\n",
              "   red_card_NT  min_NT         age  position  country      cost  National_Team  \n",
              "0            0   152.0  Goalkeeper      23.0    Egypt  500000.0              1  \n",
              "1            0   207.0    midfield      26.0    Egypt  500000.0              1  \n",
              "2            0   424.0    midfield      21.0    Egypt  150000.0              1  \n",
              "3            0     0.0      attack      24.0    Egypt  200000.0              0  \n",
              "4            0   487.0    midfield      19.0   Russia  250000.0              1  \n",
              "5            0     0.0     defence      19.0    Italy  200000.0              0  \n",
              "6            0   193.0    midfield      25.0  England  450000.0              1  \n",
              "7            0   626.0     defence      24.0  Ukraine  400000.0              1  \n",
              "8            0     0.0      attack      25.0  Ukraine  500000.0              0  \n",
              "9            0     0.0      attack      25.0    Spain  400000.0              0  "
            ],
            "text/html": [
              "\n",
              "  <div id=\"df-13b1f1a5-d5c1-47f5-81af-a1ed687349d9\" class=\"colab-df-container\">\n",
              "    <div>\n",
              "<style scoped>\n",
              "    .dataframe tbody tr th:only-of-type {\n",
              "        vertical-align: middle;\n",
              "    }\n",
              "\n",
              "    .dataframe tbody tr th {\n",
              "        vertical-align: top;\n",
              "    }\n",
              "\n",
              "    .dataframe thead th {\n",
              "        text-align: right;\n",
              "    }\n",
              "</style>\n",
              "<table border=\"1\" class=\"dataframe\">\n",
              "  <thead>\n",
              "    <tr style=\"text-align: right;\">\n",
              "      <th></th>\n",
              "      <th>apperance</th>\n",
              "      <th>goals</th>\n",
              "      <th>assists</th>\n",
              "      <th>yellow_card</th>\n",
              "      <th>2nd_ycard</th>\n",
              "      <th>red_card</th>\n",
              "      <th>min</th>\n",
              "      <th>apperance_NT</th>\n",
              "      <th>goals_NT</th>\n",
              "      <th>assists_NT</th>\n",
              "      <th>yellow_card_NT</th>\n",
              "      <th>2nd_ycard_NT</th>\n",
              "      <th>red_card_NT</th>\n",
              "      <th>min_NT</th>\n",
              "      <th>age</th>\n",
              "      <th>position</th>\n",
              "      <th>country</th>\n",
              "      <th>cost</th>\n",
              "      <th>National_Team</th>\n",
              "    </tr>\n",
              "  </thead>\n",
              "  <tbody>\n",
              "    <tr>\n",
              "      <th>0</th>\n",
              "      <td>37</td>\n",
              "      <td>0</td>\n",
              "      <td>3</td>\n",
              "      <td>8</td>\n",
              "      <td>0</td>\n",
              "      <td>0</td>\n",
              "      <td>2947.0</td>\n",
              "      <td>6</td>\n",
              "      <td>0</td>\n",
              "      <td>1</td>\n",
              "      <td>0</td>\n",
              "      <td>0</td>\n",
              "      <td>0</td>\n",
              "      <td>152.0</td>\n",
              "      <td>Goalkeeper</td>\n",
              "      <td>23.0</td>\n",
              "      <td>Egypt</td>\n",
              "      <td>500000.0</td>\n",
              "      <td>1</td>\n",
              "    </tr>\n",
              "    <tr>\n",
              "      <th>1</th>\n",
              "      <td>130</td>\n",
              "      <td>5</td>\n",
              "      <td>5</td>\n",
              "      <td>15</td>\n",
              "      <td>1</td>\n",
              "      <td>0</td>\n",
              "      <td>10770.0</td>\n",
              "      <td>5</td>\n",
              "      <td>0</td>\n",
              "      <td>0</td>\n",
              "      <td>1</td>\n",
              "      <td>0</td>\n",
              "      <td>0</td>\n",
              "      <td>207.0</td>\n",
              "      <td>midfield</td>\n",
              "      <td>26.0</td>\n",
              "      <td>Egypt</td>\n",
              "      <td>500000.0</td>\n",
              "      <td>1</td>\n",
              "    </tr>\n",
              "    <tr>\n",
              "      <th>2</th>\n",
              "      <td>167</td>\n",
              "      <td>1</td>\n",
              "      <td>15</td>\n",
              "      <td>16</td>\n",
              "      <td>0</td>\n",
              "      <td>0</td>\n",
              "      <td>13304.0</td>\n",
              "      <td>6</td>\n",
              "      <td>0</td>\n",
              "      <td>1</td>\n",
              "      <td>1</td>\n",
              "      <td>0</td>\n",
              "      <td>0</td>\n",
              "      <td>424.0</td>\n",
              "      <td>midfield</td>\n",
              "      <td>21.0</td>\n",
              "      <td>Egypt</td>\n",
              "      <td>150000.0</td>\n",
              "      <td>1</td>\n",
              "    </tr>\n",
              "    <tr>\n",
              "      <th>3</th>\n",
              "      <td>15</td>\n",
              "      <td>3</td>\n",
              "      <td>0</td>\n",
              "      <td>2</td>\n",
              "      <td>0</td>\n",
              "      <td>0</td>\n",
              "      <td>341.0</td>\n",
              "      <td>0</td>\n",
              "      <td>0</td>\n",
              "      <td>0</td>\n",
              "      <td>0</td>\n",
              "      <td>0</td>\n",
              "      <td>0</td>\n",
              "      <td>0.0</td>\n",
              "      <td>attack</td>\n",
              "      <td>24.0</td>\n",
              "      <td>Egypt</td>\n",
              "      <td>200000.0</td>\n",
              "      <td>0</td>\n",
              "    </tr>\n",
              "    <tr>\n",
              "      <th>4</th>\n",
              "      <td>40</td>\n",
              "      <td>4</td>\n",
              "      <td>3</td>\n",
              "      <td>9</td>\n",
              "      <td>0</td>\n",
              "      <td>0</td>\n",
              "      <td>2478.0</td>\n",
              "      <td>9</td>\n",
              "      <td>1</td>\n",
              "      <td>1</td>\n",
              "      <td>1</td>\n",
              "      <td>0</td>\n",
              "      <td>0</td>\n",
              "      <td>487.0</td>\n",
              "      <td>midfield</td>\n",
              "      <td>19.0</td>\n",
              "      <td>Russia</td>\n",
              "      <td>250000.0</td>\n",
              "      <td>1</td>\n",
              "    </tr>\n",
              "    <tr>\n",
              "      <th>5</th>\n",
              "      <td>60</td>\n",
              "      <td>4</td>\n",
              "      <td>1</td>\n",
              "      <td>6</td>\n",
              "      <td>0</td>\n",
              "      <td>1</td>\n",
              "      <td>4788.0</td>\n",
              "      <td>0</td>\n",
              "      <td>0</td>\n",
              "      <td>0</td>\n",
              "      <td>0</td>\n",
              "      <td>0</td>\n",
              "      <td>0</td>\n",
              "      <td>0.0</td>\n",
              "      <td>defence</td>\n",
              "      <td>19.0</td>\n",
              "      <td>Italy</td>\n",
              "      <td>200000.0</td>\n",
              "      <td>0</td>\n",
              "    </tr>\n",
              "    <tr>\n",
              "      <th>6</th>\n",
              "      <td>213</td>\n",
              "      <td>17</td>\n",
              "      <td>21</td>\n",
              "      <td>20</td>\n",
              "      <td>1</td>\n",
              "      <td>0</td>\n",
              "      <td>14912.0</td>\n",
              "      <td>4</td>\n",
              "      <td>1</td>\n",
              "      <td>0</td>\n",
              "      <td>0</td>\n",
              "      <td>0</td>\n",
              "      <td>0</td>\n",
              "      <td>193.0</td>\n",
              "      <td>midfield</td>\n",
              "      <td>25.0</td>\n",
              "      <td>England</td>\n",
              "      <td>450000.0</td>\n",
              "      <td>1</td>\n",
              "    </tr>\n",
              "    <tr>\n",
              "      <th>7</th>\n",
              "      <td>68</td>\n",
              "      <td>5</td>\n",
              "      <td>4</td>\n",
              "      <td>6</td>\n",
              "      <td>2</td>\n",
              "      <td>0</td>\n",
              "      <td>4787.0</td>\n",
              "      <td>9</td>\n",
              "      <td>1</td>\n",
              "      <td>3</td>\n",
              "      <td>1</td>\n",
              "      <td>0</td>\n",
              "      <td>0</td>\n",
              "      <td>626.0</td>\n",
              "      <td>defence</td>\n",
              "      <td>24.0</td>\n",
              "      <td>Ukraine</td>\n",
              "      <td>400000.0</td>\n",
              "      <td>1</td>\n",
              "    </tr>\n",
              "    <tr>\n",
              "      <th>8</th>\n",
              "      <td>117</td>\n",
              "      <td>8</td>\n",
              "      <td>10</td>\n",
              "      <td>14</td>\n",
              "      <td>0</td>\n",
              "      <td>0</td>\n",
              "      <td>5788.0</td>\n",
              "      <td>0</td>\n",
              "      <td>0</td>\n",
              "      <td>0</td>\n",
              "      <td>0</td>\n",
              "      <td>0</td>\n",
              "      <td>0</td>\n",
              "      <td>0.0</td>\n",
              "      <td>attack</td>\n",
              "      <td>25.0</td>\n",
              "      <td>Ukraine</td>\n",
              "      <td>500000.0</td>\n",
              "      <td>0</td>\n",
              "    </tr>\n",
              "    <tr>\n",
              "      <th>9</th>\n",
              "      <td>49</td>\n",
              "      <td>14</td>\n",
              "      <td>3</td>\n",
              "      <td>12</td>\n",
              "      <td>0</td>\n",
              "      <td>1</td>\n",
              "      <td>3082.0</td>\n",
              "      <td>0</td>\n",
              "      <td>0</td>\n",
              "      <td>0</td>\n",
              "      <td>0</td>\n",
              "      <td>0</td>\n",
              "      <td>0</td>\n",
              "      <td>0.0</td>\n",
              "      <td>attack</td>\n",
              "      <td>25.0</td>\n",
              "      <td>Spain</td>\n",
              "      <td>400000.0</td>\n",
              "      <td>0</td>\n",
              "    </tr>\n",
              "  </tbody>\n",
              "</table>\n",
              "</div>\n",
              "    <div class=\"colab-df-buttons\">\n",
              "\n",
              "  <div class=\"colab-df-container\">\n",
              "    <button class=\"colab-df-convert\" onclick=\"convertToInteractive('df-13b1f1a5-d5c1-47f5-81af-a1ed687349d9')\"\n",
              "            title=\"Convert this dataframe to an interactive table.\"\n",
              "            style=\"display:none;\">\n",
              "\n",
              "  <svg xmlns=\"http://www.w3.org/2000/svg\" height=\"24px\" viewBox=\"0 -960 960 960\">\n",
              "    <path d=\"M120-120v-720h720v720H120Zm60-500h600v-160H180v160Zm220 220h160v-160H400v160Zm0 220h160v-160H400v160ZM180-400h160v-160H180v160Zm440 0h160v-160H620v160ZM180-180h160v-160H180v160Zm440 0h160v-160H620v160Z\"/>\n",
              "  </svg>\n",
              "    </button>\n",
              "\n",
              "  <style>\n",
              "    .colab-df-container {\n",
              "      display:flex;\n",
              "      gap: 12px;\n",
              "    }\n",
              "\n",
              "    .colab-df-convert {\n",
              "      background-color: #E8F0FE;\n",
              "      border: none;\n",
              "      border-radius: 50%;\n",
              "      cursor: pointer;\n",
              "      display: none;\n",
              "      fill: #1967D2;\n",
              "      height: 32px;\n",
              "      padding: 0 0 0 0;\n",
              "      width: 32px;\n",
              "    }\n",
              "\n",
              "    .colab-df-convert:hover {\n",
              "      background-color: #E2EBFA;\n",
              "      box-shadow: 0px 1px 2px rgba(60, 64, 67, 0.3), 0px 1px 3px 1px rgba(60, 64, 67, 0.15);\n",
              "      fill: #174EA6;\n",
              "    }\n",
              "\n",
              "    .colab-df-buttons div {\n",
              "      margin-bottom: 4px;\n",
              "    }\n",
              "\n",
              "    [theme=dark] .colab-df-convert {\n",
              "      background-color: #3B4455;\n",
              "      fill: #D2E3FC;\n",
              "    }\n",
              "\n",
              "    [theme=dark] .colab-df-convert:hover {\n",
              "      background-color: #434B5C;\n",
              "      box-shadow: 0px 1px 3px 1px rgba(0, 0, 0, 0.15);\n",
              "      filter: drop-shadow(0px 1px 2px rgba(0, 0, 0, 0.3));\n",
              "      fill: #FFFFFF;\n",
              "    }\n",
              "  </style>\n",
              "\n",
              "    <script>\n",
              "      const buttonEl =\n",
              "        document.querySelector('#df-13b1f1a5-d5c1-47f5-81af-a1ed687349d9 button.colab-df-convert');\n",
              "      buttonEl.style.display =\n",
              "        google.colab.kernel.accessAllowed ? 'block' : 'none';\n",
              "\n",
              "      async function convertToInteractive(key) {\n",
              "        const element = document.querySelector('#df-13b1f1a5-d5c1-47f5-81af-a1ed687349d9');\n",
              "        const dataTable =\n",
              "          await google.colab.kernel.invokeFunction('convertToInteractive',\n",
              "                                                    [key], {});\n",
              "        if (!dataTable) return;\n",
              "\n",
              "        const docLinkHtml = 'Like what you see? Visit the ' +\n",
              "          '<a target=\"_blank\" href=https://colab.research.google.com/notebooks/data_table.ipynb>data table notebook</a>'\n",
              "          + ' to learn more about interactive tables.';\n",
              "        element.innerHTML = '';\n",
              "        dataTable['output_type'] = 'display_data';\n",
              "        await google.colab.output.renderOutput(dataTable, element);\n",
              "        const docLink = document.createElement('div');\n",
              "        docLink.innerHTML = docLinkHtml;\n",
              "        element.appendChild(docLink);\n",
              "      }\n",
              "    </script>\n",
              "  </div>\n",
              "\n",
              "\n",
              "<div id=\"df-f3e2f737-639a-4ad0-9b16-0d6b2da71da0\">\n",
              "  <button class=\"colab-df-quickchart\" onclick=\"quickchart('df-f3e2f737-639a-4ad0-9b16-0d6b2da71da0')\"\n",
              "            title=\"Suggest charts\"\n",
              "            style=\"display:none;\">\n",
              "\n",
              "<svg xmlns=\"http://www.w3.org/2000/svg\" height=\"24px\"viewBox=\"0 0 24 24\"\n",
              "     width=\"24px\">\n",
              "    <g>\n",
              "        <path d=\"M19 3H5c-1.1 0-2 .9-2 2v14c0 1.1.9 2 2 2h14c1.1 0 2-.9 2-2V5c0-1.1-.9-2-2-2zM9 17H7v-7h2v7zm4 0h-2V7h2v10zm4 0h-2v-4h2v4z\"/>\n",
              "    </g>\n",
              "</svg>\n",
              "  </button>\n",
              "\n",
              "<style>\n",
              "  .colab-df-quickchart {\n",
              "      --bg-color: #E8F0FE;\n",
              "      --fill-color: #1967D2;\n",
              "      --hover-bg-color: #E2EBFA;\n",
              "      --hover-fill-color: #174EA6;\n",
              "      --disabled-fill-color: #AAA;\n",
              "      --disabled-bg-color: #DDD;\n",
              "  }\n",
              "\n",
              "  [theme=dark] .colab-df-quickchart {\n",
              "      --bg-color: #3B4455;\n",
              "      --fill-color: #D2E3FC;\n",
              "      --hover-bg-color: #434B5C;\n",
              "      --hover-fill-color: #FFFFFF;\n",
              "      --disabled-bg-color: #3B4455;\n",
              "      --disabled-fill-color: #666;\n",
              "  }\n",
              "\n",
              "  .colab-df-quickchart {\n",
              "    background-color: var(--bg-color);\n",
              "    border: none;\n",
              "    border-radius: 50%;\n",
              "    cursor: pointer;\n",
              "    display: none;\n",
              "    fill: var(--fill-color);\n",
              "    height: 32px;\n",
              "    padding: 0;\n",
              "    width: 32px;\n",
              "  }\n",
              "\n",
              "  .colab-df-quickchart:hover {\n",
              "    background-color: var(--hover-bg-color);\n",
              "    box-shadow: 0 1px 2px rgba(60, 64, 67, 0.3), 0 1px 3px 1px rgba(60, 64, 67, 0.15);\n",
              "    fill: var(--button-hover-fill-color);\n",
              "  }\n",
              "\n",
              "  .colab-df-quickchart-complete:disabled,\n",
              "  .colab-df-quickchart-complete:disabled:hover {\n",
              "    background-color: var(--disabled-bg-color);\n",
              "    fill: var(--disabled-fill-color);\n",
              "    box-shadow: none;\n",
              "  }\n",
              "\n",
              "  .colab-df-spinner {\n",
              "    border: 2px solid var(--fill-color);\n",
              "    border-color: transparent;\n",
              "    border-bottom-color: var(--fill-color);\n",
              "    animation:\n",
              "      spin 1s steps(1) infinite;\n",
              "  }\n",
              "\n",
              "  @keyframes spin {\n",
              "    0% {\n",
              "      border-color: transparent;\n",
              "      border-bottom-color: var(--fill-color);\n",
              "      border-left-color: var(--fill-color);\n",
              "    }\n",
              "    20% {\n",
              "      border-color: transparent;\n",
              "      border-left-color: var(--fill-color);\n",
              "      border-top-color: var(--fill-color);\n",
              "    }\n",
              "    30% {\n",
              "      border-color: transparent;\n",
              "      border-left-color: var(--fill-color);\n",
              "      border-top-color: var(--fill-color);\n",
              "      border-right-color: var(--fill-color);\n",
              "    }\n",
              "    40% {\n",
              "      border-color: transparent;\n",
              "      border-right-color: var(--fill-color);\n",
              "      border-top-color: var(--fill-color);\n",
              "    }\n",
              "    60% {\n",
              "      border-color: transparent;\n",
              "      border-right-color: var(--fill-color);\n",
              "    }\n",
              "    80% {\n",
              "      border-color: transparent;\n",
              "      border-right-color: var(--fill-color);\n",
              "      border-bottom-color: var(--fill-color);\n",
              "    }\n",
              "    90% {\n",
              "      border-color: transparent;\n",
              "      border-bottom-color: var(--fill-color);\n",
              "    }\n",
              "  }\n",
              "</style>\n",
              "\n",
              "  <script>\n",
              "    async function quickchart(key) {\n",
              "      const quickchartButtonEl =\n",
              "        document.querySelector('#' + key + ' button');\n",
              "      quickchartButtonEl.disabled = true;  // To prevent multiple clicks.\n",
              "      quickchartButtonEl.classList.add('colab-df-spinner');\n",
              "      try {\n",
              "        const charts = await google.colab.kernel.invokeFunction(\n",
              "            'suggestCharts', [key], {});\n",
              "      } catch (error) {\n",
              "        console.error('Error during call to suggestCharts:', error);\n",
              "      }\n",
              "      quickchartButtonEl.classList.remove('colab-df-spinner');\n",
              "      quickchartButtonEl.classList.add('colab-df-quickchart-complete');\n",
              "    }\n",
              "    (() => {\n",
              "      let quickchartButtonEl =\n",
              "        document.querySelector('#df-f3e2f737-639a-4ad0-9b16-0d6b2da71da0 button');\n",
              "      quickchartButtonEl.style.display =\n",
              "        google.colab.kernel.accessAllowed ? 'block' : 'none';\n",
              "    })();\n",
              "  </script>\n",
              "</div>\n",
              "\n",
              "    </div>\n",
              "  </div>\n"
            ],
            "application/vnd.google.colaboratory.intrinsic+json": {
              "type": "dataframe",
              "variable_name": "data",
              "repr_error": "Out of range float values are not JSON compliant: inf"
            }
          },
          "metadata": {},
          "execution_count": 180
        }
      ],
      "source": [
        "data.head(10)"
      ]
    },
    {
      "cell_type": "code",
      "execution_count": 181,
      "id": "3dac5b4e",
      "metadata": {
        "ExecuteTime": {
          "end_time": "2022-09-20T06:18:36.577181Z",
          "start_time": "2022-09-20T06:18:36.569202Z"
        },
        "scrolled": false,
        "colab": {
          "base_uri": "https://localhost:8080/"
        },
        "id": "3dac5b4e",
        "outputId": "542ed93b-a9c3-4596-e5c4-9dd5814efb7e"
      },
      "outputs": [
        {
          "output_type": "execute_result",
          "data": {
            "text/plain": [
              "apperance           0\n",
              "goals               0\n",
              "assists             0\n",
              "yellow_card         0\n",
              "2nd_ycard           0\n",
              "red_card            0\n",
              "min                 0\n",
              "apperance_NT        0\n",
              "goals_NT            0\n",
              "assists_NT          0\n",
              "yellow_card_NT      0\n",
              "2nd_ycard_NT        0\n",
              "red_card_NT         0\n",
              "min_NT              0\n",
              "age                 0\n",
              "position            0\n",
              "country           925\n",
              "cost                0\n",
              "National_Team       0\n",
              "dtype: int64"
            ]
          },
          "metadata": {},
          "execution_count": 181
        }
      ],
      "source": [
        "data.isna().sum()"
      ]
    },
    {
      "cell_type": "markdown",
      "id": "f47a0789",
      "metadata": {
        "id": "f47a0789"
      },
      "source": [
        "#"
      ]
    },
    {
      "cell_type": "markdown",
      "id": "8feb507c",
      "metadata": {
        "id": "8feb507c"
      },
      "source": [
        "### data preprocessing"
      ]
    },
    {
      "cell_type": "code",
      "execution_count": 219,
      "id": "7db883d4",
      "metadata": {
        "ExecuteTime": {
          "end_time": "2022-09-20T06:18:36.583164Z",
          "start_time": "2022-09-20T06:18:36.578177Z"
        },
        "id": "7db883d4"
      },
      "outputs": [],
      "source": [
        "data.rename(columns={'position':'Age'}, inplace= True)\n",
        "data.rename(columns={'age':'position'}, inplace= True)\n",
        "data.rename(columns={'Age':'age'}, inplace= True)"
      ]
    },
    {
      "cell_type": "code",
      "execution_count": 220,
      "id": "f3def153",
      "metadata": {
        "ExecuteTime": {
          "end_time": "2022-09-20T06:18:36.592141Z",
          "start_time": "2022-09-20T06:18:36.584162Z"
        },
        "colab": {
          "base_uri": "https://localhost:8080/"
        },
        "id": "f3def153",
        "outputId": "b8b42264-534c-4fe2-f511-228ee8ec3034"
      },
      "outputs": [
        {
          "output_type": "execute_result",
          "data": {
            "text/plain": [
              "position\n",
              "defence       8866\n",
              "midfield      8422\n",
              "attack        8400\n",
              "Goalkeeper    2958\n",
              "GoalKeeper       1\n",
              "Name: count, dtype: int64"
            ]
          },
          "metadata": {},
          "execution_count": 220
        }
      ],
      "source": [
        "data.position.value_counts()"
      ]
    },
    {
      "cell_type": "code",
      "execution_count": 221,
      "id": "49382340",
      "metadata": {
        "ExecuteTime": {
          "end_time": "2022-09-20T06:18:36.602118Z",
          "start_time": "2022-09-20T06:18:36.593137Z"
        },
        "id": "49382340"
      },
      "outputs": [],
      "source": [
        "data.replace({'position':{'GoalKeeper':'Goalkeeper'}}, inplace= True)"
      ]
    },
    {
      "cell_type": "code",
      "execution_count": 185,
      "id": "da3991e6",
      "metadata": {
        "ExecuteTime": {
          "end_time": "2022-09-20T06:18:36.608098Z",
          "start_time": "2022-09-20T06:18:36.603111Z"
        },
        "colab": {
          "base_uri": "https://localhost:8080/"
        },
        "id": "da3991e6",
        "outputId": "4466467a-59c5-474b-d091-f3fc0b6276d4"
      },
      "outputs": [
        {
          "output_type": "execute_result",
          "data": {
            "text/plain": [
              "(28647, 19)"
            ]
          },
          "metadata": {},
          "execution_count": 185
        }
      ],
      "source": [
        "data.shape"
      ]
    },
    {
      "cell_type": "code",
      "execution_count": 222,
      "id": "9d1dc103",
      "metadata": {
        "ExecuteTime": {
          "end_time": "2022-09-20T06:18:36.618071Z",
          "start_time": "2022-09-20T06:18:36.610092Z"
        },
        "id": "9d1dc103"
      },
      "outputs": [],
      "source": [
        "dummie = pd.get_dummies(data.position)"
      ]
    },
    {
      "cell_type": "code",
      "execution_count": 223,
      "id": "bd55aaca",
      "metadata": {
        "ExecuteTime": {
          "end_time": "2022-09-20T06:18:36.625057Z",
          "start_time": "2022-09-20T06:18:36.619068Z"
        },
        "id": "bd55aaca"
      },
      "outputs": [],
      "source": [
        "data = pd.concat([data, dummie], axis = 1)"
      ]
    },
    {
      "cell_type": "code",
      "execution_count": 224,
      "id": "8045a56f",
      "metadata": {
        "ExecuteTime": {
          "end_time": "2022-09-20T06:18:36.637024Z",
          "start_time": "2022-09-20T06:18:36.626049Z"
        },
        "id": "8045a56f"
      },
      "outputs": [],
      "source": [
        "data.drop(['country', 'position','red_card_NT','2nd_ycard_NT','yellow_card_NT','red_card','2nd_ycard','yellow_card'], axis= 1 , inplace= True)"
      ]
    },
    {
      "cell_type": "code",
      "execution_count": 225,
      "id": "9b178fbf",
      "metadata": {
        "ExecuteTime": {
          "end_time": "2022-09-20T06:18:36.647992Z",
          "start_time": "2022-09-20T06:18:36.638018Z"
        },
        "scrolled": false,
        "colab": {
          "base_uri": "https://localhost:8080/",
          "height": 161
        },
        "id": "9b178fbf",
        "outputId": "cfcf80bd-14fa-43b6-d341-8314c0e3fcf4"
      },
      "outputs": [
        {
          "output_type": "execute_result",
          "data": {
            "text/plain": [
              "   apperance  goals  assists  yellow_card  2nd_ycard  red_card      min  \\\n",
              "0         37      0        3            8          0         0   2947.0   \n",
              "1        130      5        5           15          1         0  10770.0   \n",
              "\n",
              "   apperance_NT  goals_NT  assists_NT  ...  2nd_ycard_NT  red_card_NT  min_NT  \\\n",
              "0             6         0           1  ...             0            0   152.0   \n",
              "1             5         0           0  ...             0            0   207.0   \n",
              "\n",
              "    age      cost  National_Team  Goalkeeper  attack  defence  midfield  \n",
              "0  23.0  500000.0              1        True   False    False     False  \n",
              "1  26.0  500000.0              1       False   False    False      True  \n",
              "\n",
              "[2 rows x 21 columns]"
            ],
            "text/html": [
              "\n",
              "  <div id=\"df-03fc2204-9956-4383-9d24-8e2ba894f704\" class=\"colab-df-container\">\n",
              "    <div>\n",
              "<style scoped>\n",
              "    .dataframe tbody tr th:only-of-type {\n",
              "        vertical-align: middle;\n",
              "    }\n",
              "\n",
              "    .dataframe tbody tr th {\n",
              "        vertical-align: top;\n",
              "    }\n",
              "\n",
              "    .dataframe thead th {\n",
              "        text-align: right;\n",
              "    }\n",
              "</style>\n",
              "<table border=\"1\" class=\"dataframe\">\n",
              "  <thead>\n",
              "    <tr style=\"text-align: right;\">\n",
              "      <th></th>\n",
              "      <th>apperance</th>\n",
              "      <th>goals</th>\n",
              "      <th>assists</th>\n",
              "      <th>yellow_card</th>\n",
              "      <th>2nd_ycard</th>\n",
              "      <th>red_card</th>\n",
              "      <th>min</th>\n",
              "      <th>apperance_NT</th>\n",
              "      <th>goals_NT</th>\n",
              "      <th>assists_NT</th>\n",
              "      <th>...</th>\n",
              "      <th>2nd_ycard_NT</th>\n",
              "      <th>red_card_NT</th>\n",
              "      <th>min_NT</th>\n",
              "      <th>age</th>\n",
              "      <th>cost</th>\n",
              "      <th>National_Team</th>\n",
              "      <th>Goalkeeper</th>\n",
              "      <th>attack</th>\n",
              "      <th>defence</th>\n",
              "      <th>midfield</th>\n",
              "    </tr>\n",
              "  </thead>\n",
              "  <tbody>\n",
              "    <tr>\n",
              "      <th>0</th>\n",
              "      <td>37</td>\n",
              "      <td>0</td>\n",
              "      <td>3</td>\n",
              "      <td>8</td>\n",
              "      <td>0</td>\n",
              "      <td>0</td>\n",
              "      <td>2947.0</td>\n",
              "      <td>6</td>\n",
              "      <td>0</td>\n",
              "      <td>1</td>\n",
              "      <td>...</td>\n",
              "      <td>0</td>\n",
              "      <td>0</td>\n",
              "      <td>152.0</td>\n",
              "      <td>23.0</td>\n",
              "      <td>500000.0</td>\n",
              "      <td>1</td>\n",
              "      <td>True</td>\n",
              "      <td>False</td>\n",
              "      <td>False</td>\n",
              "      <td>False</td>\n",
              "    </tr>\n",
              "    <tr>\n",
              "      <th>1</th>\n",
              "      <td>130</td>\n",
              "      <td>5</td>\n",
              "      <td>5</td>\n",
              "      <td>15</td>\n",
              "      <td>1</td>\n",
              "      <td>0</td>\n",
              "      <td>10770.0</td>\n",
              "      <td>5</td>\n",
              "      <td>0</td>\n",
              "      <td>0</td>\n",
              "      <td>...</td>\n",
              "      <td>0</td>\n",
              "      <td>0</td>\n",
              "      <td>207.0</td>\n",
              "      <td>26.0</td>\n",
              "      <td>500000.0</td>\n",
              "      <td>1</td>\n",
              "      <td>False</td>\n",
              "      <td>False</td>\n",
              "      <td>False</td>\n",
              "      <td>True</td>\n",
              "    </tr>\n",
              "  </tbody>\n",
              "</table>\n",
              "<p>2 rows × 21 columns</p>\n",
              "</div>\n",
              "    <div class=\"colab-df-buttons\">\n",
              "\n",
              "  <div class=\"colab-df-container\">\n",
              "    <button class=\"colab-df-convert\" onclick=\"convertToInteractive('df-03fc2204-9956-4383-9d24-8e2ba894f704')\"\n",
              "            title=\"Convert this dataframe to an interactive table.\"\n",
              "            style=\"display:none;\">\n",
              "\n",
              "  <svg xmlns=\"http://www.w3.org/2000/svg\" height=\"24px\" viewBox=\"0 -960 960 960\">\n",
              "    <path d=\"M120-120v-720h720v720H120Zm60-500h600v-160H180v160Zm220 220h160v-160H400v160Zm0 220h160v-160H400v160ZM180-400h160v-160H180v160Zm440 0h160v-160H620v160ZM180-180h160v-160H180v160Zm440 0h160v-160H620v160Z\"/>\n",
              "  </svg>\n",
              "    </button>\n",
              "\n",
              "  <style>\n",
              "    .colab-df-container {\n",
              "      display:flex;\n",
              "      gap: 12px;\n",
              "    }\n",
              "\n",
              "    .colab-df-convert {\n",
              "      background-color: #E8F0FE;\n",
              "      border: none;\n",
              "      border-radius: 50%;\n",
              "      cursor: pointer;\n",
              "      display: none;\n",
              "      fill: #1967D2;\n",
              "      height: 32px;\n",
              "      padding: 0 0 0 0;\n",
              "      width: 32px;\n",
              "    }\n",
              "\n",
              "    .colab-df-convert:hover {\n",
              "      background-color: #E2EBFA;\n",
              "      box-shadow: 0px 1px 2px rgba(60, 64, 67, 0.3), 0px 1px 3px 1px rgba(60, 64, 67, 0.15);\n",
              "      fill: #174EA6;\n",
              "    }\n",
              "\n",
              "    .colab-df-buttons div {\n",
              "      margin-bottom: 4px;\n",
              "    }\n",
              "\n",
              "    [theme=dark] .colab-df-convert {\n",
              "      background-color: #3B4455;\n",
              "      fill: #D2E3FC;\n",
              "    }\n",
              "\n",
              "    [theme=dark] .colab-df-convert:hover {\n",
              "      background-color: #434B5C;\n",
              "      box-shadow: 0px 1px 3px 1px rgba(0, 0, 0, 0.15);\n",
              "      filter: drop-shadow(0px 1px 2px rgba(0, 0, 0, 0.3));\n",
              "      fill: #FFFFFF;\n",
              "    }\n",
              "  </style>\n",
              "\n",
              "    <script>\n",
              "      const buttonEl =\n",
              "        document.querySelector('#df-03fc2204-9956-4383-9d24-8e2ba894f704 button.colab-df-convert');\n",
              "      buttonEl.style.display =\n",
              "        google.colab.kernel.accessAllowed ? 'block' : 'none';\n",
              "\n",
              "      async function convertToInteractive(key) {\n",
              "        const element = document.querySelector('#df-03fc2204-9956-4383-9d24-8e2ba894f704');\n",
              "        const dataTable =\n",
              "          await google.colab.kernel.invokeFunction('convertToInteractive',\n",
              "                                                    [key], {});\n",
              "        if (!dataTable) return;\n",
              "\n",
              "        const docLinkHtml = 'Like what you see? Visit the ' +\n",
              "          '<a target=\"_blank\" href=https://colab.research.google.com/notebooks/data_table.ipynb>data table notebook</a>'\n",
              "          + ' to learn more about interactive tables.';\n",
              "        element.innerHTML = '';\n",
              "        dataTable['output_type'] = 'display_data';\n",
              "        await google.colab.output.renderOutput(dataTable, element);\n",
              "        const docLink = document.createElement('div');\n",
              "        docLink.innerHTML = docLinkHtml;\n",
              "        element.appendChild(docLink);\n",
              "      }\n",
              "    </script>\n",
              "  </div>\n",
              "\n",
              "\n",
              "<div id=\"df-f40d8004-6463-48e4-a9fe-58c23a19c0af\">\n",
              "  <button class=\"colab-df-quickchart\" onclick=\"quickchart('df-f40d8004-6463-48e4-a9fe-58c23a19c0af')\"\n",
              "            title=\"Suggest charts\"\n",
              "            style=\"display:none;\">\n",
              "\n",
              "<svg xmlns=\"http://www.w3.org/2000/svg\" height=\"24px\"viewBox=\"0 0 24 24\"\n",
              "     width=\"24px\">\n",
              "    <g>\n",
              "        <path d=\"M19 3H5c-1.1 0-2 .9-2 2v14c0 1.1.9 2 2 2h14c1.1 0 2-.9 2-2V5c0-1.1-.9-2-2-2zM9 17H7v-7h2v7zm4 0h-2V7h2v10zm4 0h-2v-4h2v4z\"/>\n",
              "    </g>\n",
              "</svg>\n",
              "  </button>\n",
              "\n",
              "<style>\n",
              "  .colab-df-quickchart {\n",
              "      --bg-color: #E8F0FE;\n",
              "      --fill-color: #1967D2;\n",
              "      --hover-bg-color: #E2EBFA;\n",
              "      --hover-fill-color: #174EA6;\n",
              "      --disabled-fill-color: #AAA;\n",
              "      --disabled-bg-color: #DDD;\n",
              "  }\n",
              "\n",
              "  [theme=dark] .colab-df-quickchart {\n",
              "      --bg-color: #3B4455;\n",
              "      --fill-color: #D2E3FC;\n",
              "      --hover-bg-color: #434B5C;\n",
              "      --hover-fill-color: #FFFFFF;\n",
              "      --disabled-bg-color: #3B4455;\n",
              "      --disabled-fill-color: #666;\n",
              "  }\n",
              "\n",
              "  .colab-df-quickchart {\n",
              "    background-color: var(--bg-color);\n",
              "    border: none;\n",
              "    border-radius: 50%;\n",
              "    cursor: pointer;\n",
              "    display: none;\n",
              "    fill: var(--fill-color);\n",
              "    height: 32px;\n",
              "    padding: 0;\n",
              "    width: 32px;\n",
              "  }\n",
              "\n",
              "  .colab-df-quickchart:hover {\n",
              "    background-color: var(--hover-bg-color);\n",
              "    box-shadow: 0 1px 2px rgba(60, 64, 67, 0.3), 0 1px 3px 1px rgba(60, 64, 67, 0.15);\n",
              "    fill: var(--button-hover-fill-color);\n",
              "  }\n",
              "\n",
              "  .colab-df-quickchart-complete:disabled,\n",
              "  .colab-df-quickchart-complete:disabled:hover {\n",
              "    background-color: var(--disabled-bg-color);\n",
              "    fill: var(--disabled-fill-color);\n",
              "    box-shadow: none;\n",
              "  }\n",
              "\n",
              "  .colab-df-spinner {\n",
              "    border: 2px solid var(--fill-color);\n",
              "    border-color: transparent;\n",
              "    border-bottom-color: var(--fill-color);\n",
              "    animation:\n",
              "      spin 1s steps(1) infinite;\n",
              "  }\n",
              "\n",
              "  @keyframes spin {\n",
              "    0% {\n",
              "      border-color: transparent;\n",
              "      border-bottom-color: var(--fill-color);\n",
              "      border-left-color: var(--fill-color);\n",
              "    }\n",
              "    20% {\n",
              "      border-color: transparent;\n",
              "      border-left-color: var(--fill-color);\n",
              "      border-top-color: var(--fill-color);\n",
              "    }\n",
              "    30% {\n",
              "      border-color: transparent;\n",
              "      border-left-color: var(--fill-color);\n",
              "      border-top-color: var(--fill-color);\n",
              "      border-right-color: var(--fill-color);\n",
              "    }\n",
              "    40% {\n",
              "      border-color: transparent;\n",
              "      border-right-color: var(--fill-color);\n",
              "      border-top-color: var(--fill-color);\n",
              "    }\n",
              "    60% {\n",
              "      border-color: transparent;\n",
              "      border-right-color: var(--fill-color);\n",
              "    }\n",
              "    80% {\n",
              "      border-color: transparent;\n",
              "      border-right-color: var(--fill-color);\n",
              "      border-bottom-color: var(--fill-color);\n",
              "    }\n",
              "    90% {\n",
              "      border-color: transparent;\n",
              "      border-bottom-color: var(--fill-color);\n",
              "    }\n",
              "  }\n",
              "</style>\n",
              "\n",
              "  <script>\n",
              "    async function quickchart(key) {\n",
              "      const quickchartButtonEl =\n",
              "        document.querySelector('#' + key + ' button');\n",
              "      quickchartButtonEl.disabled = true;  // To prevent multiple clicks.\n",
              "      quickchartButtonEl.classList.add('colab-df-spinner');\n",
              "      try {\n",
              "        const charts = await google.colab.kernel.invokeFunction(\n",
              "            'suggestCharts', [key], {});\n",
              "      } catch (error) {\n",
              "        console.error('Error during call to suggestCharts:', error);\n",
              "      }\n",
              "      quickchartButtonEl.classList.remove('colab-df-spinner');\n",
              "      quickchartButtonEl.classList.add('colab-df-quickchart-complete');\n",
              "    }\n",
              "    (() => {\n",
              "      let quickchartButtonEl =\n",
              "        document.querySelector('#df-f40d8004-6463-48e4-a9fe-58c23a19c0af button');\n",
              "      quickchartButtonEl.style.display =\n",
              "        google.colab.kernel.accessAllowed ? 'block' : 'none';\n",
              "    })();\n",
              "  </script>\n",
              "</div>\n",
              "\n",
              "    </div>\n",
              "  </div>\n"
            ],
            "application/vnd.google.colaboratory.intrinsic+json": {
              "type": "dataframe",
              "variable_name": "data"
            }
          },
          "metadata": {},
          "execution_count": 225
        }
      ],
      "source": [
        "data.head(2)"
      ]
    },
    {
      "cell_type": "code",
      "execution_count": 226,
      "id": "7d5d5e90",
      "metadata": {
        "ExecuteTime": {
          "end_time": "2022-09-20T06:18:36.662951Z",
          "start_time": "2022-09-20T06:18:36.648988Z"
        },
        "scrolled": false,
        "colab": {
          "base_uri": "https://localhost:8080/"
        },
        "id": "7d5d5e90",
        "outputId": "4f2ce180-a820-4b20-a9af-3612e0280920"
      },
      "outputs": [
        {
          "output_type": "execute_result",
          "data": {
            "text/plain": [
              "red_card_NT       31.589408\n",
              "goals_NT          24.332324\n",
              "assists_NT        19.598220\n",
              "2nd_ycard_NT      14.659282\n",
              "yellow_card_NT    10.471771\n",
              "apperance_NT       7.668328\n",
              "red_card           7.160984\n",
              "goals              6.867819\n",
              "assists            5.193607\n",
              "2nd_ycard          2.999727\n",
              "Goalkeeper         2.607147\n",
              "yellow_card        2.163293\n",
              "apperance          1.550298\n",
              "min                1.525228\n",
              "cost               1.340561\n",
              "attack             0.908471\n",
              "midfield           0.904406\n",
              "National_Team      0.841109\n",
              "defence            0.824249\n",
              "min_NT           -19.687122\n",
              "age                     NaN\n",
              "dtype: float64"
            ]
          },
          "metadata": {},
          "execution_count": 226
        }
      ],
      "source": [
        "data.skew().sort_values(ascending= False)"
      ]
    },
    {
      "cell_type": "markdown",
      "id": "e60e4cba",
      "metadata": {
        "id": "e60e4cba"
      },
      "source": [
        "### outliers"
      ]
    },
    {
      "cell_type": "code",
      "execution_count": 227,
      "id": "abc637bd",
      "metadata": {
        "ExecuteTime": {
          "end_time": "2022-09-20T06:18:36.760717Z",
          "start_time": "2022-09-20T06:18:36.662951Z"
        },
        "scrolled": false,
        "colab": {
          "base_uri": "https://localhost:8080/",
          "height": 411
        },
        "id": "abc637bd",
        "outputId": "d096e6d0-76bb-4f15-d8d0-e36900e9098c"
      },
      "outputs": [
        {
          "output_type": "display_data",
          "data": {
            "text/plain": [
              "<Figure size 640x480 with 1 Axes>"
            ],
            "image/png": "[encoded data removed]"
          },
          "metadata": {}
        }
      ],
      "source": [
        "%matplotlib inline\n",
        "s = sns.boxplot(data['age'])\n",
        "plt.show()"
      ]
    },
    {
      "cell_type": "code",
      "execution_count": 228,
      "id": "5ed457e8",
      "metadata": {
        "ExecuteTime": {
          "end_time": "2022-09-20T06:18:36.765676Z",
          "start_time": "2022-09-20T06:18:36.761686Z"
        },
        "scrolled": true,
        "id": "5ed457e8"
      },
      "outputs": [],
      "source": [
        "ageOutliers = data[data.age > 38].index.tolist()"
      ]
    },
    {
      "cell_type": "code",
      "execution_count": 229,
      "id": "25c05980",
      "metadata": {
        "ExecuteTime": {
          "end_time": "2022-09-20T06:18:36.774656Z",
          "start_time": "2022-09-20T06:18:36.765676Z"
        },
        "scrolled": true,
        "id": "25c05980"
      },
      "outputs": [],
      "source": [
        "data.drop(ageOutliers, inplace= True)"
      ]
    },
    {
      "cell_type": "code",
      "execution_count": 230,
      "id": "c4930281",
      "metadata": {
        "ExecuteTime": {
          "end_time": "2022-09-20T06:18:36.843498Z",
          "start_time": "2022-09-20T06:18:36.775649Z"
        },
        "scrolled": false,
        "colab": {
          "base_uri": "https://localhost:8080/",
          "height": 411
        },
        "id": "c4930281",
        "outputId": "675dff75-708a-497a-931a-9d1c2f807df4"
      },
      "outputs": [
        {
          "output_type": "display_data",
          "data": {
            "text/plain": [
              "<Figure size 640x480 with 1 Axes>"
            ],
            "image/png": "[encoded data removed]"
          },
          "metadata": {}
        }
      ],
      "source": [
        "sns.boxplot(data.age)\n",
        "plt.show()"
      ]
    },
    {
      "cell_type": "code",
      "execution_count": 231,
      "id": "9216e215",
      "metadata": {
        "ExecuteTime": {
          "end_time": "2022-09-20T06:18:36.857463Z",
          "start_time": "2022-09-20T06:18:36.844497Z"
        },
        "scrolled": false,
        "colab": {
          "base_uri": "https://localhost:8080/"
        },
        "id": "9216e215",
        "outputId": "aa669e78-030c-4db0-e615-165295e9bc8a"
      },
      "outputs": [
        {
          "output_type": "execute_result",
          "data": {
            "text/plain": [
              "red_card_NT       32.688388\n",
              "goals_NT          24.602625\n",
              "assists_NT        19.799267\n",
              "2nd_ycard_NT      14.839265\n",
              "yellow_card_NT    10.379735\n",
              "apperance_NT       7.764581\n",
              "red_card           7.170527\n",
              "goals              6.965683\n",
              "assists            5.248064\n",
              "2nd_ycard          3.003067\n",
              "Goalkeeper         2.625486\n",
              "yellow_card        2.153010\n",
              "apperance          1.531736\n",
              "min                1.496178\n",
              "cost               1.336699\n",
              "attack             0.908087\n",
              "midfield           0.901783\n",
              "National_Team      0.842782\n",
              "defence            0.821932\n",
              "age                0.532033\n",
              "min_NT           -20.458556\n",
              "dtype: float64"
            ]
          },
          "metadata": {},
          "execution_count": 231
        }
      ],
      "source": [
        "data.skew().sort_values(ascending= False)"
      ]
    },
    {
      "cell_type": "code",
      "source": [
        "data.shape"
      ],
      "metadata": {
        "colab": {
          "base_uri": "https://localhost:8080/"
        },
        "id": "bR-iFmoGMi5-",
        "outputId": "972933a9-62fc-4234-a07b-18ce105a42ce"
      },
      "id": "bR-iFmoGMi5-",
      "execution_count": 232,
      "outputs": [
        {
          "output_type": "execute_result",
          "data": {
            "text/plain": [
              "(28524, 21)"
            ]
          },
          "metadata": {},
          "execution_count": 232
        }
      ]
    },
    {
      "cell_type": "markdown",
      "id": "db360dab",
      "metadata": {
        "id": "db360dab"
      },
      "source": [
        "#"
      ]
    },
    {
      "cell_type": "markdown",
      "id": "2f06b479",
      "metadata": {
        "id": "2f06b479"
      },
      "source": [
        "## appling log transformatioin to high values 'skewed columns'"
      ]
    },
    {
      "cell_type": "code",
      "execution_count": 233,
      "id": "dabf92f1",
      "metadata": {
        "ExecuteTime": {
          "end_time": "2022-09-20T06:18:36.866441Z",
          "start_time": "2022-09-20T06:18:36.858460Z"
        },
        "id": "dabf92f1"
      },
      "outputs": [],
      "source": [
        "for i in ['goals_NT', 'assists_NT', 'apperance_NT']:\n",
        "    data[i] += 10\n",
        "    data[i] = np.log(data[i])"
      ]
    },
    {
      "cell_type": "markdown",
      "id": "b6f50bc5",
      "metadata": {
        "id": "b6f50bc5"
      },
      "source": [
        "#"
      ]
    },
    {
      "cell_type": "markdown",
      "id": "9d87c749",
      "metadata": {
        "id": "9d87c749"
      },
      "source": [
        "## Normailzing data"
      ]
    },
    {
      "cell_type": "code",
      "execution_count": 236,
      "id": "f1b32b3f",
      "metadata": {
        "ExecuteTime": {
          "end_time": "2022-09-20T06:18:36.875419Z",
          "start_time": "2022-09-20T06:18:36.867438Z"
        },
        "id": "f1b32b3f"
      },
      "outputs": [],
      "source": [
        "nordata = normalize(data[['cost','min','min_NT','apperance','age', 'goals','assists']])"
      ]
    },
    {
      "cell_type": "code",
      "execution_count": 237,
      "id": "5449aae7",
      "metadata": {
        "ExecuteTime": {
          "end_time": "2022-09-20T06:18:36.879407Z",
          "start_time": "2022-09-20T06:18:36.876412Z"
        },
        "id": "5449aae7"
      },
      "outputs": [],
      "source": [
        "xdata = pd.DataFrame(nordata,columns=['cost_','min_','min_NT_','apperance_','age_','goals_','assists_'])"
      ]
    },
    {
      "cell_type": "code",
      "execution_count": 238,
      "id": "f3512a37",
      "metadata": {
        "ExecuteTime": {
          "end_time": "2022-09-20T06:18:36.892374Z",
          "start_time": "2022-09-20T06:18:36.880402Z"
        },
        "id": "f3512a37"
      },
      "outputs": [],
      "source": [
        "data = pd.concat([data, xdata], axis=1)"
      ]
    },
    {
      "cell_type": "code",
      "execution_count": 239,
      "id": "aa162849",
      "metadata": {
        "ExecuteTime": {
          "end_time": "2022-09-20T06:18:36.902372Z",
          "start_time": "2022-09-20T06:18:36.893366Z"
        },
        "id": "aa162849"
      },
      "outputs": [],
      "source": [
        "data.drop(['cost','min','min_NT','apperance','age','goals','assists'], axis=1, inplace= True)"
      ]
    },
    {
      "cell_type": "code",
      "execution_count": 240,
      "id": "aa50b231",
      "metadata": {
        "ExecuteTime": {
          "end_time": "2022-09-20T06:18:36.915337Z",
          "start_time": "2022-09-20T06:18:36.903340Z"
        },
        "scrolled": false,
        "colab": {
          "base_uri": "https://localhost:8080/"
        },
        "id": "aa50b231",
        "outputId": "7e04e1be-f2b6-4c71-ac5c-3f3d37b21397"
      },
      "outputs": [
        {
          "output_type": "execute_result",
          "data": {
            "text/plain": [
              "(28647, 21)"
            ]
          },
          "metadata": {},
          "execution_count": 240
        }
      ],
      "source": [
        "data.shape"
      ]
    },
    {
      "cell_type": "code",
      "execution_count": 241,
      "id": "b70413c0",
      "metadata": {
        "ExecuteTime": {
          "end_time": "2022-09-20T06:18:36.926283Z",
          "start_time": "2022-09-20T06:18:36.916306Z"
        },
        "id": "b70413c0"
      },
      "outputs": [],
      "source": [
        "data.dropna(inplace= True)"
      ]
    },
    {
      "cell_type": "code",
      "execution_count": 242,
      "id": "ea081289",
      "metadata": {
        "ExecuteTime": {
          "end_time": "2022-09-20T06:18:36.931266Z",
          "start_time": "2022-09-20T06:18:36.927277Z"
        },
        "scrolled": true,
        "colab": {
          "base_uri": "https://localhost:8080/"
        },
        "id": "ea081289",
        "outputId": "ad435ada-6801-413c-e045-ee5c31884fb2"
      },
      "outputs": [
        {
          "output_type": "execute_result",
          "data": {
            "text/plain": [
              "(28401, 21)"
            ]
          },
          "metadata": {},
          "execution_count": 242
        }
      ],
      "source": [
        "data.shape"
      ]
    },
    {
      "cell_type": "markdown",
      "id": "aa98f21f",
      "metadata": {
        "id": "aa98f21f"
      },
      "source": [
        "#"
      ]
    },
    {
      "cell_type": "code",
      "execution_count": 243,
      "id": "a3061116",
      "metadata": {
        "ExecuteTime": {
          "end_time": "2022-09-20T06:18:36.940244Z",
          "start_time": "2022-09-20T06:18:36.934258Z"
        },
        "id": "a3061116"
      },
      "outputs": [],
      "source": [
        "X = data.drop('cost_', axis=1)\n",
        "y = data.cost_\n",
        "\n",
        "X = np.asarray(X).astype(np.float32)\n",
        "y = np.asarray(y).astype(np.float32)"
      ]
    },
    {
      "cell_type": "code",
      "execution_count": 263,
      "id": "230e6c75",
      "metadata": {
        "ExecuteTime": {
          "end_time": "2022-09-20T06:18:36.952210Z",
          "start_time": "2022-09-20T06:18:36.941239Z"
        },
        "colab": {
          "base_uri": "https://localhost:8080/"
        },
        "id": "230e6c75",
        "outputId": "d2df88bb-0993-4a7a-c05d-9c4dd3c70364"
      },
      "outputs": [
        {
          "output_type": "stream",
          "name": "stdout",
          "text": [
            "(19880, 20) (4260, 20) (4261, 20) (19880,) (4260,) (4261,)\n"
          ]
        }
      ],
      "source": [
        "from sklearn.model_selection import train_test_split\n",
        "X_train, X_test, y_train, y_test = train_test_split(X, y, test_size = 0.2, random_state= 75)"
      ]
    },
    {
      "cell_type": "code",
      "source": [
        "X_train.shape"
      ],
      "metadata": {
        "colab": {
          "base_uri": "https://localhost:8080/"
        },
        "id": "jnUmq0oHLhpE",
        "outputId": "c63e3d5c-a6f6-40d3-c206-881617c89166"
      },
      "id": "jnUmq0oHLhpE",
      "execution_count": 245,
      "outputs": [
        {
          "output_type": "execute_result",
          "data": {
            "text/plain": [
              "(22720, 20)"
            ]
          },
          "metadata": {},
          "execution_count": 245
        }
      ]
    },
    {
      "cell_type": "code",
      "execution_count": 173,
      "id": "3d6d2268",
      "metadata": {
        "ExecuteTime": {
          "end_time": "2022-09-20T06:18:36.984145Z",
          "start_time": "2022-09-20T06:18:36.953207Z"
        },
        "id": "3d6d2268"
      },
      "outputs": [],
      "source": [
        "from sklearn.linear_model import LinearRegression\n",
        "regressor = LinearRegression()"
      ]
    },
    {
      "cell_type": "code",
      "execution_count": 246,
      "id": "544a6692",
      "metadata": {
        "ExecuteTime": {
          "end_time": "2022-09-20T06:18:36.995153Z",
          "start_time": "2022-09-20T06:18:36.985148Z"
        },
        "colab": {
          "base_uri": "https://localhost:8080/",
          "height": 75
        },
        "id": "544a6692",
        "outputId": "719f6919-ce81-49ec-8b87-a760a5ec9644"
      },
      "outputs": [
        {
          "output_type": "execute_result",
          "data": {
            "text/plain": [
              "LinearRegression()"
            ],
            "text/html": [
              "<style>#sk-container-id-5 {color: black;background-color: white;}#sk-container-id-5 pre{padding: 0;}#sk-container-id-5 div.sk-toggleable {background-color: white;}#sk-container-id-5 label.sk-toggleable__label {cursor: pointer;display: block;width: 100%;margin-bottom: 0;padding: 0.3em;box-sizing: border-box;text-align: center;}#sk-container-id-5 label.sk-toggleable__label-arrow:before {content: \"▸\";float: left;margin-right: 0.25em;color: #696969;}#sk-container-id-5 label.sk-toggleable__label-arrow:hover:before {color: black;}#sk-container-id-5 div.sk-estimator:hover label.sk-toggleable__label-arrow:before {color: black;}#sk-container-id-5 div.sk-toggleable__content {max-height: 0;max-width: 0;overflow: hidden;text-align: left;background-color: #f0f8ff;}#sk-container-id-5 div.sk-toggleable__content pre {margin: 0.2em;color: black;border-radius: 0.25em;background-color: #f0f8ff;}#sk-container-id-5 input.sk-toggleable__control:checked~div.sk-toggleable__content {max-height: 200px;max-width: 100%;overflow: auto;}#sk-container-id-5 input.sk-toggleable__control:checked~label.sk-toggleable__label-arrow:before {content: \"▾\";}#sk-container-id-5 div.sk-estimator input.sk-toggleable__control:checked~label.sk-toggleable__label {background-color: #d4ebff;}#sk-container-id-5 div.sk-label input.sk-toggleable__control:checked~label.sk-toggleable__label {background-color: #d4ebff;}#sk-container-id-5 input.sk-hidden--visually {border: 0;clip: rect(1px 1px 1px 1px);clip: rect(1px, 1px, 1px, 1px);height: 1px;margin: -1px;overflow: hidden;padding: 0;position: absolute;width: 1px;}#sk-container-id-5 div.sk-estimator {font-family: monospace;background-color: #f0f8ff;border: 1px dotted black;border-radius: 0.25em;box-sizing: border-box;margin-bottom: 0.5em;}#sk-container-id-5 div.sk-estimator:hover {background-color: #d4ebff;}#sk-container-id-5 div.sk-parallel-item::after {content: \"\";width: 100%;border-bottom: 1px solid gray;flex-grow: 1;}#sk-container-id-5 div.sk-label:hover label.sk-toggleable__label {background-color: #d4ebff;}#sk-container-id-5 div.sk-serial::before {content: \"\";position: absolute;border-left: 1px solid gray;box-sizing: border-box;top: 0;bottom: 0;left: 50%;z-index: 0;}#sk-container-id-5 div.sk-serial {display: flex;flex-direction: column;align-items: center;background-color: white;padding-right: 0.2em;padding-left: 0.2em;position: relative;}#sk-container-id-5 div.sk-item {position: relative;z-index: 1;}#sk-container-id-5 div.sk-parallel {display: flex;align-items: stretch;justify-content: center;background-color: white;position: relative;}#sk-container-id-5 div.sk-item::before, #sk-container-id-5 div.sk-parallel-item::before {content: \"\";position: absolute;border-left: 1px solid gray;box-sizing: border-box;top: 0;bottom: 0;left: 50%;z-index: -1;}#sk-container-id-5 div.sk-parallel-item {display: flex;flex-direction: column;z-index: 1;position: relative;background-color: white;}#sk-container-id-5 div.sk-parallel-item:first-child::after {align-self: flex-end;width: 50%;}#sk-container-id-5 div.sk-parallel-item:last-child::after {align-self: flex-start;width: 50%;}#sk-container-id-5 div.sk-parallel-item:only-child::after {width: 0;}#sk-container-id-5 div.sk-dashed-wrapped {border: 1px dashed gray;margin: 0 0.4em 0.5em 0.4em;box-sizing: border-box;padding-bottom: 0.4em;background-color: white;}#sk-container-id-5 div.sk-label label {font-family: monospace;font-weight: bold;display: inline-block;line-height: 1.2em;}#sk-container-id-5 div.sk-label-container {text-align: center;}#sk-container-id-5 div.sk-container {/* jupyter's `normalize.less` sets `[hidden] { display: none; }` but bootstrap.min.css set `[hidden] { display: none !important; }` so we also need the `!important` here to be able to override the default hidden behavior on the sphinx rendered scikit-learn.org. See: https://github.com/scikit-learn/scikit-learn/issues/21755 */display: inline-block !important;position: relative;}#sk-container-id-5 div.sk-text-repr-fallback {display: none;}</style><div id=\"sk-container-id-5\" class=\"sk-top-container\"><div class=\"sk-text-repr-fallback\"><pre>LinearRegression()</pre><b>In a Jupyter environment, please rerun this cell to show the HTML representation or trust the notebook. <br />On GitHub, the HTML representation is unable to render, please try loading this page with nbviewer.org.</b></div><div class=\"sk-container\" hidden><div class=\"sk-item\"><div class=\"sk-estimator sk-toggleable\"><input class=\"sk-toggleable__control sk-hidden--visually\" id=\"sk-estimator-id-5\" type=\"checkbox\" checked><label for=\"sk-estimator-id-5\" class=\"sk-toggleable__label sk-toggleable__label-arrow\">LinearRegression</label><div class=\"sk-toggleable__content\"><pre>LinearRegression()</pre></div></div></div></div></div>"
            ]
          },
          "metadata": {},
          "execution_count": 246
        }
      ],
      "source": [
        "regressor.fit(X_train, y_train)"
      ]
    },
    {
      "cell_type": "code",
      "execution_count": 247,
      "id": "f7623f4f",
      "metadata": {
        "ExecuteTime": {
          "end_time": "2022-09-20T06:18:37.000107Z",
          "start_time": "2022-09-20T06:18:36.996118Z"
        },
        "colab": {
          "base_uri": "https://localhost:8080/"
        },
        "id": "f7623f4f",
        "outputId": "73be21ba-fa46-4526-e833-a90a30ccaf1b"
      },
      "outputs": [
        {
          "output_type": "stream",
          "name": "stdout",
          "text": [
            "1.0138677010478565\n"
          ]
        }
      ],
      "source": [
        "print(regressor.intercept_)"
      ]
    },
    {
      "cell_type": "code",
      "execution_count": 248,
      "id": "f73e0ddc",
      "metadata": {
        "ExecuteTime": {
          "end_time": "2022-09-20T06:18:37.010080Z",
          "start_time": "2022-09-20T06:18:37.001105Z"
        },
        "id": "f73e0ddc"
      },
      "outputs": [],
      "source": [
        "y_pred = regressor.predict(X_test)"
      ]
    },
    {
      "cell_type": "code",
      "execution_count": 249,
      "id": "ada9abc1",
      "metadata": {
        "ExecuteTime": {
          "end_time": "2022-09-20T06:18:37.020054Z",
          "start_time": "2022-09-20T06:18:37.011079Z"
        },
        "colab": {
          "base_uri": "https://localhost:8080/"
        },
        "id": "ada9abc1",
        "outputId": "3b460058-c1c9-4ac1-86c5-92f8bb835774"
      },
      "outputs": [
        {
          "output_type": "execute_result",
          "data": {
            "text/plain": [
              "0.7535663993039344"
            ]
          },
          "metadata": {},
          "execution_count": 249
        }
      ],
      "source": [
        "regressor.score(X_test, y_test)"
      ]
    },
    {
      "cell_type": "code",
      "execution_count": 250,
      "id": "39e97805",
      "metadata": {
        "ExecuteTime": {
          "end_time": "2022-09-20T06:18:37.029030Z",
          "start_time": "2022-09-20T06:18:37.021051Z"
        },
        "colab": {
          "base_uri": "https://localhost:8080/"
        },
        "id": "39e97805",
        "outputId": "982090f8-7040-4635-c4bb-734735a38cc7"
      },
      "outputs": [
        {
          "output_type": "execute_result",
          "data": {
            "text/plain": [
              "0.7217443029975884"
            ]
          },
          "metadata": {},
          "execution_count": 250
        }
      ],
      "source": [
        "regressor.score(X_train, y_train)"
      ]
    },
    {
      "cell_type": "markdown",
      "id": "44f28559",
      "metadata": {
        "id": "44f28559"
      },
      "source": [
        "#"
      ]
    },
    {
      "cell_type": "markdown",
      "id": "cc260a87",
      "metadata": {
        "id": "cc260a87"
      },
      "source": [
        "### Using Ridge (L2 Regularized) Regression Model"
      ]
    },
    {
      "cell_type": "code",
      "execution_count": 79,
      "id": "3bba971b",
      "metadata": {
        "ExecuteTime": {
          "end_time": "2022-09-20T06:18:37.040001Z",
          "start_time": "2022-09-20T06:18:37.030027Z"
        },
        "colab": {
          "base_uri": "https://localhost:8080/",
          "height": 75
        },
        "id": "3bba971b",
        "outputId": "761add09-9df2-41d4-9252-a403ab55287d"
      },
      "outputs": [
        {
          "output_type": "execute_result",
          "data": {
            "text/plain": [
              "Ridge(alpha=1, max_iter=1000, tol=0.1)"
            ],
            "text/html": [
              "<style>#sk-container-id-2 {color: black;background-color: white;}#sk-container-id-2 pre{padding: 0;}#sk-container-id-2 div.sk-toggleable {background-color: white;}#sk-container-id-2 label.sk-toggleable__label {cursor: pointer;display: block;width: 100%;margin-bottom: 0;padding: 0.3em;box-sizing: border-box;text-align: center;}#sk-container-id-2 label.sk-toggleable__label-arrow:before {content: \"▸\";float: left;margin-right: 0.25em;color: #696969;}#sk-container-id-2 label.sk-toggleable__label-arrow:hover:before {color: black;}#sk-container-id-2 div.sk-estimator:hover label.sk-toggleable__label-arrow:before {color: black;}#sk-container-id-2 div.sk-toggleable__content {max-height: 0;max-width: 0;overflow: hidden;text-align: left;background-color: #f0f8ff;}#sk-container-id-2 div.sk-toggleable__content pre {margin: 0.2em;color: black;border-radius: 0.25em;background-color: #f0f8ff;}#sk-container-id-2 input.sk-toggleable__control:checked~div.sk-toggleable__content {max-height: 200px;max-width: 100%;overflow: auto;}#sk-container-id-2 input.sk-toggleable__control:checked~label.sk-toggleable__label-arrow:before {content: \"▾\";}#sk-container-id-2 div.sk-estimator input.sk-toggleable__control:checked~label.sk-toggleable__label {background-color: #d4ebff;}#sk-container-id-2 div.sk-label input.sk-toggleable__control:checked~label.sk-toggleable__label {background-color: #d4ebff;}#sk-container-id-2 input.sk-hidden--visually {border: 0;clip: rect(1px 1px 1px 1px);clip: rect(1px, 1px, 1px, 1px);height: 1px;margin: -1px;overflow: hidden;padding: 0;position: absolute;width: 1px;}#sk-container-id-2 div.sk-estimator {font-family: monospace;background-color: #f0f8ff;border: 1px dotted black;border-radius: 0.25em;box-sizing: border-box;margin-bottom: 0.5em;}#sk-container-id-2 div.sk-estimator:hover {background-color: #d4ebff;}#sk-container-id-2 div.sk-parallel-item::after {content: \"\";width: 100%;border-bottom: 1px solid gray;flex-grow: 1;}#sk-container-id-2 div.sk-label:hover label.sk-toggleable__label {background-color: #d4ebff;}#sk-container-id-2 div.sk-serial::before {content: \"\";position: absolute;border-left: 1px solid gray;box-sizing: border-box;top: 0;bottom: 0;left: 50%;z-index: 0;}#sk-container-id-2 div.sk-serial {display: flex;flex-direction: column;align-items: center;background-color: white;padding-right: 0.2em;padding-left: 0.2em;position: relative;}#sk-container-id-2 div.sk-item {position: relative;z-index: 1;}#sk-container-id-2 div.sk-parallel {display: flex;align-items: stretch;justify-content: center;background-color: white;position: relative;}#sk-container-id-2 div.sk-item::before, #sk-container-id-2 div.sk-parallel-item::before {content: \"\";position: absolute;border-left: 1px solid gray;box-sizing: border-box;top: 0;bottom: 0;left: 50%;z-index: -1;}#sk-container-id-2 div.sk-parallel-item {display: flex;flex-direction: column;z-index: 1;position: relative;background-color: white;}#sk-container-id-2 div.sk-parallel-item:first-child::after {align-self: flex-end;width: 50%;}#sk-container-id-2 div.sk-parallel-item:last-child::after {align-self: flex-start;width: 50%;}#sk-container-id-2 div.sk-parallel-item:only-child::after {width: 0;}#sk-container-id-2 div.sk-dashed-wrapped {border: 1px dashed gray;margin: 0 0.4em 0.5em 0.4em;box-sizing: border-box;padding-bottom: 0.4em;background-color: white;}#sk-container-id-2 div.sk-label label {font-family: monospace;font-weight: bold;display: inline-block;line-height: 1.2em;}#sk-container-id-2 div.sk-label-container {text-align: center;}#sk-container-id-2 div.sk-container {/* jupyter's `normalize.less` sets `[hidden] { display: none; }` but bootstrap.min.css set `[hidden] { display: none !important; }` so we also need the `!important` here to be able to override the default hidden behavior on the sphinx rendered scikit-learn.org. See: https://github.com/scikit-learn/scikit-learn/issues/21755 */display: inline-block !important;position: relative;}#sk-container-id-2 div.sk-text-repr-fallback {display: none;}</style><div id=\"sk-container-id-2\" class=\"sk-top-container\"><div class=\"sk-text-repr-fallback\"><pre>Ridge(alpha=1, max_iter=1000, tol=0.1)</pre><b>In a Jupyter environment, please rerun this cell to show the HTML representation or trust the notebook. <br />On GitHub, the HTML representation is unable to render, please try loading this page with nbviewer.org.</b></div><div class=\"sk-container\" hidden><div class=\"sk-item\"><div class=\"sk-estimator sk-toggleable\"><input class=\"sk-toggleable__control sk-hidden--visually\" id=\"sk-estimator-id-2\" type=\"checkbox\" checked><label for=\"sk-estimator-id-2\" class=\"sk-toggleable__label sk-toggleable__label-arrow\">Ridge</label><div class=\"sk-toggleable__content\"><pre>Ridge(alpha=1, max_iter=1000, tol=0.1)</pre></div></div></div></div></div>"
            ]
          },
          "metadata": {},
          "execution_count": 79
        }
      ],
      "source": [
        "from sklearn.linear_model import Ridge\n",
        "ridge_reg= Ridge(alpha=1, max_iter=1000, tol=0.1)\n",
        "ridge_reg.fit(X_train, y_train)"
      ]
    },
    {
      "cell_type": "code",
      "execution_count": 80,
      "id": "d2de394a",
      "metadata": {
        "ExecuteTime": {
          "end_time": "2022-09-20T06:18:37.047979Z",
          "start_time": "2022-09-20T06:18:37.040998Z"
        },
        "colab": {
          "base_uri": "https://localhost:8080/"
        },
        "id": "d2de394a",
        "outputId": "db359798-044e-4361-d2cd-1832e980369d"
      },
      "outputs": [
        {
          "output_type": "execute_result",
          "data": {
            "text/plain": [
              "0.7584591669247539"
            ]
          },
          "metadata": {},
          "execution_count": 80
        }
      ],
      "source": [
        "ridge_reg.score(X_test, y_test)"
      ]
    },
    {
      "cell_type": "code",
      "execution_count": 81,
      "id": "271b26d9",
      "metadata": {
        "ExecuteTime": {
          "end_time": "2022-09-20T06:18:37.057953Z",
          "start_time": "2022-09-20T06:18:37.048977Z"
        },
        "scrolled": true,
        "colab": {
          "base_uri": "https://localhost:8080/"
        },
        "id": "271b26d9",
        "outputId": "3e35e525-6e73-4fcf-80e0-c47d521a9688"
      },
      "outputs": [
        {
          "output_type": "execute_result",
          "data": {
            "text/plain": [
              "0.7163467740328362"
            ]
          },
          "metadata": {},
          "execution_count": 81
        }
      ],
      "source": [
        "ridge_reg.score(X_train, y_train)"
      ]
    },
    {
      "cell_type": "markdown",
      "id": "e117f441",
      "metadata": {
        "id": "e117f441"
      },
      "source": [
        "#"
      ]
    },
    {
      "cell_type": "markdown",
      "id": "ac850692",
      "metadata": {
        "id": "ac850692"
      },
      "source": [
        "# XGBOOST ALGORITHMS"
      ]
    },
    {
      "cell_type": "code",
      "execution_count": 82,
      "id": "426d08d3",
      "metadata": {
        "ExecuteTime": {
          "end_time": "2022-09-20T06:20:13.923054Z",
          "start_time": "2022-09-20T06:20:13.920063Z"
        },
        "scrolled": true,
        "id": "426d08d3"
      },
      "outputs": [],
      "source": [
        "import xgboost as xg\n",
        "from sklearn.metrics import mean_squared_error as MSE"
      ]
    },
    {
      "cell_type": "code",
      "execution_count": 83,
      "id": "0ca67bb8",
      "metadata": {
        "ExecuteTime": {
          "end_time": "2022-09-20T06:20:14.270460Z",
          "start_time": "2022-09-20T06:20:14.166738Z"
        },
        "colab": {
          "base_uri": "https://localhost:8080/",
          "height": 303
        },
        "id": "0ca67bb8",
        "outputId": "b5b2cdfe-bf8d-48af-94c3-a95d58fd43ab"
      },
      "outputs": [
        {
          "output_type": "stream",
          "name": "stderr",
          "text": [
            "/usr/local/lib/python3.10/dist-packages/xgboost/core.py:160: UserWarning: [23:17:44] WARNING: /workspace/src/objective/regression_obj.cu:209: reg:linear is now deprecated in favor of reg:squarederror.\n",
            "  warnings.warn(smsg, UserWarning)\n"
          ]
        },
        {
          "output_type": "execute_result",
          "data": {
            "text/plain": [
              "XGBRegressor(base_score=None, booster=None, callbacks=None,\n",
              "             colsample_bylevel=None, colsample_bynode=None,\n",
              "             colsample_bytree=None, device=None, early_stopping_rounds=None,\n",
              "             enable_categorical=False, eval_metric=None, feature_types=None,\n",
              "             gamma=None, grow_policy=None, importance_type=None,\n",
              "             interaction_constraints=None, learning_rate=None, max_bin=None,\n",
              "             max_cat_threshold=None, max_cat_to_onehot=None,\n",
              "             max_delta_step=None, max_depth=None, max_leaves=None,\n",
              "             min_child_weight=None, missing=nan, monotone_constraints=None,\n",
              "             multi_strategy=None, n_estimators=10, n_jobs=None,\n",
              "             num_parallel_tree=None, objective='reg:linear', ...)"
            ],
            "text/html": [
              "<style>#sk-container-id-3 {color: black;background-color: white;}#sk-container-id-3 pre{padding: 0;}#sk-container-id-3 div.sk-toggleable {background-color: white;}#sk-container-id-3 label.sk-toggleable__label {cursor: pointer;display: block;width: 100%;margin-bottom: 0;padding: 0.3em;box-sizing: border-box;text-align: center;}#sk-container-id-3 label.sk-toggleable__label-arrow:before {content: \"▸\";float: left;margin-right: 0.25em;color: #696969;}#sk-container-id-3 label.sk-toggleable__label-arrow:hover:before {color: black;}#sk-container-id-3 div.sk-estimator:hover label.sk-toggleable__label-arrow:before {color: black;}#sk-container-id-3 div.sk-toggleable__content {max-height: 0;max-width: 0;overflow: hidden;text-align: left;background-color: #f0f8ff;}#sk-container-id-3 div.sk-toggleable__content pre {margin: 0.2em;color: black;border-radius: 0.25em;background-color: #f0f8ff;}#sk-container-id-3 input.sk-toggleable__control:checked~div.sk-toggleable__content {max-height: 200px;max-width: 100%;overflow: auto;}#sk-container-id-3 input.sk-toggleable__control:checked~label.sk-toggleable__label-arrow:before {content: \"▾\";}#sk-container-id-3 div.sk-estimator input.sk-toggleable__control:checked~label.sk-toggleable__label {background-color: #d4ebff;}#sk-container-id-3 div.sk-label input.sk-toggleable__control:checked~label.sk-toggleable__label {background-color: #d4ebff;}#sk-container-id-3 input.sk-hidden--visually {border: 0;clip: rect(1px 1px 1px 1px);clip: rect(1px, 1px, 1px, 1px);height: 1px;margin: -1px;overflow: hidden;padding: 0;position: absolute;width: 1px;}#sk-container-id-3 div.sk-estimator {font-family: monospace;background-color: #f0f8ff;border: 1px dotted black;border-radius: 0.25em;box-sizing: border-box;margin-bottom: 0.5em;}#sk-container-id-3 div.sk-estimator:hover {background-color: #d4ebff;}#sk-container-id-3 div.sk-parallel-item::after {content: \"\";width: 100%;border-bottom: 1px solid gray;flex-grow: 1;}#sk-container-id-3 div.sk-label:hover label.sk-toggleable__label {background-color: #d4ebff;}#sk-container-id-3 div.sk-serial::before {content: \"\";position: absolute;border-left: 1px solid gray;box-sizing: border-box;top: 0;bottom: 0;left: 50%;z-index: 0;}#sk-container-id-3 div.sk-serial {display: flex;flex-direction: column;align-items: center;background-color: white;padding-right: 0.2em;padding-left: 0.2em;position: relative;}#sk-container-id-3 div.sk-item {position: relative;z-index: 1;}#sk-container-id-3 div.sk-parallel {display: flex;align-items: stretch;justify-content: center;background-color: white;position: relative;}#sk-container-id-3 div.sk-item::before, #sk-container-id-3 div.sk-parallel-item::before {content: \"\";position: absolute;border-left: 1px solid gray;box-sizing: border-box;top: 0;bottom: 0;left: 50%;z-index: -1;}#sk-container-id-3 div.sk-parallel-item {display: flex;flex-direction: column;z-index: 1;position: relative;background-color: white;}#sk-container-id-3 div.sk-parallel-item:first-child::after {align-self: flex-end;width: 50%;}#sk-container-id-3 div.sk-parallel-item:last-child::after {align-self: flex-start;width: 50%;}#sk-container-id-3 div.sk-parallel-item:only-child::after {width: 0;}#sk-container-id-3 div.sk-dashed-wrapped {border: 1px dashed gray;margin: 0 0.4em 0.5em 0.4em;box-sizing: border-box;padding-bottom: 0.4em;background-color: white;}#sk-container-id-3 div.sk-label label {font-family: monospace;font-weight: bold;display: inline-block;line-height: 1.2em;}#sk-container-id-3 div.sk-label-container {text-align: center;}#sk-container-id-3 div.sk-container {/* jupyter's `normalize.less` sets `[hidden] { display: none; }` but bootstrap.min.css set `[hidden] { display: none !important; }` so we also need the `!important` here to be able to override the default hidden behavior on the sphinx rendered scikit-learn.org. See: https://github.com/scikit-learn/scikit-learn/issues/21755 */display: inline-block !important;position: relative;}#sk-container-id-3 div.sk-text-repr-fallback {display: none;}</style><div id=\"sk-container-id-3\" class=\"sk-top-container\"><div class=\"sk-text-repr-fallback\"><pre>XGBRegressor(base_score=None, booster=None, callbacks=None,\n",
              "             colsample_bylevel=None, colsample_bynode=None,\n",
              "             colsample_bytree=None, device=None, early_stopping_rounds=None,\n",
              "             enable_categorical=False, eval_metric=None, feature_types=None,\n",
              "             gamma=None, grow_policy=None, importance_type=None,\n",
              "             interaction_constraints=None, learning_rate=None, max_bin=None,\n",
              "             max_cat_threshold=None, max_cat_to_onehot=None,\n",
              "             max_delta_step=None, max_depth=None, max_leaves=None,\n",
              "             min_child_weight=None, missing=nan, monotone_constraints=None,\n",
              "             multi_strategy=None, n_estimators=10, n_jobs=None,\n",
              "             num_parallel_tree=None, objective=&#x27;reg:linear&#x27;, ...)</pre><b>In a Jupyter environment, please rerun this cell to show the HTML representation or trust the notebook. <br />On GitHub, the HTML representation is unable to render, please try loading this page with nbviewer.org.</b></div><div class=\"sk-container\" hidden><div class=\"sk-item\"><div class=\"sk-estimator sk-toggleable\"><input class=\"sk-toggleable__control sk-hidden--visually\" id=\"sk-estimator-id-3\" type=\"checkbox\" checked><label for=\"sk-estimator-id-3\" class=\"sk-toggleable__label sk-toggleable__label-arrow\">XGBRegressor</label><div class=\"sk-toggleable__content\"><pre>XGBRegressor(base_score=None, booster=None, callbacks=None,\n",
              "             colsample_bylevel=None, colsample_bynode=None,\n",
              "             colsample_bytree=None, device=None, early_stopping_rounds=None,\n",
              "             enable_categorical=False, eval_metric=None, feature_types=None,\n",
              "             gamma=None, grow_policy=None, importance_type=None,\n",
              "             interaction_constraints=None, learning_rate=None, max_bin=None,\n",
              "             max_cat_threshold=None, max_cat_to_onehot=None,\n",
              "             max_delta_step=None, max_depth=None, max_leaves=None,\n",
              "             min_child_weight=None, missing=nan, monotone_constraints=None,\n",
              "             multi_strategy=None, n_estimators=10, n_jobs=None,\n",
              "             num_parallel_tree=None, objective=&#x27;reg:linear&#x27;, ...)</pre></div></div></div></div></div>"
            ]
          },
          "metadata": {},
          "execution_count": 83
        }
      ],
      "source": [
        "reg = xg.XGBRegressor(objective ='reg:linear', n_estimators = 10, seed = 123)\n",
        "reg.fit(X_train, y_train)"
      ]
    },
    {
      "cell_type": "code",
      "execution_count": 84,
      "id": "ea90662e",
      "metadata": {
        "ExecuteTime": {
          "end_time": "2022-09-20T06:20:14.389976Z",
          "start_time": "2022-09-20T06:20:14.383025Z"
        },
        "id": "ea90662e"
      },
      "outputs": [],
      "source": [
        "pred = reg.predict(X_test)"
      ]
    },
    {
      "cell_type": "code",
      "execution_count": 85,
      "id": "03911e58",
      "metadata": {
        "ExecuteTime": {
          "end_time": "2022-09-20T06:20:14.583322Z",
          "start_time": "2022-09-20T06:20:14.575344Z"
        },
        "colab": {
          "base_uri": "https://localhost:8080/"
        },
        "id": "03911e58",
        "outputId": "9cfd735d-4843-49ae-889f-29b25f3cc04f"
      },
      "outputs": [
        {
          "output_type": "execute_result",
          "data": {
            "text/plain": [
              "0.989954682865676"
            ]
          },
          "metadata": {},
          "execution_count": 85
        }
      ],
      "source": [
        "reg.score(X_test, y_test)"
      ]
    },
    {
      "cell_type": "code",
      "execution_count": 86,
      "id": "86394739",
      "metadata": {
        "ExecuteTime": {
          "end_time": "2022-09-20T06:20:14.945785Z",
          "start_time": "2022-09-20T06:20:14.934816Z"
        },
        "colab": {
          "base_uri": "https://localhost:8080/"
        },
        "id": "86394739",
        "outputId": "564241dd-4ba8-4f1e-d55d-e25e1fd9f580"
      },
      "outputs": [
        {
          "output_type": "execute_result",
          "data": {
            "text/plain": [
              "0.9915467398630353"
            ]
          },
          "metadata": {},
          "execution_count": 86
        }
      ],
      "source": [
        "reg.score(X_train, y_train)"
      ]
    },
    {
      "cell_type": "code",
      "execution_count": 87,
      "id": "67879266",
      "metadata": {
        "ExecuteTime": {
          "end_time": "2022-09-20T06:20:17.309377Z",
          "start_time": "2022-09-20T06:20:17.304390Z"
        },
        "colab": {
          "base_uri": "https://localhost:8080/"
        },
        "id": "67879266",
        "outputId": "58e15eef-24b4-451c-c42e-56a18222b0fe"
      },
      "outputs": [
        {
          "output_type": "execute_result",
          "data": {
            "text/plain": [
              "0.00541905166253816"
            ]
          },
          "metadata": {},
          "execution_count": 87
        }
      ],
      "source": [
        "rmse = np.sqrt(MSE(y_test, pred))\n",
        "rmse"
      ]
    },
    {
      "cell_type": "markdown",
      "source": [
        "#  "
      ],
      "metadata": {
        "id": "uVPEPxPwPlyz"
      },
      "id": "uVPEPxPwPlyz"
    },
    {
      "cell_type": "markdown",
      "source": [
        "# Neural Network"
      ],
      "metadata": {
        "id": "kKS057k3BeJH"
      },
      "id": "kKS057k3BeJH"
    },
    {
      "cell_type": "code",
      "execution_count": 251,
      "id": "a1597296",
      "metadata": {
        "id": "a1597296"
      },
      "outputs": [],
      "source": [
        "import tensorflow as tf"
      ]
    },
    {
      "cell_type": "code",
      "source": [
        "from sklearn import preprocessing\n",
        "min_max_scaler = preprocessing.MinMaxScaler()\n",
        "X_scale = min_max_scaler.fit_transform(X)\n",
        "\n",
        "##Partition Data\n",
        "from sklearn.model_selection import train_test_split\n",
        "X_train, X_val_and_test, y_train, Y_val_and_test = train_test_split(X_scale, y, test_size=0.3)\n",
        "X_val, X_test, y_val, y_test = train_test_split(X_val_and_test, Y_val_and_test, test_size=0.5)\n",
        "print(X_train.shape, X_val.shape, X_test.shape, Y_train.shape, Y_val.shape, Y_test.shape)"
      ],
      "metadata": {
        "colab": {
          "base_uri": "https://localhost:8080/"
        },
        "id": "ZECyN4amKFin",
        "outputId": "7f15587f-c7b5-438b-fb07-e712afa72cc0"
      },
      "id": "ZECyN4amKFin",
      "execution_count": 267,
      "outputs": [
        {
          "output_type": "stream",
          "name": "stdout",
          "text": [
            "(19880, 20) (4260, 20) (4261, 20) (19880,) (4260,) (4261,)\n"
          ]
        }
      ]
    },
    {
      "cell_type": "code",
      "source": [
        "model = tf.keras.models.Sequential([\n",
        "    tf.keras.layers.Dense(10, input_shape=(20,), activation='relu'),\n",
        "    tf.keras.layers.Dense(1)\n",
        "])"
      ],
      "metadata": {
        "id": "wuFownDnBjnx"
      },
      "id": "wuFownDnBjnx",
      "execution_count": 301,
      "outputs": []
    },
    {
      "cell_type": "code",
      "source": [
        "model.compile(optimizer='adam', loss='mse', metrics=['mean_squared_error'])"
      ],
      "metadata": {
        "id": "hydR7SwdCZAw"
      },
      "id": "hydR7SwdCZAw",
      "execution_count": 302,
      "outputs": []
    },
    {
      "source": [
        "X_train = X_train.reshape((X_train.shape[0],) + model.input_shape[1:])"
      ],
      "cell_type": "code",
      "metadata": {
        "id": "ZkhIgbbwQkxo"
      },
      "id": "ZkhIgbbwQkxo",
      "execution_count": 298,
      "outputs": []
    },
    {
      "source": [
        "X_val = X_val.reshape((X_val.shape[0],) + model.input_shape[1:])"
      ],
      "cell_type": "code",
      "metadata": {
        "id": "z-fOdwQrQlkk"
      },
      "id": "z-fOdwQrQlkk",
      "execution_count": null,
      "outputs": []
    },
    {
      "cell_type": "code",
      "source": [
        "history = model.fit(X_train, y_train, validation_data=(X_val, y_val), epochs=500)"
      ],
      "metadata": {
        "colab": {
          "base_uri": "https://localhost:8080/"
        },
        "id": "P52qq5lpC_Vv",
        "outputId": "feb19a66-b60d-4b7a-bd62-8385bf0f2ae1"
      },
      "id": "P52qq5lpC_Vv",
      "execution_count": 303,
      "outputs": [
        {
          "output_type": "stream",
          "name": "stdout",
          "text": [
            "Epoch 1/500\n",
            "622/622 [==============================] - 2s 2ms/step - loss: 0.0726 - mean_squared_error: 0.0726 - val_loss: 0.0038 - val_mean_squared_error: 0.0038\n",
            "Epoch 2/500\n",
            "622/622 [==============================] - 1s 2ms/step - loss: 0.0023 - mean_squared_error: 0.0023 - val_loss: 0.0020 - val_mean_squared_error: 0.0020\n",
            "Epoch 3/500\n",
            "622/622 [==============================] - 1s 2ms/step - loss: 0.0016 - mean_squared_error: 0.0016 - val_loss: 0.0017 - val_mean_squared_error: 0.0017\n",
            "Epoch 4/500\n",
            "622/622 [==============================] - 2s 2ms/step - loss: 0.0014 - mean_squared_error: 0.0014 - val_loss: 0.0015 - val_mean_squared_error: 0.0015\n",
            "Epoch 5/500\n",
            "622/622 [==============================] - 2s 3ms/step - loss: 0.0012 - mean_squared_error: 0.0012 - val_loss: 0.0014 - val_mean_squared_error: 0.0014\n",
            "Epoch 6/500\n",
            "622/622 [==============================] - 1s 2ms/step - loss: 0.0011 - mean_squared_error: 0.0011 - val_loss: 0.0013 - val_mean_squared_error: 0.0013\n",
            "Epoch 7/500\n",
            "622/622 [==============================] - 1s 2ms/step - loss: 0.0010 - mean_squared_error: 0.0010 - val_loss: 0.0012 - val_mean_squared_error: 0.0012\n",
            "Epoch 8/500\n",
            "622/622 [==============================] - 1s 2ms/step - loss: 8.3705e-04 - mean_squared_error: 8.3705e-04 - val_loss: 9.4123e-04 - val_mean_squared_error: 9.4123e-04\n",
            "Epoch 9/500\n",
            "622/622 [==============================] - 1s 2ms/step - loss: 6.5930e-04 - mean_squared_error: 6.5930e-04 - val_loss: 8.2558e-04 - val_mean_squared_error: 8.2558e-04\n",
            "Epoch 10/500\n",
            "622/622 [==============================] - 1s 2ms/step - loss: 5.6774e-04 - mean_squared_error: 5.6774e-04 - val_loss: 6.9506e-04 - val_mean_squared_error: 6.9506e-04\n",
            "Epoch 11/500\n",
            "622/622 [==============================] - 1s 2ms/step - loss: 4.9723e-04 - mean_squared_error: 4.9723e-04 - val_loss: 6.2226e-04 - val_mean_squared_error: 6.2226e-04\n",
            "Epoch 12/500\n",
            "622/622 [==============================] - 1s 2ms/step - loss: 4.4090e-04 - mean_squared_error: 4.4090e-04 - val_loss: 5.5752e-04 - val_mean_squared_error: 5.5752e-04\n",
            "Epoch 13/500\n",
            "622/622 [==============================] - 2s 3ms/step - loss: 4.1306e-04 - mean_squared_error: 4.1306e-04 - val_loss: 5.1987e-04 - val_mean_squared_error: 5.1987e-04\n",
            "Epoch 14/500\n",
            "622/622 [==============================] - 2s 3ms/step - loss: 3.8289e-04 - mean_squared_error: 3.8289e-04 - val_loss: 4.9394e-04 - val_mean_squared_error: 4.9394e-04\n",
            "Epoch 15/500\n",
            "622/622 [==============================] - 1s 2ms/step - loss: 3.5494e-04 - mean_squared_error: 3.5494e-04 - val_loss: 4.8489e-04 - val_mean_squared_error: 4.8489e-04\n",
            "Epoch 16/500\n",
            "622/622 [==============================] - 2s 3ms/step - loss: 3.3304e-04 - mean_squared_error: 3.3304e-04 - val_loss: 4.3982e-04 - val_mean_squared_error: 4.3982e-04\n",
            "Epoch 17/500\n",
            "622/622 [==============================] - 2s 3ms/step - loss: 3.1009e-04 - mean_squared_error: 3.1009e-04 - val_loss: 4.2103e-04 - val_mean_squared_error: 4.2103e-04\n",
            "Epoch 18/500\n",
            "622/622 [==============================] - 2s 4ms/step - loss: 2.9470e-04 - mean_squared_error: 2.9470e-04 - val_loss: 4.4856e-04 - val_mean_squared_error: 4.4856e-04\n",
            "Epoch 19/500\n",
            "622/622 [==============================] - 2s 4ms/step - loss: 2.7972e-04 - mean_squared_error: 2.7972e-04 - val_loss: 3.8330e-04 - val_mean_squared_error: 3.8330e-04\n",
            "Epoch 20/500\n",
            "622/622 [==============================] - 2s 3ms/step - loss: 2.7361e-04 - mean_squared_error: 2.7361e-04 - val_loss: 3.7648e-04 - val_mean_squared_error: 3.7648e-04\n",
            "Epoch 21/500\n",
            "622/622 [==============================] - 1s 2ms/step - loss: 2.5318e-04 - mean_squared_error: 2.5318e-04 - val_loss: 3.7751e-04 - val_mean_squared_error: 3.7751e-04\n",
            "Epoch 22/500\n",
            "622/622 [==============================] - 1s 2ms/step - loss: 2.5362e-04 - mean_squared_error: 2.5362e-04 - val_loss: 3.4824e-04 - val_mean_squared_error: 3.4824e-04\n",
            "Epoch 23/500\n",
            "622/622 [==============================] - 1s 2ms/step - loss: 2.4417e-04 - mean_squared_error: 2.4417e-04 - val_loss: 3.7540e-04 - val_mean_squared_error: 3.7540e-04\n",
            "Epoch 24/500\n",
            "622/622 [==============================] - 1s 2ms/step - loss: 2.3003e-04 - mean_squared_error: 2.3003e-04 - val_loss: 3.3942e-04 - val_mean_squared_error: 3.3942e-04\n",
            "Epoch 25/500\n",
            "622/622 [==============================] - 1s 2ms/step - loss: 2.2358e-04 - mean_squared_error: 2.2358e-04 - val_loss: 3.5372e-04 - val_mean_squared_error: 3.5372e-04\n",
            "Epoch 26/500\n",
            "622/622 [==============================] - 1s 2ms/step - loss: 2.1766e-04 - mean_squared_error: 2.1766e-04 - val_loss: 3.5913e-04 - val_mean_squared_error: 3.5913e-04\n",
            "Epoch 27/500\n",
            "622/622 [==============================] - 1s 2ms/step - loss: 2.1478e-04 - mean_squared_error: 2.1478e-04 - val_loss: 3.5654e-04 - val_mean_squared_error: 3.5654e-04\n",
            "Epoch 28/500\n",
            "622/622 [==============================] - 2s 3ms/step - loss: 2.0670e-04 - mean_squared_error: 2.0670e-04 - val_loss: 3.6777e-04 - val_mean_squared_error: 3.6777e-04\n",
            "Epoch 29/500\n",
            "622/622 [==============================] - 2s 3ms/step - loss: 2.0503e-04 - mean_squared_error: 2.0503e-04 - val_loss: 3.4996e-04 - val_mean_squared_error: 3.4996e-04\n",
            "Epoch 30/500\n",
            "622/622 [==============================] - 1s 2ms/step - loss: 1.9593e-04 - mean_squared_error: 1.9593e-04 - val_loss: 3.4977e-04 - val_mean_squared_error: 3.4977e-04\n",
            "Epoch 31/500\n",
            "622/622 [==============================] - 1s 2ms/step - loss: 1.9849e-04 - mean_squared_error: 1.9849e-04 - val_loss: 3.2375e-04 - val_mean_squared_error: 3.2375e-04\n",
            "Epoch 32/500\n",
            "622/622 [==============================] - 1s 2ms/step - loss: 1.9382e-04 - mean_squared_error: 1.9382e-04 - val_loss: 3.3351e-04 - val_mean_squared_error: 3.3351e-04\n",
            "Epoch 33/500\n",
            "622/622 [==============================] - 1s 2ms/step - loss: 1.8328e-04 - mean_squared_error: 1.8328e-04 - val_loss: 3.2234e-04 - val_mean_squared_error: 3.2234e-04\n",
            "Epoch 34/500\n",
            "622/622 [==============================] - 1s 2ms/step - loss: 1.7830e-04 - mean_squared_error: 1.7830e-04 - val_loss: 3.1190e-04 - val_mean_squared_error: 3.1190e-04\n",
            "Epoch 35/500\n",
            "622/622 [==============================] - 1s 2ms/step - loss: 1.8072e-04 - mean_squared_error: 1.8072e-04 - val_loss: 3.1149e-04 - val_mean_squared_error: 3.1149e-04\n",
            "Epoch 36/500\n",
            "622/622 [==============================] - 1s 2ms/step - loss: 1.7373e-04 - mean_squared_error: 1.7373e-04 - val_loss: 3.0329e-04 - val_mean_squared_error: 3.0329e-04\n",
            "Epoch 37/500\n",
            "622/622 [==============================] - 2s 3ms/step - loss: 1.6914e-04 - mean_squared_error: 1.6914e-04 - val_loss: 3.0575e-04 - val_mean_squared_error: 3.0575e-04\n",
            "Epoch 38/500\n",
            "622/622 [==============================] - 1s 2ms/step - loss: 1.6118e-04 - mean_squared_error: 1.6118e-04 - val_loss: 3.1487e-04 - val_mean_squared_error: 3.1487e-04\n",
            "Epoch 39/500\n",
            "622/622 [==============================] - 1s 2ms/step - loss: 1.6562e-04 - mean_squared_error: 1.6562e-04 - val_loss: 3.3948e-04 - val_mean_squared_error: 3.3948e-04\n",
            "Epoch 40/500\n",
            "622/622 [==============================] - 1s 2ms/step - loss: 1.6069e-04 - mean_squared_error: 1.6069e-04 - val_loss: 3.4934e-04 - val_mean_squared_error: 3.4934e-04\n",
            "Epoch 41/500\n",
            "622/622 [==============================] - 1s 2ms/step - loss: 1.5529e-04 - mean_squared_error: 1.5529e-04 - val_loss: 3.0134e-04 - val_mean_squared_error: 3.0134e-04\n",
            "Epoch 42/500\n",
            "622/622 [==============================] - 1s 2ms/step - loss: 1.5187e-04 - mean_squared_error: 1.5187e-04 - val_loss: 3.0232e-04 - val_mean_squared_error: 3.0232e-04\n",
            "Epoch 43/500\n",
            "622/622 [==============================] - 2s 2ms/step - loss: 1.5524e-04 - mean_squared_error: 1.5524e-04 - val_loss: 3.2607e-04 - val_mean_squared_error: 3.2607e-04\n",
            "Epoch 44/500\n",
            "622/622 [==============================] - 1s 2ms/step - loss: 1.4710e-04 - mean_squared_error: 1.4710e-04 - val_loss: 2.9424e-04 - val_mean_squared_error: 2.9424e-04\n",
            "Epoch 45/500\n",
            "622/622 [==============================] - 2s 3ms/step - loss: 1.4628e-04 - mean_squared_error: 1.4628e-04 - val_loss: 3.1126e-04 - val_mean_squared_error: 3.1126e-04\n",
            "Epoch 46/500\n",
            "622/622 [==============================] - 2s 3ms/step - loss: 1.4689e-04 - mean_squared_error: 1.4689e-04 - val_loss: 2.7714e-04 - val_mean_squared_error: 2.7714e-04\n",
            "Epoch 47/500\n",
            "622/622 [==============================] - 1s 2ms/step - loss: 1.4159e-04 - mean_squared_error: 1.4159e-04 - val_loss: 2.8879e-04 - val_mean_squared_error: 2.8879e-04\n",
            "Epoch 48/500\n",
            "622/622 [==============================] - 1s 2ms/step - loss: 1.3894e-04 - mean_squared_error: 1.3894e-04 - val_loss: 3.2961e-04 - val_mean_squared_error: 3.2961e-04\n",
            "Epoch 49/500\n",
            "622/622 [==============================] - 1s 2ms/step - loss: 1.3688e-04 - mean_squared_error: 1.3688e-04 - val_loss: 2.8571e-04 - val_mean_squared_error: 2.8571e-04\n",
            "Epoch 50/500\n",
            "622/622 [==============================] - 1s 2ms/step - loss: 1.3997e-04 - mean_squared_error: 1.3997e-04 - val_loss: 2.8698e-04 - val_mean_squared_error: 2.8698e-04\n",
            "Epoch 51/500\n",
            "622/622 [==============================] - 1s 2ms/step - loss: 1.3621e-04 - mean_squared_error: 1.3621e-04 - val_loss: 2.7910e-04 - val_mean_squared_error: 2.7910e-04\n",
            "Epoch 52/500\n",
            "622/622 [==============================] - 1s 2ms/step - loss: 1.3300e-04 - mean_squared_error: 1.3300e-04 - val_loss: 2.8387e-04 - val_mean_squared_error: 2.8387e-04\n",
            "Epoch 53/500\n",
            "622/622 [==============================] - 2s 3ms/step - loss: 1.3214e-04 - mean_squared_error: 1.3214e-04 - val_loss: 2.9610e-04 - val_mean_squared_error: 2.9610e-04\n",
            "Epoch 54/500\n",
            "622/622 [==============================] - 2s 3ms/step - loss: 1.3421e-04 - mean_squared_error: 1.3421e-04 - val_loss: 2.8744e-04 - val_mean_squared_error: 2.8744e-04\n",
            "Epoch 55/500\n",
            "622/622 [==============================] - 1s 2ms/step - loss: 1.2938e-04 - mean_squared_error: 1.2938e-04 - val_loss: 2.9850e-04 - val_mean_squared_error: 2.9850e-04\n",
            "Epoch 56/500\n",
            "622/622 [==============================] - 1s 2ms/step - loss: 1.2920e-04 - mean_squared_error: 1.2920e-04 - val_loss: 2.9509e-04 - val_mean_squared_error: 2.9509e-04\n",
            "Epoch 57/500\n",
            "622/622 [==============================] - 1s 2ms/step - loss: 1.2620e-04 - mean_squared_error: 1.2620e-04 - val_loss: 2.9998e-04 - val_mean_squared_error: 2.9998e-04\n",
            "Epoch 58/500\n",
            "622/622 [==============================] - 1s 2ms/step - loss: 1.3108e-04 - mean_squared_error: 1.3108e-04 - val_loss: 2.7516e-04 - val_mean_squared_error: 2.7516e-04\n",
            "Epoch 59/500\n",
            "622/622 [==============================] - 1s 2ms/step - loss: 1.2368e-04 - mean_squared_error: 1.2368e-04 - val_loss: 2.7081e-04 - val_mean_squared_error: 2.7081e-04\n",
            "Epoch 60/500\n",
            "622/622 [==============================] - 2s 2ms/step - loss: 1.2137e-04 - mean_squared_error: 1.2137e-04 - val_loss: 2.9101e-04 - val_mean_squared_error: 2.9101e-04\n",
            "Epoch 61/500\n",
            "622/622 [==============================] - 1s 2ms/step - loss: 1.2441e-04 - mean_squared_error: 1.2441e-04 - val_loss: 2.7520e-04 - val_mean_squared_error: 2.7520e-04\n",
            "Epoch 62/500\n",
            "622/622 [==============================] - 2s 3ms/step - loss: 1.1807e-04 - mean_squared_error: 1.1807e-04 - val_loss: 2.8721e-04 - val_mean_squared_error: 2.8721e-04\n",
            "Epoch 63/500\n",
            "622/622 [==============================] - 2s 3ms/step - loss: 1.1842e-04 - mean_squared_error: 1.1842e-04 - val_loss: 2.6825e-04 - val_mean_squared_error: 2.6825e-04\n",
            "Epoch 64/500\n",
            "622/622 [==============================] - 1s 2ms/step - loss: 1.1603e-04 - mean_squared_error: 1.1603e-04 - val_loss: 2.6181e-04 - val_mean_squared_error: 2.6181e-04\n",
            "Epoch 65/500\n",
            "622/622 [==============================] - 1s 2ms/step - loss: 1.1961e-04 - mean_squared_error: 1.1961e-04 - val_loss: 2.7721e-04 - val_mean_squared_error: 2.7721e-04\n",
            "Epoch 66/500\n",
            "622/622 [==============================] - 1s 2ms/step - loss: 1.1171e-04 - mean_squared_error: 1.1171e-04 - val_loss: 2.8388e-04 - val_mean_squared_error: 2.8388e-04\n",
            "Epoch 67/500\n",
            "622/622 [==============================] - 1s 2ms/step - loss: 1.1571e-04 - mean_squared_error: 1.1571e-04 - val_loss: 2.6190e-04 - val_mean_squared_error: 2.6190e-04\n",
            "Epoch 68/500\n",
            "622/622 [==============================] - 1s 2ms/step - loss: 1.1460e-04 - mean_squared_error: 1.1460e-04 - val_loss: 2.7873e-04 - val_mean_squared_error: 2.7873e-04\n",
            "Epoch 69/500\n",
            "622/622 [==============================] - 1s 2ms/step - loss: 1.1660e-04 - mean_squared_error: 1.1660e-04 - val_loss: 2.5784e-04 - val_mean_squared_error: 2.5784e-04\n",
            "Epoch 70/500\n",
            "622/622 [==============================] - 2s 3ms/step - loss: 1.1518e-04 - mean_squared_error: 1.1518e-04 - val_loss: 2.7720e-04 - val_mean_squared_error: 2.7720e-04\n",
            "Epoch 71/500\n",
            "622/622 [==============================] - 2s 3ms/step - loss: 1.1357e-04 - mean_squared_error: 1.1357e-04 - val_loss: 2.8020e-04 - val_mean_squared_error: 2.8020e-04\n",
            "Epoch 72/500\n",
            "622/622 [==============================] - 1s 2ms/step - loss: 1.0776e-04 - mean_squared_error: 1.0776e-04 - val_loss: 2.6145e-04 - val_mean_squared_error: 2.6145e-04\n",
            "Epoch 73/500\n",
            "622/622 [==============================] - 1s 2ms/step - loss: 1.1015e-04 - mean_squared_error: 1.1015e-04 - val_loss: 2.5893e-04 - val_mean_squared_error: 2.5893e-04\n",
            "Epoch 74/500\n",
            "622/622 [==============================] - 1s 2ms/step - loss: 1.0758e-04 - mean_squared_error: 1.0758e-04 - val_loss: 2.5927e-04 - val_mean_squared_error: 2.5927e-04\n",
            "Epoch 75/500\n",
            "622/622 [==============================] - 1s 2ms/step - loss: 1.0965e-04 - mean_squared_error: 1.0965e-04 - val_loss: 2.7950e-04 - val_mean_squared_error: 2.7950e-04\n",
            "Epoch 76/500\n",
            "622/622 [==============================] - 1s 2ms/step - loss: 1.0906e-04 - mean_squared_error: 1.0906e-04 - val_loss: 2.9459e-04 - val_mean_squared_error: 2.9459e-04\n",
            "Epoch 77/500\n",
            "622/622 [==============================] - 1s 2ms/step - loss: 1.0575e-04 - mean_squared_error: 1.0575e-04 - val_loss: 2.7377e-04 - val_mean_squared_error: 2.7377e-04\n",
            "Epoch 78/500\n",
            "622/622 [==============================] - 1s 2ms/step - loss: 1.1113e-04 - mean_squared_error: 1.1113e-04 - val_loss: 2.5867e-04 - val_mean_squared_error: 2.5867e-04\n",
            "Epoch 79/500\n",
            "622/622 [==============================] - 2s 3ms/step - loss: 1.0726e-04 - mean_squared_error: 1.0726e-04 - val_loss: 2.5797e-04 - val_mean_squared_error: 2.5797e-04\n",
            "Epoch 80/500\n",
            "622/622 [==============================] - 2s 3ms/step - loss: 1.0445e-04 - mean_squared_error: 1.0445e-04 - val_loss: 2.5128e-04 - val_mean_squared_error: 2.5128e-04\n",
            "Epoch 81/500\n",
            "622/622 [==============================] - 1s 2ms/step - loss: 1.0249e-04 - mean_squared_error: 1.0249e-04 - val_loss: 2.8774e-04 - val_mean_squared_error: 2.8774e-04\n",
            "Epoch 82/500\n",
            "622/622 [==============================] - 1s 2ms/step - loss: 1.0768e-04 - mean_squared_error: 1.0768e-04 - val_loss: 2.8450e-04 - val_mean_squared_error: 2.8450e-04\n",
            "Epoch 83/500\n",
            "622/622 [==============================] - 1s 2ms/step - loss: 1.0406e-04 - mean_squared_error: 1.0406e-04 - val_loss: 2.4155e-04 - val_mean_squared_error: 2.4155e-04\n",
            "Epoch 84/500\n",
            "622/622 [==============================] - 1s 2ms/step - loss: 1.0496e-04 - mean_squared_error: 1.0496e-04 - val_loss: 2.4698e-04 - val_mean_squared_error: 2.4698e-04\n",
            "Epoch 85/500\n",
            "622/622 [==============================] - 1s 2ms/step - loss: 1.0374e-04 - mean_squared_error: 1.0374e-04 - val_loss: 2.4964e-04 - val_mean_squared_error: 2.4964e-04\n",
            "Epoch 86/500\n",
            "622/622 [==============================] - 1s 2ms/step - loss: 9.9589e-05 - mean_squared_error: 9.9589e-05 - val_loss: 4.0077e-04 - val_mean_squared_error: 4.0077e-04\n",
            "Epoch 87/500\n",
            "622/622 [==============================] - 2s 3ms/step - loss: 1.0486e-04 - mean_squared_error: 1.0486e-04 - val_loss: 2.5353e-04 - val_mean_squared_error: 2.5353e-04\n",
            "Epoch 88/500\n",
            "622/622 [==============================] - 2s 3ms/step - loss: 1.0032e-04 - mean_squared_error: 1.0032e-04 - val_loss: 2.4006e-04 - val_mean_squared_error: 2.4006e-04\n",
            "Epoch 89/500\n",
            "622/622 [==============================] - 1s 2ms/step - loss: 1.0159e-04 - mean_squared_error: 1.0159e-04 - val_loss: 2.4574e-04 - val_mean_squared_error: 2.4574e-04\n",
            "Epoch 90/500\n",
            "622/622 [==============================] - 1s 2ms/step - loss: 9.9736e-05 - mean_squared_error: 9.9736e-05 - val_loss: 2.4332e-04 - val_mean_squared_error: 2.4332e-04\n",
            "Epoch 91/500\n",
            "622/622 [==============================] - 1s 2ms/step - loss: 9.8567e-05 - mean_squared_error: 9.8567e-05 - val_loss: 2.3966e-04 - val_mean_squared_error: 2.3966e-04\n",
            "Epoch 92/500\n",
            "622/622 [==============================] - 1s 2ms/step - loss: 1.0257e-04 - mean_squared_error: 1.0257e-04 - val_loss: 2.5262e-04 - val_mean_squared_error: 2.5262e-04\n",
            "Epoch 93/500\n",
            "622/622 [==============================] - 1s 2ms/step - loss: 1.0377e-04 - mean_squared_error: 1.0377e-04 - val_loss: 2.4858e-04 - val_mean_squared_error: 2.4858e-04\n",
            "Epoch 94/500\n",
            "622/622 [==============================] - 1s 2ms/step - loss: 9.4913e-05 - mean_squared_error: 9.4913e-05 - val_loss: 2.5339e-04 - val_mean_squared_error: 2.5339e-04\n",
            "Epoch 95/500\n",
            "622/622 [==============================] - 1s 2ms/step - loss: 9.9478e-05 - mean_squared_error: 9.9478e-05 - val_loss: 2.3918e-04 - val_mean_squared_error: 2.3918e-04\n",
            "Epoch 96/500\n",
            "622/622 [==============================] - 2s 3ms/step - loss: 1.0028e-04 - mean_squared_error: 1.0028e-04 - val_loss: 2.3801e-04 - val_mean_squared_error: 2.3801e-04\n",
            "Epoch 97/500\n",
            "622/622 [==============================] - 2s 3ms/step - loss: 9.9821e-05 - mean_squared_error: 9.9821e-05 - val_loss: 3.0320e-04 - val_mean_squared_error: 3.0320e-04\n",
            "Epoch 98/500\n",
            "622/622 [==============================] - 1s 2ms/step - loss: 9.6334e-05 - mean_squared_error: 9.6334e-05 - val_loss: 2.6190e-04 - val_mean_squared_error: 2.6190e-04\n",
            "Epoch 99/500\n",
            "622/622 [==============================] - 1s 2ms/step - loss: 1.0129e-04 - mean_squared_error: 1.0129e-04 - val_loss: 2.6583e-04 - val_mean_squared_error: 2.6583e-04\n",
            "Epoch 100/500\n",
            "622/622 [==============================] - 1s 2ms/step - loss: 1.0229e-04 - mean_squared_error: 1.0229e-04 - val_loss: 2.6218e-04 - val_mean_squared_error: 2.6218e-04\n",
            "Epoch 101/500\n",
            "622/622 [==============================] - 1s 2ms/step - loss: 9.6301e-05 - mean_squared_error: 9.6301e-05 - val_loss: 2.4241e-04 - val_mean_squared_error: 2.4241e-04\n",
            "Epoch 102/500\n",
            "622/622 [==============================] - 1s 2ms/step - loss: 1.0218e-04 - mean_squared_error: 1.0218e-04 - val_loss: 2.3903e-04 - val_mean_squared_error: 2.3903e-04\n",
            "Epoch 103/500\n",
            "622/622 [==============================] - 1s 2ms/step - loss: 9.6577e-05 - mean_squared_error: 9.6577e-05 - val_loss: 2.4265e-04 - val_mean_squared_error: 2.4265e-04\n",
            "Epoch 104/500\n",
            "622/622 [==============================] - 1s 2ms/step - loss: 9.9078e-05 - mean_squared_error: 9.9078e-05 - val_loss: 2.5057e-04 - val_mean_squared_error: 2.5057e-04\n",
            "Epoch 105/500\n",
            "622/622 [==============================] - 2s 3ms/step - loss: 9.3126e-05 - mean_squared_error: 9.3126e-05 - val_loss: 3.1644e-04 - val_mean_squared_error: 3.1644e-04\n",
            "Epoch 106/500\n",
            "622/622 [==============================] - 2s 3ms/step - loss: 1.0010e-04 - mean_squared_error: 1.0010e-04 - val_loss: 2.4457e-04 - val_mean_squared_error: 2.4457e-04\n",
            "Epoch 107/500\n",
            "622/622 [==============================] - 1s 2ms/step - loss: 9.5873e-05 - mean_squared_error: 9.5873e-05 - val_loss: 2.3606e-04 - val_mean_squared_error: 2.3606e-04\n",
            "Epoch 108/500\n",
            "622/622 [==============================] - 1s 2ms/step - loss: 9.3019e-05 - mean_squared_error: 9.3019e-05 - val_loss: 2.3863e-04 - val_mean_squared_error: 2.3863e-04\n",
            "Epoch 109/500\n",
            "622/622 [==============================] - 1s 2ms/step - loss: 9.7617e-05 - mean_squared_error: 9.7617e-05 - val_loss: 2.4139e-04 - val_mean_squared_error: 2.4139e-04\n",
            "Epoch 110/500\n",
            "622/622 [==============================] - 1s 2ms/step - loss: 9.9584e-05 - mean_squared_error: 9.9584e-05 - val_loss: 2.2945e-04 - val_mean_squared_error: 2.2945e-04\n",
            "Epoch 111/500\n",
            "622/622 [==============================] - 1s 2ms/step - loss: 9.8564e-05 - mean_squared_error: 9.8564e-05 - val_loss: 2.3482e-04 - val_mean_squared_error: 2.3482e-04\n",
            "Epoch 112/500\n",
            "622/622 [==============================] - 1s 2ms/step - loss: 1.0088e-04 - mean_squared_error: 1.0088e-04 - val_loss: 2.4782e-04 - val_mean_squared_error: 2.4782e-04\n",
            "Epoch 113/500\n",
            "622/622 [==============================] - 2s 3ms/step - loss: 9.8077e-05 - mean_squared_error: 9.8077e-05 - val_loss: 2.3579e-04 - val_mean_squared_error: 2.3579e-04\n",
            "Epoch 114/500\n",
            "622/622 [==============================] - 2s 3ms/step - loss: 9.6330e-05 - mean_squared_error: 9.6330e-05 - val_loss: 2.3312e-04 - val_mean_squared_error: 2.3312e-04\n",
            "Epoch 115/500\n",
            "622/622 [==============================] - 1s 2ms/step - loss: 9.7053e-05 - mean_squared_error: 9.7053e-05 - val_loss: 2.4109e-04 - val_mean_squared_error: 2.4109e-04\n",
            "Epoch 116/500\n",
            "622/622 [==============================] - 1s 2ms/step - loss: 9.4357e-05 - mean_squared_error: 9.4357e-05 - val_loss: 2.3163e-04 - val_mean_squared_error: 2.3163e-04\n",
            "Epoch 117/500\n",
            "622/622 [==============================] - 1s 2ms/step - loss: 9.3206e-05 - mean_squared_error: 9.3206e-05 - val_loss: 2.4431e-04 - val_mean_squared_error: 2.4431e-04\n",
            "Epoch 118/500\n",
            "622/622 [==============================] - 1s 2ms/step - loss: 9.7286e-05 - mean_squared_error: 9.7286e-05 - val_loss: 2.3155e-04 - val_mean_squared_error: 2.3155e-04\n",
            "Epoch 119/500\n",
            "622/622 [==============================] - 1s 2ms/step - loss: 9.5799e-05 - mean_squared_error: 9.5799e-05 - val_loss: 2.3047e-04 - val_mean_squared_error: 2.3047e-04\n",
            "Epoch 120/500\n",
            "622/622 [==============================] - 1s 2ms/step - loss: 9.4424e-05 - mean_squared_error: 9.4424e-05 - val_loss: 2.3352e-04 - val_mean_squared_error: 2.3352e-04\n",
            "Epoch 121/500\n",
            "622/622 [==============================] - 1s 2ms/step - loss: 9.2859e-05 - mean_squared_error: 9.2859e-05 - val_loss: 2.2861e-04 - val_mean_squared_error: 2.2861e-04\n",
            "Epoch 122/500\n",
            "622/622 [==============================] - 2s 3ms/step - loss: 9.6384e-05 - mean_squared_error: 9.6384e-05 - val_loss: 2.3065e-04 - val_mean_squared_error: 2.3065e-04\n",
            "Epoch 123/500\n",
            "622/622 [==============================] - 2s 3ms/step - loss: 9.4976e-05 - mean_squared_error: 9.4976e-05 - val_loss: 2.3081e-04 - val_mean_squared_error: 2.3081e-04\n",
            "Epoch 124/500\n",
            "622/622 [==============================] - 1s 2ms/step - loss: 9.5428e-05 - mean_squared_error: 9.5428e-05 - val_loss: 2.3244e-04 - val_mean_squared_error: 2.3244e-04\n",
            "Epoch 125/500\n",
            "622/622 [==============================] - 1s 2ms/step - loss: 9.4624e-05 - mean_squared_error: 9.4624e-05 - val_loss: 2.4766e-04 - val_mean_squared_error: 2.4766e-04\n",
            "Epoch 126/500\n",
            "622/622 [==============================] - 1s 2ms/step - loss: 9.4125e-05 - mean_squared_error: 9.4125e-05 - val_loss: 2.3896e-04 - val_mean_squared_error: 2.3896e-04\n",
            "Epoch 127/500\n",
            "622/622 [==============================] - 1s 2ms/step - loss: 9.5259e-05 - mean_squared_error: 9.5259e-05 - val_loss: 2.4547e-04 - val_mean_squared_error: 2.4547e-04\n",
            "Epoch 128/500\n",
            "622/622 [==============================] - 1s 2ms/step - loss: 9.2634e-05 - mean_squared_error: 9.2634e-05 - val_loss: 2.4252e-04 - val_mean_squared_error: 2.4252e-04\n",
            "Epoch 129/500\n",
            "622/622 [==============================] - 2s 2ms/step - loss: 9.9613e-05 - mean_squared_error: 9.9613e-05 - val_loss: 2.3003e-04 - val_mean_squared_error: 2.3003e-04\n",
            "Epoch 130/500\n",
            "622/622 [==============================] - 2s 3ms/step - loss: 9.0924e-05 - mean_squared_error: 9.0924e-05 - val_loss: 2.3539e-04 - val_mean_squared_error: 2.3539e-04\n",
            "Epoch 131/500\n",
            "622/622 [==============================] - 2s 3ms/step - loss: 9.2948e-05 - mean_squared_error: 9.2948e-05 - val_loss: 2.3280e-04 - val_mean_squared_error: 2.3280e-04\n",
            "Epoch 132/500\n",
            "622/622 [==============================] - 1s 2ms/step - loss: 9.6433e-05 - mean_squared_error: 9.6433e-05 - val_loss: 2.4234e-04 - val_mean_squared_error: 2.4234e-04\n",
            "Epoch 133/500\n",
            "622/622 [==============================] - 1s 2ms/step - loss: 9.4617e-05 - mean_squared_error: 9.4617e-05 - val_loss: 2.2724e-04 - val_mean_squared_error: 2.2724e-04\n",
            "Epoch 134/500\n",
            "622/622 [==============================] - 1s 2ms/step - loss: 9.6482e-05 - mean_squared_error: 9.6482e-05 - val_loss: 2.3326e-04 - val_mean_squared_error: 2.3326e-04\n",
            "Epoch 135/500\n",
            "622/622 [==============================] - 1s 2ms/step - loss: 9.7347e-05 - mean_squared_error: 9.7347e-05 - val_loss: 2.2585e-04 - val_mean_squared_error: 2.2585e-04\n",
            "Epoch 136/500\n",
            "622/622 [==============================] - 1s 2ms/step - loss: 9.0420e-05 - mean_squared_error: 9.0420e-05 - val_loss: 2.2724e-04 - val_mean_squared_error: 2.2724e-04\n",
            "Epoch 137/500\n",
            "622/622 [==============================] - 1s 2ms/step - loss: 9.2667e-05 - mean_squared_error: 9.2667e-05 - val_loss: 2.5024e-04 - val_mean_squared_error: 2.5024e-04\n",
            "Epoch 138/500\n",
            "622/622 [==============================] - 2s 2ms/step - loss: 9.6254e-05 - mean_squared_error: 9.6254e-05 - val_loss: 2.4624e-04 - val_mean_squared_error: 2.4624e-04\n",
            "Epoch 139/500\n",
            "622/622 [==============================] - 2s 3ms/step - loss: 9.1646e-05 - mean_squared_error: 9.1646e-05 - val_loss: 2.2555e-04 - val_mean_squared_error: 2.2555e-04\n",
            "Epoch 140/500\n",
            "622/622 [==============================] - 1s 2ms/step - loss: 9.3650e-05 - mean_squared_error: 9.3650e-05 - val_loss: 2.4052e-04 - val_mean_squared_error: 2.4052e-04\n",
            "Epoch 141/500\n",
            "622/622 [==============================] - 1s 2ms/step - loss: 8.7133e-05 - mean_squared_error: 8.7133e-05 - val_loss: 2.2993e-04 - val_mean_squared_error: 2.2993e-04\n",
            "Epoch 142/500\n",
            "622/622 [==============================] - 1s 2ms/step - loss: 8.5455e-05 - mean_squared_error: 8.5455e-05 - val_loss: 2.2201e-04 - val_mean_squared_error: 2.2201e-04\n",
            "Epoch 143/500\n",
            "622/622 [==============================] - 1s 2ms/step - loss: 8.8526e-05 - mean_squared_error: 8.8526e-05 - val_loss: 2.3441e-04 - val_mean_squared_error: 2.3441e-04\n",
            "Epoch 144/500\n",
            "622/622 [==============================] - 1s 2ms/step - loss: 8.4288e-05 - mean_squared_error: 8.4288e-05 - val_loss: 2.1247e-04 - val_mean_squared_error: 2.1247e-04\n",
            "Epoch 145/500\n",
            "622/622 [==============================] - 1s 2ms/step - loss: 8.0931e-05 - mean_squared_error: 8.0931e-05 - val_loss: 2.3757e-04 - val_mean_squared_error: 2.3757e-04\n",
            "Epoch 146/500\n",
            "622/622 [==============================] - 1s 2ms/step - loss: 8.2752e-05 - mean_squared_error: 8.2752e-05 - val_loss: 2.2012e-04 - val_mean_squared_error: 2.2012e-04\n",
            "Epoch 147/500\n",
            "622/622 [==============================] - 2s 3ms/step - loss: 8.4443e-05 - mean_squared_error: 8.4443e-05 - val_loss: 1.9439e-04 - val_mean_squared_error: 1.9439e-04\n",
            "Epoch 148/500\n",
            "622/622 [==============================] - 2s 3ms/step - loss: 8.1936e-05 - mean_squared_error: 8.1936e-05 - val_loss: 2.0265e-04 - val_mean_squared_error: 2.0265e-04\n",
            "Epoch 149/500\n",
            "622/622 [==============================] - 1s 2ms/step - loss: 7.8523e-05 - mean_squared_error: 7.8523e-05 - val_loss: 1.9254e-04 - val_mean_squared_error: 1.9254e-04\n",
            "Epoch 150/500\n",
            "622/622 [==============================] - 2s 3ms/step - loss: 7.3066e-05 - mean_squared_error: 7.3066e-05 - val_loss: 1.7628e-04 - val_mean_squared_error: 1.7628e-04\n",
            "Epoch 151/500\n",
            "622/622 [==============================] - 2s 2ms/step - loss: 7.3277e-05 - mean_squared_error: 7.3277e-05 - val_loss: 2.6301e-04 - val_mean_squared_error: 2.6301e-04\n",
            "Epoch 152/500\n",
            "622/622 [==============================] - 1s 2ms/step - loss: 7.2472e-05 - mean_squared_error: 7.2472e-05 - val_loss: 1.8292e-04 - val_mean_squared_error: 1.8292e-04\n",
            "Epoch 153/500\n",
            "622/622 [==============================] - 1s 2ms/step - loss: 6.8910e-05 - mean_squared_error: 6.8910e-05 - val_loss: 1.8923e-04 - val_mean_squared_error: 1.8923e-04\n",
            "Epoch 154/500\n",
            "622/622 [==============================] - 1s 2ms/step - loss: 7.2935e-05 - mean_squared_error: 7.2935e-05 - val_loss: 1.6388e-04 - val_mean_squared_error: 1.6388e-04\n",
            "Epoch 155/500\n",
            "622/622 [==============================] - 2s 3ms/step - loss: 6.7908e-05 - mean_squared_error: 6.7908e-05 - val_loss: 2.0019e-04 - val_mean_squared_error: 2.0019e-04\n",
            "Epoch 156/500\n",
            "622/622 [==============================] - 2s 3ms/step - loss: 7.3509e-05 - mean_squared_error: 7.3509e-05 - val_loss: 1.6085e-04 - val_mean_squared_error: 1.6085e-04\n",
            "Epoch 157/500\n",
            "622/622 [==============================] - 1s 2ms/step - loss: 6.7431e-05 - mean_squared_error: 6.7431e-05 - val_loss: 1.8481e-04 - val_mean_squared_error: 1.8481e-04\n",
            "Epoch 158/500\n",
            "622/622 [==============================] - 1s 2ms/step - loss: 6.7407e-05 - mean_squared_error: 6.7407e-05 - val_loss: 1.6359e-04 - val_mean_squared_error: 1.6359e-04\n",
            "Epoch 159/500\n",
            "622/622 [==============================] - 1s 2ms/step - loss: 6.6151e-05 - mean_squared_error: 6.6151e-05 - val_loss: 1.5989e-04 - val_mean_squared_error: 1.5989e-04\n",
            "Epoch 160/500\n",
            "622/622 [==============================] - 1s 2ms/step - loss: 6.7497e-05 - mean_squared_error: 6.7497e-05 - val_loss: 1.7077e-04 - val_mean_squared_error: 1.7077e-04\n",
            "Epoch 161/500\n",
            "622/622 [==============================] - 1s 2ms/step - loss: 6.1293e-05 - mean_squared_error: 6.1293e-05 - val_loss: 1.4012e-04 - val_mean_squared_error: 1.4012e-04\n",
            "Epoch 162/500\n",
            "622/622 [==============================] - 1s 2ms/step - loss: 6.2335e-05 - mean_squared_error: 6.2335e-05 - val_loss: 1.4620e-04 - val_mean_squared_error: 1.4620e-04\n",
            "Epoch 163/500\n",
            "622/622 [==============================] - 1s 2ms/step - loss: 6.2865e-05 - mean_squared_error: 6.2865e-05 - val_loss: 1.6913e-04 - val_mean_squared_error: 1.6913e-04\n",
            "Epoch 164/500\n",
            "622/622 [==============================] - 2s 3ms/step - loss: 5.9271e-05 - mean_squared_error: 5.9271e-05 - val_loss: 1.3735e-04 - val_mean_squared_error: 1.3735e-04\n",
            "Epoch 165/500\n",
            "622/622 [==============================] - 2s 3ms/step - loss: 6.0402e-05 - mean_squared_error: 6.0402e-05 - val_loss: 1.2871e-04 - val_mean_squared_error: 1.2871e-04\n",
            "Epoch 166/500\n",
            "622/622 [==============================] - 2s 2ms/step - loss: 5.8792e-05 - mean_squared_error: 5.8792e-05 - val_loss: 1.3376e-04 - val_mean_squared_error: 1.3376e-04\n",
            "Epoch 167/500\n",
            "622/622 [==============================] - 1s 2ms/step - loss: 5.9805e-05 - mean_squared_error: 5.9805e-05 - val_loss: 1.5089e-04 - val_mean_squared_error: 1.5089e-04\n",
            "Epoch 168/500\n",
            "622/622 [==============================] - 1s 2ms/step - loss: 5.5737e-05 - mean_squared_error: 5.5737e-05 - val_loss: 1.3275e-04 - val_mean_squared_error: 1.3275e-04\n",
            "Epoch 169/500\n",
            "622/622 [==============================] - 1s 2ms/step - loss: 5.6883e-05 - mean_squared_error: 5.6883e-05 - val_loss: 1.3990e-04 - val_mean_squared_error: 1.3990e-04\n",
            "Epoch 170/500\n",
            "622/622 [==============================] - 1s 2ms/step - loss: 5.7172e-05 - mean_squared_error: 5.7172e-05 - val_loss: 1.5242e-04 - val_mean_squared_error: 1.5242e-04\n",
            "Epoch 171/500\n",
            "622/622 [==============================] - 1s 2ms/step - loss: 5.7953e-05 - mean_squared_error: 5.7953e-05 - val_loss: 1.2309e-04 - val_mean_squared_error: 1.2309e-04\n",
            "Epoch 172/500\n",
            "622/622 [==============================] - 2s 3ms/step - loss: 5.6807e-05 - mean_squared_error: 5.6807e-05 - val_loss: 1.2473e-04 - val_mean_squared_error: 1.2473e-04\n",
            "Epoch 173/500\n",
            "622/622 [==============================] - 2s 3ms/step - loss: 5.3094e-05 - mean_squared_error: 5.3094e-05 - val_loss: 1.2596e-04 - val_mean_squared_error: 1.2596e-04\n",
            "Epoch 174/500\n",
            "622/622 [==============================] - 2s 2ms/step - loss: 5.7165e-05 - mean_squared_error: 5.7165e-05 - val_loss: 1.2587e-04 - val_mean_squared_error: 1.2587e-04\n",
            "Epoch 175/500\n",
            "622/622 [==============================] - 1s 2ms/step - loss: 5.3488e-05 - mean_squared_error: 5.3488e-05 - val_loss: 1.3666e-04 - val_mean_squared_error: 1.3666e-04\n",
            "Epoch 176/500\n",
            "622/622 [==============================] - 1s 2ms/step - loss: 5.3371e-05 - mean_squared_error: 5.3371e-05 - val_loss: 1.2341e-04 - val_mean_squared_error: 1.2341e-04\n",
            "Epoch 177/500\n",
            "622/622 [==============================] - 1s 2ms/step - loss: 5.7818e-05 - mean_squared_error: 5.7818e-05 - val_loss: 1.2303e-04 - val_mean_squared_error: 1.2303e-04\n",
            "Epoch 178/500\n",
            "622/622 [==============================] - 1s 2ms/step - loss: 5.2192e-05 - mean_squared_error: 5.2192e-05 - val_loss: 1.1936e-04 - val_mean_squared_error: 1.1936e-04\n",
            "Epoch 179/500\n",
            "622/622 [==============================] - 1s 2ms/step - loss: 5.3566e-05 - mean_squared_error: 5.3566e-05 - val_loss: 1.5474e-04 - val_mean_squared_error: 1.5474e-04\n",
            "Epoch 180/500\n",
            "622/622 [==============================] - 2s 3ms/step - loss: 5.2613e-05 - mean_squared_error: 5.2613e-05 - val_loss: 1.1752e-04 - val_mean_squared_error: 1.1752e-04\n",
            "Epoch 181/500\n",
            "622/622 [==============================] - 2s 3ms/step - loss: 5.1417e-05 - mean_squared_error: 5.1417e-05 - val_loss: 1.3246e-04 - val_mean_squared_error: 1.3246e-04\n",
            "Epoch 182/500\n",
            "622/622 [==============================] - 1s 2ms/step - loss: 5.0870e-05 - mean_squared_error: 5.0870e-05 - val_loss: 1.1457e-04 - val_mean_squared_error: 1.1457e-04\n",
            "Epoch 183/500\n",
            "622/622 [==============================] - 1s 2ms/step - loss: 5.1111e-05 - mean_squared_error: 5.1111e-05 - val_loss: 1.1386e-04 - val_mean_squared_error: 1.1386e-04\n",
            "Epoch 184/500\n",
            "622/622 [==============================] - 1s 2ms/step - loss: 4.9475e-05 - mean_squared_error: 4.9475e-05 - val_loss: 1.2508e-04 - val_mean_squared_error: 1.2508e-04\n",
            "Epoch 185/500\n",
            "622/622 [==============================] - 1s 2ms/step - loss: 5.0886e-05 - mean_squared_error: 5.0886e-05 - val_loss: 1.4085e-04 - val_mean_squared_error: 1.4085e-04\n",
            "Epoch 186/500\n",
            "622/622 [==============================] - 1s 2ms/step - loss: 4.9665e-05 - mean_squared_error: 4.9665e-05 - val_loss: 1.2025e-04 - val_mean_squared_error: 1.2025e-04\n",
            "Epoch 187/500\n",
            "622/622 [==============================] - 1s 2ms/step - loss: 5.1440e-05 - mean_squared_error: 5.1440e-05 - val_loss: 1.2607e-04 - val_mean_squared_error: 1.2607e-04\n",
            "Epoch 188/500\n",
            "622/622 [==============================] - 2s 2ms/step - loss: 5.0418e-05 - mean_squared_error: 5.0418e-05 - val_loss: 1.5580e-04 - val_mean_squared_error: 1.5580e-04\n",
            "Epoch 189/500\n",
            "622/622 [==============================] - 2s 3ms/step - loss: 5.2074e-05 - mean_squared_error: 5.2074e-05 - val_loss: 1.2602e-04 - val_mean_squared_error: 1.2602e-04\n",
            "Epoch 190/500\n",
            "622/622 [==============================] - 1s 2ms/step - loss: 4.8179e-05 - mean_squared_error: 4.8179e-05 - val_loss: 1.1927e-04 - val_mean_squared_error: 1.1927e-04\n",
            "Epoch 191/500\n",
            "622/622 [==============================] - 1s 2ms/step - loss: 4.6831e-05 - mean_squared_error: 4.6831e-05 - val_loss: 1.1477e-04 - val_mean_squared_error: 1.1477e-04\n",
            "Epoch 192/500\n",
            "622/622 [==============================] - 1s 2ms/step - loss: 4.9259e-05 - mean_squared_error: 4.9259e-05 - val_loss: 1.1985e-04 - val_mean_squared_error: 1.1985e-04\n",
            "Epoch 193/500\n",
            "622/622 [==============================] - 1s 2ms/step - loss: 4.7843e-05 - mean_squared_error: 4.7843e-05 - val_loss: 1.2219e-04 - val_mean_squared_error: 1.2219e-04\n",
            "Epoch 194/500\n",
            "622/622 [==============================] - 1s 2ms/step - loss: 4.8939e-05 - mean_squared_error: 4.8939e-05 - val_loss: 1.2325e-04 - val_mean_squared_error: 1.2325e-04\n",
            "Epoch 195/500\n",
            "622/622 [==============================] - 1s 2ms/step - loss: 4.7124e-05 - mean_squared_error: 4.7124e-05 - val_loss: 1.3016e-04 - val_mean_squared_error: 1.3016e-04\n",
            "Epoch 196/500\n",
            "622/622 [==============================] - 1s 2ms/step - loss: 4.7077e-05 - mean_squared_error: 4.7077e-05 - val_loss: 1.4858e-04 - val_mean_squared_error: 1.4858e-04\n",
            "Epoch 197/500\n",
            "622/622 [==============================] - 2s 3ms/step - loss: 4.5688e-05 - mean_squared_error: 4.5688e-05 - val_loss: 1.1436e-04 - val_mean_squared_error: 1.1436e-04\n",
            "Epoch 198/500\n",
            "622/622 [==============================] - 2s 3ms/step - loss: 4.4399e-05 - mean_squared_error: 4.4399e-05 - val_loss: 1.0560e-04 - val_mean_squared_error: 1.0560e-04\n",
            "Epoch 199/500\n",
            "622/622 [==============================] - 2s 2ms/step - loss: 4.3154e-05 - mean_squared_error: 4.3154e-05 - val_loss: 1.0406e-04 - val_mean_squared_error: 1.0406e-04\n",
            "Epoch 200/500\n",
            "622/622 [==============================] - 1s 2ms/step - loss: 4.3860e-05 - mean_squared_error: 4.3860e-05 - val_loss: 1.1114e-04 - val_mean_squared_error: 1.1114e-04\n",
            "Epoch 201/500\n",
            "622/622 [==============================] - 1s 2ms/step - loss: 4.1978e-05 - mean_squared_error: 4.1978e-05 - val_loss: 1.2448e-04 - val_mean_squared_error: 1.2448e-04\n",
            "Epoch 202/500\n",
            "622/622 [==============================] - 1s 2ms/step - loss: 4.1737e-05 - mean_squared_error: 4.1737e-05 - val_loss: 1.1778e-04 - val_mean_squared_error: 1.1778e-04\n",
            "Epoch 203/500\n",
            "622/622 [==============================] - 1s 2ms/step - loss: 3.8754e-05 - mean_squared_error: 3.8754e-05 - val_loss: 1.0101e-04 - val_mean_squared_error: 1.0101e-04\n",
            "Epoch 204/500\n",
            "622/622 [==============================] - 1s 2ms/step - loss: 4.1482e-05 - mean_squared_error: 4.1482e-05 - val_loss: 1.0292e-04 - val_mean_squared_error: 1.0292e-04\n",
            "Epoch 205/500\n",
            "622/622 [==============================] - 2s 3ms/step - loss: 3.9545e-05 - mean_squared_error: 3.9545e-05 - val_loss: 9.5885e-05 - val_mean_squared_error: 9.5885e-05\n",
            "Epoch 206/500\n",
            "622/622 [==============================] - 2s 3ms/step - loss: 4.1228e-05 - mean_squared_error: 4.1228e-05 - val_loss: 1.0421e-04 - val_mean_squared_error: 1.0421e-04\n",
            "Epoch 207/500\n",
            "622/622 [==============================] - 1s 2ms/step - loss: 4.2819e-05 - mean_squared_error: 4.2819e-05 - val_loss: 1.1737e-04 - val_mean_squared_error: 1.1737e-04\n",
            "Epoch 208/500\n",
            "622/622 [==============================] - 1s 2ms/step - loss: 3.8694e-05 - mean_squared_error: 3.8694e-05 - val_loss: 1.0789e-04 - val_mean_squared_error: 1.0789e-04\n",
            "Epoch 209/500\n",
            "622/622 [==============================] - 1s 2ms/step - loss: 3.6566e-05 - mean_squared_error: 3.6566e-05 - val_loss: 9.9009e-05 - val_mean_squared_error: 9.9009e-05\n",
            "Epoch 210/500\n",
            "622/622 [==============================] - 1s 2ms/step - loss: 3.7170e-05 - mean_squared_error: 3.7170e-05 - val_loss: 9.6202e-05 - val_mean_squared_error: 9.6202e-05\n",
            "Epoch 211/500\n",
            "622/622 [==============================] - 1s 2ms/step - loss: 3.9443e-05 - mean_squared_error: 3.9443e-05 - val_loss: 9.6713e-05 - val_mean_squared_error: 9.6713e-05\n",
            "Epoch 212/500\n",
            "622/622 [==============================] - 1s 2ms/step - loss: 3.6628e-05 - mean_squared_error: 3.6628e-05 - val_loss: 1.1770e-04 - val_mean_squared_error: 1.1770e-04\n",
            "Epoch 213/500\n",
            "622/622 [==============================] - 1s 2ms/step - loss: 4.0645e-05 - mean_squared_error: 4.0645e-05 - val_loss: 9.8499e-05 - val_mean_squared_error: 9.8499e-05\n",
            "Epoch 214/500\n",
            "622/622 [==============================] - 2s 3ms/step - loss: 3.7504e-05 - mean_squared_error: 3.7504e-05 - val_loss: 9.7189e-05 - val_mean_squared_error: 9.7189e-05\n",
            "Epoch 215/500\n",
            "622/622 [==============================] - 2s 3ms/step - loss: 3.7003e-05 - mean_squared_error: 3.7003e-05 - val_loss: 9.7341e-05 - val_mean_squared_error: 9.7341e-05\n",
            "Epoch 216/500\n",
            "622/622 [==============================] - 1s 2ms/step - loss: 3.7274e-05 - mean_squared_error: 3.7274e-05 - val_loss: 9.3535e-05 - val_mean_squared_error: 9.3535e-05\n",
            "Epoch 217/500\n",
            "622/622 [==============================] - 1s 2ms/step - loss: 3.5035e-05 - mean_squared_error: 3.5035e-05 - val_loss: 1.1162e-04 - val_mean_squared_error: 1.1162e-04\n",
            "Epoch 218/500\n",
            "622/622 [==============================] - 1s 2ms/step - loss: 3.7343e-05 - mean_squared_error: 3.7343e-05 - val_loss: 9.2187e-05 - val_mean_squared_error: 9.2187e-05\n",
            "Epoch 219/500\n",
            "622/622 [==============================] - 2s 3ms/step - loss: 3.8308e-05 - mean_squared_error: 3.8308e-05 - val_loss: 9.1178e-05 - val_mean_squared_error: 9.1178e-05\n",
            "Epoch 220/500\n",
            "622/622 [==============================] - 1s 2ms/step - loss: 3.5060e-05 - mean_squared_error: 3.5060e-05 - val_loss: 9.6023e-05 - val_mean_squared_error: 9.6023e-05\n",
            "Epoch 221/500\n",
            "622/622 [==============================] - 2s 3ms/step - loss: 3.6295e-05 - mean_squared_error: 3.6295e-05 - val_loss: 9.1228e-05 - val_mean_squared_error: 9.1228e-05\n",
            "Epoch 222/500\n",
            "622/622 [==============================] - 2s 3ms/step - loss: 3.4668e-05 - mean_squared_error: 3.4668e-05 - val_loss: 9.9346e-05 - val_mean_squared_error: 9.9346e-05\n",
            "Epoch 223/500\n",
            "622/622 [==============================] - 2s 3ms/step - loss: 3.4920e-05 - mean_squared_error: 3.4920e-05 - val_loss: 8.9947e-05 - val_mean_squared_error: 8.9947e-05\n",
            "Epoch 224/500\n",
            "622/622 [==============================] - 1s 2ms/step - loss: 3.6417e-05 - mean_squared_error: 3.6417e-05 - val_loss: 9.3597e-05 - val_mean_squared_error: 9.3597e-05\n",
            "Epoch 225/500\n",
            "622/622 [==============================] - 1s 2ms/step - loss: 3.7587e-05 - mean_squared_error: 3.7587e-05 - val_loss: 9.6134e-05 - val_mean_squared_error: 9.6134e-05\n",
            "Epoch 226/500\n",
            "622/622 [==============================] - 2s 2ms/step - loss: 3.5923e-05 - mean_squared_error: 3.5923e-05 - val_loss: 1.1022e-04 - val_mean_squared_error: 1.1022e-04\n",
            "Epoch 227/500\n",
            "622/622 [==============================] - 2s 2ms/step - loss: 3.5140e-05 - mean_squared_error: 3.5140e-05 - val_loss: 1.1199e-04 - val_mean_squared_error: 1.1199e-04\n",
            "Epoch 228/500\n",
            "622/622 [==============================] - 1s 2ms/step - loss: 3.5698e-05 - mean_squared_error: 3.5698e-05 - val_loss: 1.0070e-04 - val_mean_squared_error: 1.0070e-04\n",
            "Epoch 229/500\n",
            "622/622 [==============================] - 1s 2ms/step - loss: 3.5621e-05 - mean_squared_error: 3.5621e-05 - val_loss: 9.1628e-05 - val_mean_squared_error: 9.1628e-05\n",
            "Epoch 230/500\n",
            "622/622 [==============================] - 2s 3ms/step - loss: 3.5933e-05 - mean_squared_error: 3.5933e-05 - val_loss: 9.2619e-05 - val_mean_squared_error: 9.2619e-05\n",
            "Epoch 231/500\n",
            "622/622 [==============================] - 2s 3ms/step - loss: 3.5190e-05 - mean_squared_error: 3.5190e-05 - val_loss: 1.0714e-04 - val_mean_squared_error: 1.0714e-04\n",
            "Epoch 232/500\n",
            "622/622 [==============================] - 1s 2ms/step - loss: 3.4374e-05 - mean_squared_error: 3.4374e-05 - val_loss: 9.5024e-05 - val_mean_squared_error: 9.5024e-05\n",
            "Epoch 233/500\n",
            "622/622 [==============================] - 1s 2ms/step - loss: 3.3153e-05 - mean_squared_error: 3.3153e-05 - val_loss: 1.0135e-04 - val_mean_squared_error: 1.0135e-04\n",
            "Epoch 234/500\n",
            "622/622 [==============================] - 1s 2ms/step - loss: 3.3802e-05 - mean_squared_error: 3.3802e-05 - val_loss: 9.8070e-05 - val_mean_squared_error: 9.8070e-05\n",
            "Epoch 235/500\n",
            "622/622 [==============================] - 1s 2ms/step - loss: 3.4924e-05 - mean_squared_error: 3.4924e-05 - val_loss: 9.0978e-05 - val_mean_squared_error: 9.0978e-05\n",
            "Epoch 236/500\n",
            "622/622 [==============================] - 1s 2ms/step - loss: 3.5376e-05 - mean_squared_error: 3.5376e-05 - val_loss: 1.2382e-04 - val_mean_squared_error: 1.2382e-04\n",
            "Epoch 237/500\n",
            "622/622 [==============================] - 1s 2ms/step - loss: 3.6147e-05 - mean_squared_error: 3.6147e-05 - val_loss: 9.8595e-05 - val_mean_squared_error: 9.8595e-05\n",
            "Epoch 238/500\n",
            "622/622 [==============================] - 1s 2ms/step - loss: 3.6389e-05 - mean_squared_error: 3.6389e-05 - val_loss: 1.6229e-04 - val_mean_squared_error: 1.6229e-04\n",
            "Epoch 239/500\n",
            "622/622 [==============================] - 2s 3ms/step - loss: 3.4109e-05 - mean_squared_error: 3.4109e-05 - val_loss: 9.5449e-05 - val_mean_squared_error: 9.5449e-05\n",
            "Epoch 240/500\n",
            "622/622 [==============================] - 2s 3ms/step - loss: 3.3544e-05 - mean_squared_error: 3.3544e-05 - val_loss: 9.5150e-05 - val_mean_squared_error: 9.5150e-05\n",
            "Epoch 241/500\n",
            "622/622 [==============================] - 1s 2ms/step - loss: 3.8556e-05 - mean_squared_error: 3.8556e-05 - val_loss: 1.0318e-04 - val_mean_squared_error: 1.0318e-04\n",
            "Epoch 242/500\n",
            "622/622 [==============================] - 1s 2ms/step - loss: 3.3330e-05 - mean_squared_error: 3.3330e-05 - val_loss: 9.3594e-05 - val_mean_squared_error: 9.3594e-05\n",
            "Epoch 243/500\n",
            "622/622 [==============================] - 1s 2ms/step - loss: 3.3117e-05 - mean_squared_error: 3.3117e-05 - val_loss: 9.2149e-05 - val_mean_squared_error: 9.2149e-05\n",
            "Epoch 244/500\n",
            "622/622 [==============================] - 1s 2ms/step - loss: 3.2749e-05 - mean_squared_error: 3.2749e-05 - val_loss: 9.6295e-05 - val_mean_squared_error: 9.6295e-05\n",
            "Epoch 245/500\n",
            "622/622 [==============================] - 1s 2ms/step - loss: 3.3253e-05 - mean_squared_error: 3.3253e-05 - val_loss: 8.9616e-05 - val_mean_squared_error: 8.9616e-05\n",
            "Epoch 246/500\n",
            "622/622 [==============================] - 1s 2ms/step - loss: 3.3745e-05 - mean_squared_error: 3.3745e-05 - val_loss: 9.8862e-05 - val_mean_squared_error: 9.8862e-05\n",
            "Epoch 247/500\n",
            "622/622 [==============================] - 2s 3ms/step - loss: 3.2650e-05 - mean_squared_error: 3.2650e-05 - val_loss: 1.0516e-04 - val_mean_squared_error: 1.0516e-04\n",
            "Epoch 248/500\n",
            "622/622 [==============================] - 2s 3ms/step - loss: 3.5546e-05 - mean_squared_error: 3.5546e-05 - val_loss: 9.3405e-05 - val_mean_squared_error: 9.3405e-05\n",
            "Epoch 249/500\n",
            "622/622 [==============================] - 1s 2ms/step - loss: 3.3238e-05 - mean_squared_error: 3.3238e-05 - val_loss: 8.5622e-05 - val_mean_squared_error: 8.5622e-05\n",
            "Epoch 250/500\n",
            "622/622 [==============================] - 1s 2ms/step - loss: 3.3232e-05 - mean_squared_error: 3.3232e-05 - val_loss: 9.1163e-05 - val_mean_squared_error: 9.1163e-05\n",
            "Epoch 251/500\n",
            "622/622 [==============================] - 1s 2ms/step - loss: 3.3925e-05 - mean_squared_error: 3.3925e-05 - val_loss: 8.6859e-05 - val_mean_squared_error: 8.6859e-05\n",
            "Epoch 252/500\n",
            "622/622 [==============================] - 1s 2ms/step - loss: 3.1066e-05 - mean_squared_error: 3.1066e-05 - val_loss: 9.9691e-05 - val_mean_squared_error: 9.9691e-05\n",
            "Epoch 253/500\n",
            "622/622 [==============================] - 1s 2ms/step - loss: 3.3450e-05 - mean_squared_error: 3.3450e-05 - val_loss: 1.0212e-04 - val_mean_squared_error: 1.0212e-04\n",
            "Epoch 254/500\n",
            "622/622 [==============================] - 1s 2ms/step - loss: 3.6514e-05 - mean_squared_error: 3.6514e-05 - val_loss: 8.7727e-05 - val_mean_squared_error: 8.7727e-05\n",
            "Epoch 255/500\n",
            "622/622 [==============================] - 2s 2ms/step - loss: 3.2718e-05 - mean_squared_error: 3.2718e-05 - val_loss: 9.1233e-05 - val_mean_squared_error: 9.1233e-05\n",
            "Epoch 256/500\n",
            "622/622 [==============================] - 2s 3ms/step - loss: 3.3665e-05 - mean_squared_error: 3.3665e-05 - val_loss: 8.6182e-05 - val_mean_squared_error: 8.6182e-05\n",
            "Epoch 257/500\n",
            "622/622 [==============================] - 1s 2ms/step - loss: 3.4007e-05 - mean_squared_error: 3.4007e-05 - val_loss: 8.7616e-05 - val_mean_squared_error: 8.7616e-05\n",
            "Epoch 258/500\n",
            "622/622 [==============================] - 1s 2ms/step - loss: 3.6635e-05 - mean_squared_error: 3.6635e-05 - val_loss: 8.7068e-05 - val_mean_squared_error: 8.7068e-05\n",
            "Epoch 259/500\n",
            "622/622 [==============================] - 1s 2ms/step - loss: 3.1738e-05 - mean_squared_error: 3.1738e-05 - val_loss: 8.8075e-05 - val_mean_squared_error: 8.8075e-05\n",
            "Epoch 260/500\n",
            "622/622 [==============================] - 1s 2ms/step - loss: 3.2866e-05 - mean_squared_error: 3.2866e-05 - val_loss: 9.1559e-05 - val_mean_squared_error: 9.1559e-05\n",
            "Epoch 261/500\n",
            "622/622 [==============================] - 1s 2ms/step - loss: 3.2275e-05 - mean_squared_error: 3.2275e-05 - val_loss: 9.0524e-05 - val_mean_squared_error: 9.0524e-05\n",
            "Epoch 262/500\n",
            "622/622 [==============================] - 1s 2ms/step - loss: 3.4002e-05 - mean_squared_error: 3.4002e-05 - val_loss: 9.2866e-05 - val_mean_squared_error: 9.2866e-05\n",
            "Epoch 263/500\n",
            "622/622 [==============================] - 1s 2ms/step - loss: 3.4239e-05 - mean_squared_error: 3.4239e-05 - val_loss: 9.1685e-05 - val_mean_squared_error: 9.1685e-05\n",
            "Epoch 264/500\n",
            "622/622 [==============================] - 2s 3ms/step - loss: 3.2564e-05 - mean_squared_error: 3.2564e-05 - val_loss: 9.0839e-05 - val_mean_squared_error: 9.0839e-05\n",
            "Epoch 265/500\n",
            "622/622 [==============================] - 2s 3ms/step - loss: 3.2821e-05 - mean_squared_error: 3.2821e-05 - val_loss: 8.9811e-05 - val_mean_squared_error: 8.9811e-05\n",
            "Epoch 266/500\n",
            "622/622 [==============================] - 1s 2ms/step - loss: 3.1979e-05 - mean_squared_error: 3.1979e-05 - val_loss: 8.9541e-05 - val_mean_squared_error: 8.9541e-05\n",
            "Epoch 267/500\n",
            "622/622 [==============================] - 1s 2ms/step - loss: 3.1860e-05 - mean_squared_error: 3.1860e-05 - val_loss: 8.7162e-05 - val_mean_squared_error: 8.7162e-05\n",
            "Epoch 268/500\n",
            "622/622 [==============================] - 1s 2ms/step - loss: 3.3138e-05 - mean_squared_error: 3.3138e-05 - val_loss: 9.9982e-05 - val_mean_squared_error: 9.9982e-05\n",
            "Epoch 269/500\n",
            "622/622 [==============================] - 1s 2ms/step - loss: 3.1200e-05 - mean_squared_error: 3.1200e-05 - val_loss: 8.7842e-05 - val_mean_squared_error: 8.7842e-05\n",
            "Epoch 270/500\n",
            "622/622 [==============================] - 1s 2ms/step - loss: 3.1087e-05 - mean_squared_error: 3.1087e-05 - val_loss: 8.9283e-05 - val_mean_squared_error: 8.9283e-05\n",
            "Epoch 271/500\n",
            "622/622 [==============================] - 1s 2ms/step - loss: 3.6023e-05 - mean_squared_error: 3.6023e-05 - val_loss: 8.4525e-05 - val_mean_squared_error: 8.4525e-05\n",
            "Epoch 272/500\n",
            "622/622 [==============================] - 2s 3ms/step - loss: 3.2214e-05 - mean_squared_error: 3.2214e-05 - val_loss: 8.9636e-05 - val_mean_squared_error: 8.9636e-05\n",
            "Epoch 273/500\n",
            "622/622 [==============================] - 2s 3ms/step - loss: 3.3692e-05 - mean_squared_error: 3.3692e-05 - val_loss: 8.9173e-05 - val_mean_squared_error: 8.9173e-05\n",
            "Epoch 274/500\n",
            "622/622 [==============================] - 2s 3ms/step - loss: 3.3983e-05 - mean_squared_error: 3.3983e-05 - val_loss: 1.0282e-04 - val_mean_squared_error: 1.0282e-04\n",
            "Epoch 275/500\n",
            "622/622 [==============================] - 1s 2ms/step - loss: 3.1119e-05 - mean_squared_error: 3.1119e-05 - val_loss: 9.9295e-05 - val_mean_squared_error: 9.9295e-05\n",
            "Epoch 276/500\n",
            "622/622 [==============================] - 1s 2ms/step - loss: 3.3237e-05 - mean_squared_error: 3.3237e-05 - val_loss: 9.5760e-05 - val_mean_squared_error: 9.5760e-05\n",
            "Epoch 277/500\n",
            "622/622 [==============================] - 2s 2ms/step - loss: 3.1745e-05 - mean_squared_error: 3.1745e-05 - val_loss: 9.4184e-05 - val_mean_squared_error: 9.4184e-05\n",
            "Epoch 278/500\n",
            "622/622 [==============================] - 2s 3ms/step - loss: 3.2061e-05 - mean_squared_error: 3.2061e-05 - val_loss: 8.9074e-05 - val_mean_squared_error: 8.9074e-05\n",
            "Epoch 279/500\n",
            "622/622 [==============================] - 2s 2ms/step - loss: 3.1218e-05 - mean_squared_error: 3.1218e-05 - val_loss: 8.6940e-05 - val_mean_squared_error: 8.6940e-05\n",
            "Epoch 280/500\n",
            "622/622 [==============================] - 1s 2ms/step - loss: 3.2574e-05 - mean_squared_error: 3.2574e-05 - val_loss: 1.1446e-04 - val_mean_squared_error: 1.1446e-04\n",
            "Epoch 281/500\n",
            "622/622 [==============================] - 2s 3ms/step - loss: 3.4252e-05 - mean_squared_error: 3.4252e-05 - val_loss: 9.8239e-05 - val_mean_squared_error: 9.8239e-05\n",
            "Epoch 282/500\n",
            "622/622 [==============================] - 2s 3ms/step - loss: 3.3826e-05 - mean_squared_error: 3.3826e-05 - val_loss: 9.1080e-05 - val_mean_squared_error: 9.1080e-05\n",
            "Epoch 283/500\n",
            "622/622 [==============================] - 1s 2ms/step - loss: 3.2595e-05 - mean_squared_error: 3.2595e-05 - val_loss: 9.1996e-05 - val_mean_squared_error: 9.1996e-05\n",
            "Epoch 284/500\n",
            "622/622 [==============================] - 1s 2ms/step - loss: 3.4151e-05 - mean_squared_error: 3.4151e-05 - val_loss: 9.5214e-05 - val_mean_squared_error: 9.5214e-05\n",
            "Epoch 285/500\n",
            "622/622 [==============================] - 1s 2ms/step - loss: 3.4152e-05 - mean_squared_error: 3.4152e-05 - val_loss: 8.6153e-05 - val_mean_squared_error: 8.6153e-05\n",
            "Epoch 286/500\n",
            "622/622 [==============================] - 1s 2ms/step - loss: 3.1873e-05 - mean_squared_error: 3.1873e-05 - val_loss: 9.2267e-05 - val_mean_squared_error: 9.2267e-05\n",
            "Epoch 287/500\n",
            "622/622 [==============================] - 1s 2ms/step - loss: 3.0571e-05 - mean_squared_error: 3.0571e-05 - val_loss: 8.8725e-05 - val_mean_squared_error: 8.8725e-05\n",
            "Epoch 288/500\n",
            "622/622 [==============================] - 1s 2ms/step - loss: 3.2416e-05 - mean_squared_error: 3.2416e-05 - val_loss: 8.8996e-05 - val_mean_squared_error: 8.8996e-05\n",
            "Epoch 289/500\n",
            "622/622 [==============================] - 2s 3ms/step - loss: 3.2517e-05 - mean_squared_error: 3.2517e-05 - val_loss: 9.0051e-05 - val_mean_squared_error: 9.0051e-05\n",
            "Epoch 290/500\n",
            "622/622 [==============================] - 2s 3ms/step - loss: 3.2148e-05 - mean_squared_error: 3.2148e-05 - val_loss: 8.6561e-05 - val_mean_squared_error: 8.6561e-05\n",
            "Epoch 291/500\n",
            "622/622 [==============================] - 1s 2ms/step - loss: 3.5083e-05 - mean_squared_error: 3.5083e-05 - val_loss: 8.5596e-05 - val_mean_squared_error: 8.5596e-05\n",
            "Epoch 292/500\n",
            "622/622 [==============================] - 1s 2ms/step - loss: 3.2116e-05 - mean_squared_error: 3.2116e-05 - val_loss: 9.5365e-05 - val_mean_squared_error: 9.5365e-05\n",
            "Epoch 293/500\n",
            "622/622 [==============================] - 1s 2ms/step - loss: 3.1105e-05 - mean_squared_error: 3.1105e-05 - val_loss: 8.9820e-05 - val_mean_squared_error: 8.9820e-05\n",
            "Epoch 294/500\n",
            "622/622 [==============================] - 2s 3ms/step - loss: 3.1386e-05 - mean_squared_error: 3.1386e-05 - val_loss: 8.8475e-05 - val_mean_squared_error: 8.8475e-05\n",
            "Epoch 295/500\n",
            "622/622 [==============================] - 1s 2ms/step - loss: 3.2022e-05 - mean_squared_error: 3.2022e-05 - val_loss: 9.4726e-05 - val_mean_squared_error: 9.4726e-05\n",
            "Epoch 296/500\n",
            "622/622 [==============================] - 1s 2ms/step - loss: 3.3567e-05 - mean_squared_error: 3.3567e-05 - val_loss: 8.6780e-05 - val_mean_squared_error: 8.6780e-05\n",
            "Epoch 297/500\n",
            "622/622 [==============================] - 2s 3ms/step - loss: 3.0054e-05 - mean_squared_error: 3.0054e-05 - val_loss: 9.1755e-05 - val_mean_squared_error: 9.1755e-05\n",
            "Epoch 298/500\n",
            "622/622 [==============================] - 2s 3ms/step - loss: 3.3177e-05 - mean_squared_error: 3.3177e-05 - val_loss: 8.9727e-05 - val_mean_squared_error: 8.9727e-05\n",
            "Epoch 299/500\n",
            "622/622 [==============================] - 2s 3ms/step - loss: 3.2520e-05 - mean_squared_error: 3.2520e-05 - val_loss: 9.2062e-05 - val_mean_squared_error: 9.2062e-05\n",
            "Epoch 300/500\n",
            "622/622 [==============================] - 1s 2ms/step - loss: 3.2896e-05 - mean_squared_error: 3.2896e-05 - val_loss: 9.3845e-05 - val_mean_squared_error: 9.3845e-05\n",
            "Epoch 301/500\n",
            "622/622 [==============================] - 2s 3ms/step - loss: 3.2583e-05 - mean_squared_error: 3.2583e-05 - val_loss: 8.7797e-05 - val_mean_squared_error: 8.7797e-05\n",
            "Epoch 302/500\n",
            "622/622 [==============================] - 1s 2ms/step - loss: 3.0840e-05 - mean_squared_error: 3.0840e-05 - val_loss: 8.8200e-05 - val_mean_squared_error: 8.8200e-05\n",
            "Epoch 303/500\n",
            "622/622 [==============================] - 1s 2ms/step - loss: 3.1225e-05 - mean_squared_error: 3.1225e-05 - val_loss: 9.6379e-05 - val_mean_squared_error: 9.6379e-05\n",
            "Epoch 304/500\n",
            "622/622 [==============================] - 1s 2ms/step - loss: 3.0555e-05 - mean_squared_error: 3.0555e-05 - val_loss: 8.8263e-05 - val_mean_squared_error: 8.8263e-05\n",
            "Epoch 305/500\n",
            "622/622 [==============================] - 2s 2ms/step - loss: 3.0397e-05 - mean_squared_error: 3.0397e-05 - val_loss: 8.4130e-05 - val_mean_squared_error: 8.4130e-05\n",
            "Epoch 306/500\n",
            "622/622 [==============================] - 2s 3ms/step - loss: 3.1956e-05 - mean_squared_error: 3.1956e-05 - val_loss: 1.1934e-04 - val_mean_squared_error: 1.1934e-04\n",
            "Epoch 307/500\n",
            "622/622 [==============================] - 2s 3ms/step - loss: 3.2394e-05 - mean_squared_error: 3.2394e-05 - val_loss: 8.4361e-05 - val_mean_squared_error: 8.4361e-05\n",
            "Epoch 308/500\n",
            "622/622 [==============================] - 1s 2ms/step - loss: 3.0924e-05 - mean_squared_error: 3.0924e-05 - val_loss: 1.0920e-04 - val_mean_squared_error: 1.0920e-04\n",
            "Epoch 309/500\n",
            "622/622 [==============================] - 1s 2ms/step - loss: 3.3630e-05 - mean_squared_error: 3.3630e-05 - val_loss: 9.1193e-05 - val_mean_squared_error: 9.1193e-05\n",
            "Epoch 310/500\n",
            "622/622 [==============================] - 2s 2ms/step - loss: 3.0081e-05 - mean_squared_error: 3.0081e-05 - val_loss: 8.4463e-05 - val_mean_squared_error: 8.4463e-05\n",
            "Epoch 311/500\n",
            "622/622 [==============================] - 1s 2ms/step - loss: 3.1349e-05 - mean_squared_error: 3.1349e-05 - val_loss: 9.1225e-05 - val_mean_squared_error: 9.1225e-05\n",
            "Epoch 312/500\n",
            "622/622 [==============================] - 1s 2ms/step - loss: 3.0377e-05 - mean_squared_error: 3.0377e-05 - val_loss: 8.7429e-05 - val_mean_squared_error: 8.7429e-05\n",
            "Epoch 313/500\n",
            "622/622 [==============================] - 1s 2ms/step - loss: 3.6290e-05 - mean_squared_error: 3.6290e-05 - val_loss: 8.7870e-05 - val_mean_squared_error: 8.7870e-05\n",
            "Epoch 314/500\n",
            "622/622 [==============================] - 2s 3ms/step - loss: 3.0088e-05 - mean_squared_error: 3.0088e-05 - val_loss: 9.0187e-05 - val_mean_squared_error: 9.0187e-05\n",
            "Epoch 315/500\n",
            "622/622 [==============================] - 2s 3ms/step - loss: 3.1419e-05 - mean_squared_error: 3.1419e-05 - val_loss: 8.3611e-05 - val_mean_squared_error: 8.3611e-05\n",
            "Epoch 316/500\n",
            "622/622 [==============================] - 1s 2ms/step - loss: 3.1073e-05 - mean_squared_error: 3.1073e-05 - val_loss: 8.2409e-05 - val_mean_squared_error: 8.2409e-05\n",
            "Epoch 317/500\n",
            "622/622 [==============================] - 1s 2ms/step - loss: 3.1493e-05 - mean_squared_error: 3.1493e-05 - val_loss: 7.9834e-05 - val_mean_squared_error: 7.9834e-05\n",
            "Epoch 318/500\n",
            "622/622 [==============================] - 1s 2ms/step - loss: 3.0601e-05 - mean_squared_error: 3.0601e-05 - val_loss: 7.7117e-05 - val_mean_squared_error: 7.7117e-05\n",
            "Epoch 319/500\n",
            "622/622 [==============================] - 2s 2ms/step - loss: 3.2458e-05 - mean_squared_error: 3.2458e-05 - val_loss: 8.5929e-05 - val_mean_squared_error: 8.5929e-05\n",
            "Epoch 320/500\n",
            "622/622 [==============================] - 2s 3ms/step - loss: 3.2406e-05 - mean_squared_error: 3.2406e-05 - val_loss: 7.6161e-05 - val_mean_squared_error: 7.6161e-05\n",
            "Epoch 321/500\n",
            "622/622 [==============================] - 1s 2ms/step - loss: 2.9769e-05 - mean_squared_error: 2.9769e-05 - val_loss: 7.3877e-05 - val_mean_squared_error: 7.3877e-05\n",
            "Epoch 322/500\n",
            "622/622 [==============================] - 2s 3ms/step - loss: 3.1901e-05 - mean_squared_error: 3.1901e-05 - val_loss: 1.0477e-04 - val_mean_squared_error: 1.0477e-04\n",
            "Epoch 323/500\n",
            "622/622 [==============================] - 2s 3ms/step - loss: 3.0985e-05 - mean_squared_error: 3.0985e-05 - val_loss: 7.7045e-05 - val_mean_squared_error: 7.7045e-05\n",
            "Epoch 324/500\n",
            "622/622 [==============================] - 2s 2ms/step - loss: 2.9198e-05 - mean_squared_error: 2.9198e-05 - val_loss: 7.5578e-05 - val_mean_squared_error: 7.5578e-05\n",
            "Epoch 325/500\n",
            "622/622 [==============================] - 1s 2ms/step - loss: 3.0864e-05 - mean_squared_error: 3.0864e-05 - val_loss: 7.6550e-05 - val_mean_squared_error: 7.6550e-05\n",
            "Epoch 326/500\n",
            "622/622 [==============================] - 2s 2ms/step - loss: 3.3200e-05 - mean_squared_error: 3.3200e-05 - val_loss: 7.7682e-05 - val_mean_squared_error: 7.7682e-05\n",
            "Epoch 327/500\n",
            "622/622 [==============================] - 1s 2ms/step - loss: 2.7750e-05 - mean_squared_error: 2.7750e-05 - val_loss: 8.2421e-05 - val_mean_squared_error: 8.2421e-05\n",
            "Epoch 328/500\n",
            "622/622 [==============================] - 1s 2ms/step - loss: 3.0380e-05 - mean_squared_error: 3.0380e-05 - val_loss: 7.6258e-05 - val_mean_squared_error: 7.6258e-05\n",
            "Epoch 329/500\n",
            "622/622 [==============================] - 1s 2ms/step - loss: 2.9598e-05 - mean_squared_error: 2.9598e-05 - val_loss: 7.3934e-05 - val_mean_squared_error: 7.3934e-05\n",
            "Epoch 330/500\n",
            "622/622 [==============================] - 1s 2ms/step - loss: 3.0567e-05 - mean_squared_error: 3.0567e-05 - val_loss: 8.1789e-05 - val_mean_squared_error: 8.1789e-05\n",
            "Epoch 331/500\n",
            "622/622 [==============================] - 2s 3ms/step - loss: 3.0453e-05 - mean_squared_error: 3.0453e-05 - val_loss: 7.4459e-05 - val_mean_squared_error: 7.4459e-05\n",
            "Epoch 332/500\n",
            "622/622 [==============================] - 2s 3ms/step - loss: 3.0866e-05 - mean_squared_error: 3.0866e-05 - val_loss: 7.0856e-05 - val_mean_squared_error: 7.0856e-05\n",
            "Epoch 333/500\n",
            "622/622 [==============================] - 1s 2ms/step - loss: 2.8620e-05 - mean_squared_error: 2.8620e-05 - val_loss: 7.4712e-05 - val_mean_squared_error: 7.4712e-05\n",
            "Epoch 334/500\n",
            "622/622 [==============================] - 1s 2ms/step - loss: 2.9502e-05 - mean_squared_error: 2.9502e-05 - val_loss: 7.9788e-05 - val_mean_squared_error: 7.9788e-05\n",
            "Epoch 335/500\n",
            "622/622 [==============================] - 1s 2ms/step - loss: 3.0117e-05 - mean_squared_error: 3.0117e-05 - val_loss: 7.8274e-05 - val_mean_squared_error: 7.8274e-05\n",
            "Epoch 336/500\n",
            "622/622 [==============================] - 1s 2ms/step - loss: 2.8013e-05 - mean_squared_error: 2.8013e-05 - val_loss: 6.9984e-05 - val_mean_squared_error: 6.9984e-05\n",
            "Epoch 337/500\n",
            "622/622 [==============================] - 1s 2ms/step - loss: 2.9944e-05 - mean_squared_error: 2.9944e-05 - val_loss: 7.2272e-05 - val_mean_squared_error: 7.2272e-05\n",
            "Epoch 338/500\n",
            "622/622 [==============================] - 1s 2ms/step - loss: 2.9898e-05 - mean_squared_error: 2.9898e-05 - val_loss: 8.5030e-05 - val_mean_squared_error: 8.5030e-05\n",
            "Epoch 339/500\n",
            "622/622 [==============================] - 2s 3ms/step - loss: 2.9906e-05 - mean_squared_error: 2.9906e-05 - val_loss: 7.7592e-05 - val_mean_squared_error: 7.7592e-05\n",
            "Epoch 340/500\n",
            "622/622 [==============================] - 2s 4ms/step - loss: 3.1249e-05 - mean_squared_error: 3.1249e-05 - val_loss: 7.2008e-05 - val_mean_squared_error: 7.2008e-05\n",
            "Epoch 341/500\n",
            "622/622 [==============================] - 2s 2ms/step - loss: 2.8563e-05 - mean_squared_error: 2.8563e-05 - val_loss: 8.9192e-05 - val_mean_squared_error: 8.9192e-05\n",
            "Epoch 342/500\n",
            "622/622 [==============================] - 2s 2ms/step - loss: 3.1048e-05 - mean_squared_error: 3.1048e-05 - val_loss: 7.2672e-05 - val_mean_squared_error: 7.2672e-05\n",
            "Epoch 343/500\n",
            "622/622 [==============================] - 1s 2ms/step - loss: 2.8613e-05 - mean_squared_error: 2.8613e-05 - val_loss: 7.0566e-05 - val_mean_squared_error: 7.0566e-05\n",
            "Epoch 344/500\n",
            "622/622 [==============================] - 2s 2ms/step - loss: 3.1536e-05 - mean_squared_error: 3.1536e-05 - val_loss: 8.2642e-05 - val_mean_squared_error: 8.2642e-05\n",
            "Epoch 345/500\n",
            "622/622 [==============================] - 2s 3ms/step - loss: 2.9542e-05 - mean_squared_error: 2.9542e-05 - val_loss: 7.3951e-05 - val_mean_squared_error: 7.3951e-05\n",
            "Epoch 346/500\n",
            "622/622 [==============================] - 2s 3ms/step - loss: 3.1027e-05 - mean_squared_error: 3.1027e-05 - val_loss: 7.2205e-05 - val_mean_squared_error: 7.2205e-05\n",
            "Epoch 347/500\n",
            "622/622 [==============================] - 2s 3ms/step - loss: 2.8664e-05 - mean_squared_error: 2.8664e-05 - val_loss: 7.0145e-05 - val_mean_squared_error: 7.0145e-05\n",
            "Epoch 348/500\n",
            "622/622 [==============================] - 2s 3ms/step - loss: 2.7817e-05 - mean_squared_error: 2.7817e-05 - val_loss: 1.0451e-04 - val_mean_squared_error: 1.0451e-04\n",
            "Epoch 349/500\n",
            "622/622 [==============================] - 1s 2ms/step - loss: 3.1868e-05 - mean_squared_error: 3.1868e-05 - val_loss: 6.9420e-05 - val_mean_squared_error: 6.9420e-05\n",
            "Epoch 350/500\n",
            "622/622 [==============================] - 1s 2ms/step - loss: 2.8179e-05 - mean_squared_error: 2.8179e-05 - val_loss: 7.5693e-05 - val_mean_squared_error: 7.5693e-05\n",
            "Epoch 351/500\n",
            "622/622 [==============================] - 2s 2ms/step - loss: 2.9529e-05 - mean_squared_error: 2.9529e-05 - val_loss: 7.9769e-05 - val_mean_squared_error: 7.9769e-05\n",
            "Epoch 352/500\n",
            "622/622 [==============================] - 2s 2ms/step - loss: 2.9895e-05 - mean_squared_error: 2.9895e-05 - val_loss: 6.9885e-05 - val_mean_squared_error: 6.9885e-05\n",
            "Epoch 353/500\n",
            "622/622 [==============================] - 2s 2ms/step - loss: 2.9295e-05 - mean_squared_error: 2.9295e-05 - val_loss: 7.1549e-05 - val_mean_squared_error: 7.1549e-05\n",
            "Epoch 354/500\n",
            "622/622 [==============================] - 2s 2ms/step - loss: 3.0762e-05 - mean_squared_error: 3.0762e-05 - val_loss: 7.8182e-05 - val_mean_squared_error: 7.8182e-05\n",
            "Epoch 355/500\n",
            "622/622 [==============================] - 2s 2ms/step - loss: 2.9875e-05 - mean_squared_error: 2.9875e-05 - val_loss: 6.6228e-05 - val_mean_squared_error: 6.6228e-05\n",
            "Epoch 356/500\n",
            "622/622 [==============================] - 2s 3ms/step - loss: 3.0345e-05 - mean_squared_error: 3.0345e-05 - val_loss: 7.0140e-05 - val_mean_squared_error: 7.0140e-05\n",
            "Epoch 357/500\n",
            "622/622 [==============================] - 2s 3ms/step - loss: 2.8884e-05 - mean_squared_error: 2.8884e-05 - val_loss: 8.7052e-05 - val_mean_squared_error: 8.7052e-05\n",
            "Epoch 358/500\n",
            "622/622 [==============================] - 2s 3ms/step - loss: 3.3428e-05 - mean_squared_error: 3.3428e-05 - val_loss: 7.6413e-05 - val_mean_squared_error: 7.6413e-05\n",
            "Epoch 359/500\n",
            "622/622 [==============================] - 1s 2ms/step - loss: 2.8817e-05 - mean_squared_error: 2.8817e-05 - val_loss: 7.0691e-05 - val_mean_squared_error: 7.0691e-05\n",
            "Epoch 360/500\n",
            "622/622 [==============================] - 1s 2ms/step - loss: 2.9772e-05 - mean_squared_error: 2.9772e-05 - val_loss: 7.9180e-05 - val_mean_squared_error: 7.9180e-05\n",
            "Epoch 361/500\n",
            "622/622 [==============================] - 1s 2ms/step - loss: 2.8468e-05 - mean_squared_error: 2.8468e-05 - val_loss: 7.0218e-05 - val_mean_squared_error: 7.0218e-05\n",
            "Epoch 362/500\n",
            "622/622 [==============================] - 2s 2ms/step - loss: 2.8890e-05 - mean_squared_error: 2.8890e-05 - val_loss: 7.0813e-05 - val_mean_squared_error: 7.0813e-05\n",
            "Epoch 363/500\n",
            "622/622 [==============================] - 1s 2ms/step - loss: 3.1888e-05 - mean_squared_error: 3.1888e-05 - val_loss: 7.1349e-05 - val_mean_squared_error: 7.1349e-05\n",
            "Epoch 364/500\n",
            "622/622 [==============================] - 2s 4ms/step - loss: 2.9375e-05 - mean_squared_error: 2.9375e-05 - val_loss: 6.9595e-05 - val_mean_squared_error: 6.9595e-05\n",
            "Epoch 365/500\n",
            "622/622 [==============================] - 2s 3ms/step - loss: 2.9109e-05 - mean_squared_error: 2.9109e-05 - val_loss: 7.6513e-05 - val_mean_squared_error: 7.6513e-05\n",
            "Epoch 366/500\n",
            "622/622 [==============================] - 1s 2ms/step - loss: 3.0268e-05 - mean_squared_error: 3.0268e-05 - val_loss: 7.2643e-05 - val_mean_squared_error: 7.2643e-05\n",
            "Epoch 367/500\n",
            "622/622 [==============================] - 2s 3ms/step - loss: 3.0666e-05 - mean_squared_error: 3.0666e-05 - val_loss: 7.7048e-05 - val_mean_squared_error: 7.7048e-05\n",
            "Epoch 368/500\n",
            "622/622 [==============================] - 1s 2ms/step - loss: 2.7815e-05 - mean_squared_error: 2.7815e-05 - val_loss: 7.1182e-05 - val_mean_squared_error: 7.1182e-05\n",
            "Epoch 369/500\n",
            "622/622 [==============================] - 1s 2ms/step - loss: 3.0105e-05 - mean_squared_error: 3.0105e-05 - val_loss: 7.8625e-05 - val_mean_squared_error: 7.8625e-05\n",
            "Epoch 370/500\n",
            "622/622 [==============================] - 1s 2ms/step - loss: 3.0023e-05 - mean_squared_error: 3.0023e-05 - val_loss: 7.6430e-05 - val_mean_squared_error: 7.6430e-05\n",
            "Epoch 371/500\n",
            "622/622 [==============================] - 1s 2ms/step - loss: 2.8155e-05 - mean_squared_error: 2.8155e-05 - val_loss: 6.9949e-05 - val_mean_squared_error: 6.9949e-05\n",
            "Epoch 372/500\n",
            "622/622 [==============================] - 2s 3ms/step - loss: 2.8451e-05 - mean_squared_error: 2.8451e-05 - val_loss: 6.8481e-05 - val_mean_squared_error: 6.8481e-05\n",
            "Epoch 373/500\n",
            "622/622 [==============================] - 2s 3ms/step - loss: 2.7422e-05 - mean_squared_error: 2.7422e-05 - val_loss: 6.9693e-05 - val_mean_squared_error: 6.9693e-05\n",
            "Epoch 374/500\n",
            "622/622 [==============================] - 2s 2ms/step - loss: 2.8854e-05 - mean_squared_error: 2.8854e-05 - val_loss: 8.4460e-05 - val_mean_squared_error: 8.4460e-05\n",
            "Epoch 375/500\n",
            "622/622 [==============================] - 1s 2ms/step - loss: 2.8806e-05 - mean_squared_error: 2.8806e-05 - val_loss: 6.7822e-05 - val_mean_squared_error: 6.7822e-05\n",
            "Epoch 376/500\n",
            "622/622 [==============================] - 1s 2ms/step - loss: 2.9465e-05 - mean_squared_error: 2.9465e-05 - val_loss: 7.5441e-05 - val_mean_squared_error: 7.5441e-05\n",
            "Epoch 377/500\n",
            "622/622 [==============================] - 1s 2ms/step - loss: 2.8194e-05 - mean_squared_error: 2.8194e-05 - val_loss: 8.4808e-05 - val_mean_squared_error: 8.4808e-05\n",
            "Epoch 378/500\n",
            "622/622 [==============================] - 1s 2ms/step - loss: 2.8500e-05 - mean_squared_error: 2.8500e-05 - val_loss: 6.8967e-05 - val_mean_squared_error: 6.8967e-05\n",
            "Epoch 379/500\n",
            "622/622 [==============================] - 1s 2ms/step - loss: 2.9118e-05 - mean_squared_error: 2.9118e-05 - val_loss: 7.0003e-05 - val_mean_squared_error: 7.0003e-05\n",
            "Epoch 380/500\n",
            "622/622 [==============================] - 2s 3ms/step - loss: 2.7464e-05 - mean_squared_error: 2.7464e-05 - val_loss: 8.3270e-05 - val_mean_squared_error: 8.3270e-05\n",
            "Epoch 381/500\n",
            "622/622 [==============================] - 2s 4ms/step - loss: 3.1108e-05 - mean_squared_error: 3.1108e-05 - val_loss: 7.4323e-05 - val_mean_squared_error: 7.4323e-05\n",
            "Epoch 382/500\n",
            "622/622 [==============================] - 2s 3ms/step - loss: 2.9525e-05 - mean_squared_error: 2.9525e-05 - val_loss: 8.6138e-05 - val_mean_squared_error: 8.6138e-05\n",
            "Epoch 383/500\n",
            "622/622 [==============================] - 2s 3ms/step - loss: 2.7990e-05 - mean_squared_error: 2.7990e-05 - val_loss: 7.1740e-05 - val_mean_squared_error: 7.1740e-05\n",
            "Epoch 384/500\n",
            "622/622 [==============================] - 1s 2ms/step - loss: 2.8130e-05 - mean_squared_error: 2.8130e-05 - val_loss: 7.4688e-05 - val_mean_squared_error: 7.4688e-05\n",
            "Epoch 385/500\n",
            "622/622 [==============================] - 1s 2ms/step - loss: 2.9836e-05 - mean_squared_error: 2.9836e-05 - val_loss: 7.5226e-05 - val_mean_squared_error: 7.5226e-05\n",
            "Epoch 386/500\n",
            "622/622 [==============================] - 1s 2ms/step - loss: 2.8859e-05 - mean_squared_error: 2.8859e-05 - val_loss: 7.2163e-05 - val_mean_squared_error: 7.2163e-05\n",
            "Epoch 387/500\n",
            "622/622 [==============================] - 2s 2ms/step - loss: 2.8136e-05 - mean_squared_error: 2.8136e-05 - val_loss: 7.5777e-05 - val_mean_squared_error: 7.5777e-05\n",
            "Epoch 388/500\n",
            "622/622 [==============================] - 2s 3ms/step - loss: 2.8710e-05 - mean_squared_error: 2.8710e-05 - val_loss: 6.7682e-05 - val_mean_squared_error: 6.7682e-05\n",
            "Epoch 389/500\n",
            "622/622 [==============================] - 2s 3ms/step - loss: 2.8873e-05 - mean_squared_error: 2.8873e-05 - val_loss: 7.7416e-05 - val_mean_squared_error: 7.7416e-05\n",
            "Epoch 390/500\n",
            "622/622 [==============================] - 2s 3ms/step - loss: 2.8963e-05 - mean_squared_error: 2.8963e-05 - val_loss: 7.0194e-05 - val_mean_squared_error: 7.0194e-05\n",
            "Epoch 391/500\n",
            "622/622 [==============================] - 2s 2ms/step - loss: 2.9955e-05 - mean_squared_error: 2.9955e-05 - val_loss: 7.3179e-05 - val_mean_squared_error: 7.3179e-05\n",
            "Epoch 392/500\n",
            "622/622 [==============================] - 2s 2ms/step - loss: 2.8416e-05 - mean_squared_error: 2.8416e-05 - val_loss: 7.0669e-05 - val_mean_squared_error: 7.0669e-05\n",
            "Epoch 393/500\n",
            "622/622 [==============================] - 1s 2ms/step - loss: 2.7655e-05 - mean_squared_error: 2.7655e-05 - val_loss: 6.9528e-05 - val_mean_squared_error: 6.9528e-05\n",
            "Epoch 394/500\n",
            "622/622 [==============================] - 2s 2ms/step - loss: 2.8615e-05 - mean_squared_error: 2.8615e-05 - val_loss: 7.2389e-05 - val_mean_squared_error: 7.2389e-05\n",
            "Epoch 395/500\n",
            "622/622 [==============================] - 2s 3ms/step - loss: 2.9148e-05 - mean_squared_error: 2.9148e-05 - val_loss: 6.7658e-05 - val_mean_squared_error: 6.7658e-05\n",
            "Epoch 396/500\n",
            "622/622 [==============================] - 2s 2ms/step - loss: 2.8678e-05 - mean_squared_error: 2.8678e-05 - val_loss: 7.4817e-05 - val_mean_squared_error: 7.4817e-05\n",
            "Epoch 397/500\n",
            "622/622 [==============================] - 2s 3ms/step - loss: 3.0918e-05 - mean_squared_error: 3.0918e-05 - val_loss: 8.1699e-05 - val_mean_squared_error: 8.1699e-05\n",
            "Epoch 398/500\n",
            "622/622 [==============================] - 2s 3ms/step - loss: 2.7510e-05 - mean_squared_error: 2.7510e-05 - val_loss: 7.1040e-05 - val_mean_squared_error: 7.1040e-05\n",
            "Epoch 399/500\n",
            "622/622 [==============================] - 1s 2ms/step - loss: 2.9550e-05 - mean_squared_error: 2.9550e-05 - val_loss: 8.0699e-05 - val_mean_squared_error: 8.0699e-05\n",
            "Epoch 400/500\n",
            "622/622 [==============================] - 1s 2ms/step - loss: 2.9259e-05 - mean_squared_error: 2.9259e-05 - val_loss: 7.8416e-05 - val_mean_squared_error: 7.8416e-05\n",
            "Epoch 401/500\n",
            "622/622 [==============================] - 2s 2ms/step - loss: 2.7209e-05 - mean_squared_error: 2.7209e-05 - val_loss: 7.1983e-05 - val_mean_squared_error: 7.1983e-05\n",
            "Epoch 402/500\n",
            "622/622 [==============================] - 1s 2ms/step - loss: 3.0905e-05 - mean_squared_error: 3.0905e-05 - val_loss: 7.5262e-05 - val_mean_squared_error: 7.5262e-05\n",
            "Epoch 403/500\n",
            "622/622 [==============================] - 1s 2ms/step - loss: 2.5830e-05 - mean_squared_error: 2.5830e-05 - val_loss: 7.1536e-05 - val_mean_squared_error: 7.1536e-05\n",
            "Epoch 404/500\n",
            "622/622 [==============================] - 2s 3ms/step - loss: 2.7457e-05 - mean_squared_error: 2.7457e-05 - val_loss: 6.9550e-05 - val_mean_squared_error: 6.9550e-05\n",
            "Epoch 405/500\n",
            "622/622 [==============================] - 2s 3ms/step - loss: 2.9998e-05 - mean_squared_error: 2.9998e-05 - val_loss: 7.2433e-05 - val_mean_squared_error: 7.2433e-05\n",
            "Epoch 406/500\n",
            "622/622 [==============================] - 2s 3ms/step - loss: 2.7699e-05 - mean_squared_error: 2.7699e-05 - val_loss: 7.7357e-05 - val_mean_squared_error: 7.7357e-05\n",
            "Epoch 407/500\n",
            "622/622 [==============================] - 2s 3ms/step - loss: 3.0037e-05 - mean_squared_error: 3.0037e-05 - val_loss: 7.8507e-05 - val_mean_squared_error: 7.8507e-05\n",
            "Epoch 408/500\n",
            "622/622 [==============================] - 1s 2ms/step - loss: 2.7232e-05 - mean_squared_error: 2.7232e-05 - val_loss: 7.0990e-05 - val_mean_squared_error: 7.0990e-05\n",
            "Epoch 409/500\n",
            "622/622 [==============================] - 2s 3ms/step - loss: 2.7934e-05 - mean_squared_error: 2.7934e-05 - val_loss: 7.7784e-05 - val_mean_squared_error: 7.7784e-05\n",
            "Epoch 410/500\n",
            "622/622 [==============================] - 2s 2ms/step - loss: 2.9561e-05 - mean_squared_error: 2.9561e-05 - val_loss: 7.1317e-05 - val_mean_squared_error: 7.1317e-05\n",
            "Epoch 411/500\n",
            "622/622 [==============================] - 2s 2ms/step - loss: 2.8049e-05 - mean_squared_error: 2.8049e-05 - val_loss: 8.7521e-05 - val_mean_squared_error: 8.7521e-05\n",
            "Epoch 412/500\n",
            "622/622 [==============================] - 1s 2ms/step - loss: 2.8970e-05 - mean_squared_error: 2.8970e-05 - val_loss: 6.9505e-05 - val_mean_squared_error: 6.9505e-05\n",
            "Epoch 413/500\n",
            "622/622 [==============================] - 2s 3ms/step - loss: 2.8184e-05 - mean_squared_error: 2.8184e-05 - val_loss: 7.4513e-05 - val_mean_squared_error: 7.4513e-05\n",
            "Epoch 414/500\n",
            "622/622 [==============================] - 2s 3ms/step - loss: 2.9518e-05 - mean_squared_error: 2.9518e-05 - val_loss: 6.7845e-05 - val_mean_squared_error: 6.7845e-05\n",
            "Epoch 415/500\n",
            "622/622 [==============================] - 2s 2ms/step - loss: 2.6705e-05 - mean_squared_error: 2.6705e-05 - val_loss: 6.6893e-05 - val_mean_squared_error: 6.6893e-05\n",
            "Epoch 416/500\n",
            "622/622 [==============================] - 1s 2ms/step - loss: 2.7708e-05 - mean_squared_error: 2.7708e-05 - val_loss: 7.0318e-05 - val_mean_squared_error: 7.0318e-05\n",
            "Epoch 417/500\n",
            "622/622 [==============================] - 2s 2ms/step - loss: 2.8132e-05 - mean_squared_error: 2.8132e-05 - val_loss: 8.1701e-05 - val_mean_squared_error: 8.1701e-05\n",
            "Epoch 418/500\n",
            "622/622 [==============================] - 1s 2ms/step - loss: 2.9823e-05 - mean_squared_error: 2.9823e-05 - val_loss: 6.7932e-05 - val_mean_squared_error: 6.7932e-05\n",
            "Epoch 419/500\n",
            "622/622 [==============================] - 2s 2ms/step - loss: 2.6640e-05 - mean_squared_error: 2.6640e-05 - val_loss: 6.7018e-05 - val_mean_squared_error: 6.7018e-05\n",
            "Epoch 420/500\n",
            "622/622 [==============================] - 1s 2ms/step - loss: 2.7738e-05 - mean_squared_error: 2.7738e-05 - val_loss: 6.9705e-05 - val_mean_squared_error: 6.9705e-05\n",
            "Epoch 421/500\n",
            "622/622 [==============================] - 2s 3ms/step - loss: 2.8435e-05 - mean_squared_error: 2.8435e-05 - val_loss: 7.3027e-05 - val_mean_squared_error: 7.3027e-05\n",
            "Epoch 422/500\n",
            "622/622 [==============================] - 2s 3ms/step - loss: 2.6403e-05 - mean_squared_error: 2.6403e-05 - val_loss: 6.8107e-05 - val_mean_squared_error: 6.8107e-05\n",
            "Epoch 423/500\n",
            "622/622 [==============================] - 2s 3ms/step - loss: 2.8634e-05 - mean_squared_error: 2.8634e-05 - val_loss: 6.5027e-05 - val_mean_squared_error: 6.5027e-05\n",
            "Epoch 424/500\n",
            "622/622 [==============================] - 1s 2ms/step - loss: 2.7085e-05 - mean_squared_error: 2.7085e-05 - val_loss: 1.0019e-04 - val_mean_squared_error: 1.0019e-04\n",
            "Epoch 425/500\n",
            "622/622 [==============================] - 1s 2ms/step - loss: 3.0904e-05 - mean_squared_error: 3.0904e-05 - val_loss: 7.3290e-05 - val_mean_squared_error: 7.3290e-05\n",
            "Epoch 426/500\n",
            "622/622 [==============================] - 1s 2ms/step - loss: 2.9491e-05 - mean_squared_error: 2.9491e-05 - val_loss: 7.3377e-05 - val_mean_squared_error: 7.3377e-05\n",
            "Epoch 427/500\n",
            "622/622 [==============================] - 1s 2ms/step - loss: 2.7464e-05 - mean_squared_error: 2.7464e-05 - val_loss: 7.9366e-05 - val_mean_squared_error: 7.9366e-05\n",
            "Epoch 428/500\n",
            "622/622 [==============================] - 2s 2ms/step - loss: 2.8413e-05 - mean_squared_error: 2.8413e-05 - val_loss: 7.1192e-05 - val_mean_squared_error: 7.1192e-05\n",
            "Epoch 429/500\n",
            "622/622 [==============================] - 1s 2ms/step - loss: 2.7255e-05 - mean_squared_error: 2.7255e-05 - val_loss: 6.5821e-05 - val_mean_squared_error: 6.5821e-05\n",
            "Epoch 430/500\n",
            "622/622 [==============================] - 2s 3ms/step - loss: 2.7255e-05 - mean_squared_error: 2.7255e-05 - val_loss: 6.7050e-05 - val_mean_squared_error: 6.7050e-05\n",
            "Epoch 431/500\n",
            "622/622 [==============================] - 2s 3ms/step - loss: 2.8555e-05 - mean_squared_error: 2.8555e-05 - val_loss: 7.3823e-05 - val_mean_squared_error: 7.3823e-05\n",
            "Epoch 432/500\n",
            "622/622 [==============================] - 2s 3ms/step - loss: 2.7443e-05 - mean_squared_error: 2.7443e-05 - val_loss: 7.1022e-05 - val_mean_squared_error: 7.1022e-05\n",
            "Epoch 433/500\n",
            "622/622 [==============================] - 2s 2ms/step - loss: 2.7520e-05 - mean_squared_error: 2.7520e-05 - val_loss: 8.8767e-05 - val_mean_squared_error: 8.8767e-05\n",
            "Epoch 434/500\n",
            "622/622 [==============================] - 1s 2ms/step - loss: 2.9276e-05 - mean_squared_error: 2.9276e-05 - val_loss: 9.2420e-05 - val_mean_squared_error: 9.2420e-05\n",
            "Epoch 435/500\n",
            "622/622 [==============================] - 1s 2ms/step - loss: 2.7398e-05 - mean_squared_error: 2.7398e-05 - val_loss: 7.8110e-05 - val_mean_squared_error: 7.8110e-05\n",
            "Epoch 436/500\n",
            "622/622 [==============================] - 2s 2ms/step - loss: 2.8721e-05 - mean_squared_error: 2.8721e-05 - val_loss: 7.2689e-05 - val_mean_squared_error: 7.2689e-05\n",
            "Epoch 437/500\n",
            "622/622 [==============================] - 1s 2ms/step - loss: 2.7589e-05 - mean_squared_error: 2.7589e-05 - val_loss: 7.6450e-05 - val_mean_squared_error: 7.6450e-05\n",
            "Epoch 438/500\n",
            "622/622 [==============================] - 1s 2ms/step - loss: 2.8974e-05 - mean_squared_error: 2.8974e-05 - val_loss: 7.0755e-05 - val_mean_squared_error: 7.0755e-05\n",
            "Epoch 439/500\n",
            "622/622 [==============================] - 2s 3ms/step - loss: 2.7527e-05 - mean_squared_error: 2.7527e-05 - val_loss: 6.8396e-05 - val_mean_squared_error: 6.8396e-05\n",
            "Epoch 440/500\n",
            "622/622 [==============================] - 2s 3ms/step - loss: 2.6873e-05 - mean_squared_error: 2.6873e-05 - val_loss: 7.7211e-05 - val_mean_squared_error: 7.7211e-05\n",
            "Epoch 441/500\n",
            "622/622 [==============================] - 1s 2ms/step - loss: 2.7143e-05 - mean_squared_error: 2.7143e-05 - val_loss: 7.9589e-05 - val_mean_squared_error: 7.9589e-05\n",
            "Epoch 442/500\n",
            "622/622 [==============================] - 1s 2ms/step - loss: 2.8186e-05 - mean_squared_error: 2.8186e-05 - val_loss: 6.7196e-05 - val_mean_squared_error: 6.7196e-05\n",
            "Epoch 443/500\n",
            "622/622 [==============================] - 2s 2ms/step - loss: 2.7760e-05 - mean_squared_error: 2.7760e-05 - val_loss: 7.4984e-05 - val_mean_squared_error: 7.4984e-05\n",
            "Epoch 444/500\n",
            "622/622 [==============================] - 1s 2ms/step - loss: 2.8576e-05 - mean_squared_error: 2.8576e-05 - val_loss: 7.1774e-05 - val_mean_squared_error: 7.1774e-05\n",
            "Epoch 445/500\n",
            "622/622 [==============================] - 1s 2ms/step - loss: 2.6993e-05 - mean_squared_error: 2.6993e-05 - val_loss: 7.3690e-05 - val_mean_squared_error: 7.3690e-05\n",
            "Epoch 446/500\n",
            "622/622 [==============================] - 1s 2ms/step - loss: 2.9990e-05 - mean_squared_error: 2.9990e-05 - val_loss: 6.9429e-05 - val_mean_squared_error: 6.9429e-05\n",
            "Epoch 447/500\n",
            "622/622 [==============================] - 1s 2ms/step - loss: 2.8807e-05 - mean_squared_error: 2.8807e-05 - val_loss: 6.7505e-05 - val_mean_squared_error: 6.7505e-05\n",
            "Epoch 448/500\n",
            "622/622 [==============================] - 2s 3ms/step - loss: 2.8479e-05 - mean_squared_error: 2.8479e-05 - val_loss: 8.1312e-05 - val_mean_squared_error: 8.1312e-05\n",
            "Epoch 449/500\n",
            "622/622 [==============================] - 2s 3ms/step - loss: 2.7839e-05 - mean_squared_error: 2.7839e-05 - val_loss: 6.6643e-05 - val_mean_squared_error: 6.6643e-05\n",
            "Epoch 450/500\n",
            "622/622 [==============================] - 1s 2ms/step - loss: 2.8523e-05 - mean_squared_error: 2.8523e-05 - val_loss: 7.6354e-05 - val_mean_squared_error: 7.6354e-05\n",
            "Epoch 451/500\n",
            "622/622 [==============================] - 1s 2ms/step - loss: 2.6855e-05 - mean_squared_error: 2.6855e-05 - val_loss: 6.8776e-05 - val_mean_squared_error: 6.8776e-05\n",
            "Epoch 452/500\n",
            "622/622 [==============================] - 1s 2ms/step - loss: 2.6610e-05 - mean_squared_error: 2.6610e-05 - val_loss: 6.6860e-05 - val_mean_squared_error: 6.6860e-05\n",
            "Epoch 453/500\n",
            "622/622 [==============================] - 1s 2ms/step - loss: 3.0207e-05 - mean_squared_error: 3.0207e-05 - val_loss: 7.1753e-05 - val_mean_squared_error: 7.1753e-05\n",
            "Epoch 454/500\n",
            "622/622 [==============================] - 1s 2ms/step - loss: 2.6136e-05 - mean_squared_error: 2.6136e-05 - val_loss: 7.0882e-05 - val_mean_squared_error: 7.0882e-05\n",
            "Epoch 455/500\n",
            "622/622 [==============================] - 1s 2ms/step - loss: 2.5958e-05 - mean_squared_error: 2.5958e-05 - val_loss: 7.5915e-05 - val_mean_squared_error: 7.5915e-05\n",
            "Epoch 456/500\n",
            "622/622 [==============================] - 2s 3ms/step - loss: 2.6418e-05 - mean_squared_error: 2.6418e-05 - val_loss: 6.5843e-05 - val_mean_squared_error: 6.5843e-05\n",
            "Epoch 457/500\n",
            "622/622 [==============================] - 2s 3ms/step - loss: 2.7119e-05 - mean_squared_error: 2.7119e-05 - val_loss: 7.0021e-05 - val_mean_squared_error: 7.0021e-05\n",
            "Epoch 458/500\n",
            "622/622 [==============================] - 1s 2ms/step - loss: 3.0710e-05 - mean_squared_error: 3.0710e-05 - val_loss: 7.0881e-05 - val_mean_squared_error: 7.0881e-05\n",
            "Epoch 459/500\n",
            "622/622 [==============================] - 1s 2ms/step - loss: 2.7202e-05 - mean_squared_error: 2.7202e-05 - val_loss: 7.6031e-05 - val_mean_squared_error: 7.6031e-05\n",
            "Epoch 460/500\n",
            "622/622 [==============================] - 2s 3ms/step - loss: 2.9334e-05 - mean_squared_error: 2.9334e-05 - val_loss: 7.7102e-05 - val_mean_squared_error: 7.7102e-05\n",
            "Epoch 461/500\n",
            "622/622 [==============================] - 1s 2ms/step - loss: 2.8740e-05 - mean_squared_error: 2.8740e-05 - val_loss: 7.9486e-05 - val_mean_squared_error: 7.9486e-05\n",
            "Epoch 462/500\n",
            "622/622 [==============================] - 2s 3ms/step - loss: 2.7576e-05 - mean_squared_error: 2.7576e-05 - val_loss: 6.7179e-05 - val_mean_squared_error: 6.7179e-05\n",
            "Epoch 463/500\n",
            "622/622 [==============================] - 1s 2ms/step - loss: 2.8295e-05 - mean_squared_error: 2.8295e-05 - val_loss: 8.4962e-05 - val_mean_squared_error: 8.4962e-05\n",
            "Epoch 464/500\n",
            "622/622 [==============================] - 2s 3ms/step - loss: 3.2226e-05 - mean_squared_error: 3.2226e-05 - val_loss: 7.0944e-05 - val_mean_squared_error: 7.0944e-05\n",
            "Epoch 465/500\n",
            "622/622 [==============================] - 2s 3ms/step - loss: 2.6431e-05 - mean_squared_error: 2.6431e-05 - val_loss: 7.5628e-05 - val_mean_squared_error: 7.5628e-05\n",
            "Epoch 466/500\n",
            "622/622 [==============================] - 2s 3ms/step - loss: 2.7159e-05 - mean_squared_error: 2.7159e-05 - val_loss: 7.0877e-05 - val_mean_squared_error: 7.0877e-05\n",
            "Epoch 467/500\n",
            "622/622 [==============================] - 1s 2ms/step - loss: 2.6821e-05 - mean_squared_error: 2.6821e-05 - val_loss: 6.8864e-05 - val_mean_squared_error: 6.8864e-05\n",
            "Epoch 468/500\n",
            "622/622 [==============================] - 2s 3ms/step - loss: 2.7050e-05 - mean_squared_error: 2.7050e-05 - val_loss: 7.0368e-05 - val_mean_squared_error: 7.0368e-05\n",
            "Epoch 469/500\n",
            "622/622 [==============================] - 2s 3ms/step - loss: 2.8653e-05 - mean_squared_error: 2.8653e-05 - val_loss: 6.8729e-05 - val_mean_squared_error: 6.8729e-05\n",
            "Epoch 470/500\n",
            "622/622 [==============================] - 2s 3ms/step - loss: 2.7916e-05 - mean_squared_error: 2.7916e-05 - val_loss: 6.5917e-05 - val_mean_squared_error: 6.5917e-05\n",
            "Epoch 471/500\n",
            "622/622 [==============================] - 2s 2ms/step - loss: 2.7721e-05 - mean_squared_error: 2.7721e-05 - val_loss: 6.5990e-05 - val_mean_squared_error: 6.5990e-05\n",
            "Epoch 472/500\n",
            "622/622 [==============================] - 1s 2ms/step - loss: 2.7097e-05 - mean_squared_error: 2.7097e-05 - val_loss: 6.9732e-05 - val_mean_squared_error: 6.9732e-05\n",
            "Epoch 473/500\n",
            "622/622 [==============================] - 2s 3ms/step - loss: 2.6368e-05 - mean_squared_error: 2.6368e-05 - val_loss: 6.9200e-05 - val_mean_squared_error: 6.9200e-05\n",
            "Epoch 474/500\n",
            "622/622 [==============================] - 2s 4ms/step - loss: 2.6856e-05 - mean_squared_error: 2.6856e-05 - val_loss: 6.7981e-05 - val_mean_squared_error: 6.7981e-05\n",
            "Epoch 475/500\n",
            "622/622 [==============================] - 1s 2ms/step - loss: 2.7361e-05 - mean_squared_error: 2.7361e-05 - val_loss: 8.0577e-05 - val_mean_squared_error: 8.0577e-05\n",
            "Epoch 476/500\n",
            "622/622 [==============================] - 2s 2ms/step - loss: 2.8969e-05 - mean_squared_error: 2.8969e-05 - val_loss: 7.1339e-05 - val_mean_squared_error: 7.1339e-05\n",
            "Epoch 477/500\n",
            "622/622 [==============================] - 1s 2ms/step - loss: 2.7312e-05 - mean_squared_error: 2.7312e-05 - val_loss: 8.0421e-05 - val_mean_squared_error: 8.0421e-05\n",
            "Epoch 478/500\n",
            "622/622 [==============================] - 2s 3ms/step - loss: 2.6343e-05 - mean_squared_error: 2.6343e-05 - val_loss: 6.7743e-05 - val_mean_squared_error: 6.7743e-05\n",
            "Epoch 479/500\n",
            "622/622 [==============================] - 1s 2ms/step - loss: 2.7837e-05 - mean_squared_error: 2.7837e-05 - val_loss: 6.9999e-05 - val_mean_squared_error: 6.9999e-05\n",
            "Epoch 480/500\n",
            "622/622 [==============================] - 2s 3ms/step - loss: 2.8832e-05 - mean_squared_error: 2.8832e-05 - val_loss: 6.8130e-05 - val_mean_squared_error: 6.8130e-05\n",
            "Epoch 481/500\n",
            "622/622 [==============================] - 2s 3ms/step - loss: 2.7212e-05 - mean_squared_error: 2.7212e-05 - val_loss: 8.1355e-05 - val_mean_squared_error: 8.1355e-05\n",
            "Epoch 482/500\n",
            "622/622 [==============================] - 2s 3ms/step - loss: 2.7417e-05 - mean_squared_error: 2.7417e-05 - val_loss: 7.1045e-05 - val_mean_squared_error: 7.1045e-05\n",
            "Epoch 483/500\n",
            "622/622 [==============================] - 1s 2ms/step - loss: 2.6752e-05 - mean_squared_error: 2.6752e-05 - val_loss: 7.1093e-05 - val_mean_squared_error: 7.1093e-05\n",
            "Epoch 484/500\n",
            "622/622 [==============================] - 1s 2ms/step - loss: 2.9639e-05 - mean_squared_error: 2.9639e-05 - val_loss: 7.3699e-05 - val_mean_squared_error: 7.3699e-05\n",
            "Epoch 485/500\n",
            "622/622 [==============================] - 2s 2ms/step - loss: 2.6845e-05 - mean_squared_error: 2.6845e-05 - val_loss: 6.9336e-05 - val_mean_squared_error: 6.9336e-05\n",
            "Epoch 486/500\n",
            "622/622 [==============================] - 2s 3ms/step - loss: 2.9795e-05 - mean_squared_error: 2.9795e-05 - val_loss: 6.7219e-05 - val_mean_squared_error: 6.7219e-05\n",
            "Epoch 487/500\n",
            "622/622 [==============================] - 2s 2ms/step - loss: 2.7768e-05 - mean_squared_error: 2.7768e-05 - val_loss: 7.3089e-05 - val_mean_squared_error: 7.3089e-05\n",
            "Epoch 488/500\n",
            "622/622 [==============================] - 2s 2ms/step - loss: 2.8200e-05 - mean_squared_error: 2.8200e-05 - val_loss: 7.0150e-05 - val_mean_squared_error: 7.0150e-05\n",
            "Epoch 489/500\n",
            "622/622 [==============================] - 2s 3ms/step - loss: 2.7011e-05 - mean_squared_error: 2.7011e-05 - val_loss: 1.0143e-04 - val_mean_squared_error: 1.0143e-04\n",
            "Epoch 490/500\n",
            "622/622 [==============================] - 2s 4ms/step - loss: 2.8652e-05 - mean_squared_error: 2.8652e-05 - val_loss: 6.4270e-05 - val_mean_squared_error: 6.4270e-05\n",
            "Epoch 491/500\n",
            "622/622 [==============================] - 2s 3ms/step - loss: 2.5063e-05 - mean_squared_error: 2.5063e-05 - val_loss: 7.1359e-05 - val_mean_squared_error: 7.1359e-05\n",
            "Epoch 492/500\n",
            "622/622 [==============================] - 1s 2ms/step - loss: 2.8412e-05 - mean_squared_error: 2.8412e-05 - val_loss: 7.3067e-05 - val_mean_squared_error: 7.3067e-05\n",
            "Epoch 493/500\n",
            "622/622 [==============================] - 2s 3ms/step - loss: 2.6439e-05 - mean_squared_error: 2.6439e-05 - val_loss: 7.5861e-05 - val_mean_squared_error: 7.5861e-05\n",
            "Epoch 494/500\n",
            "622/622 [==============================] - 2s 2ms/step - loss: 2.8197e-05 - mean_squared_error: 2.8197e-05 - val_loss: 6.8587e-05 - val_mean_squared_error: 6.8587e-05\n",
            "Epoch 495/500\n",
            "622/622 [==============================] - 2s 2ms/step - loss: 2.7513e-05 - mean_squared_error: 2.7513e-05 - val_loss: 7.1640e-05 - val_mean_squared_error: 7.1640e-05\n",
            "Epoch 496/500\n",
            "622/622 [==============================] - 1s 2ms/step - loss: 2.7575e-05 - mean_squared_error: 2.7575e-05 - val_loss: 7.1422e-05 - val_mean_squared_error: 7.1422e-05\n",
            "Epoch 497/500\n",
            "622/622 [==============================] - 2s 3ms/step - loss: 2.6735e-05 - mean_squared_error: 2.6735e-05 - val_loss: 6.9237e-05 - val_mean_squared_error: 6.9237e-05\n",
            "Epoch 498/500\n",
            "622/622 [==============================] - 2s 3ms/step - loss: 2.6961e-05 - mean_squared_error: 2.6961e-05 - val_loss: 6.8870e-05 - val_mean_squared_error: 6.8870e-05\n",
            "Epoch 499/500\n",
            "622/622 [==============================] - 2s 3ms/step - loss: 2.9320e-05 - mean_squared_error: 2.9320e-05 - val_loss: 7.1306e-05 - val_mean_squared_error: 7.1306e-05\n",
            "Epoch 500/500\n",
            "622/622 [==============================] - 1s 2ms/step - loss: 2.6162e-05 - mean_squared_error: 2.6162e-05 - val_loss: 6.8347e-05 - val_mean_squared_error: 6.8347e-05\n"
          ]
        }
      ]
    },
    {
      "cell_type": "code",
      "source": [
        "import seaborn as sns\n",
        "sns.set_theme()\n",
        "plt.title('model Loss\\nSummer 2022 Football Transfer Market')\n",
        "plt.ylabel('Loss')\n",
        "plt.xlabel('epoch')\n",
        "plt.legend()\n",
        "plt.plot(history.history['loss'][1:], label='training')\n",
        "plt.plot(history.history['val_loss'][1:], label='validation')"
      ],
      "metadata": {
        "colab": {
          "base_uri": "https://localhost:8080/",
          "height": 556
        },
        "id": "iBE-fzoQD5MA",
        "outputId": "f1b3d4b7-9b2f-44bc-eeef-8c3a6ccfa86f"
      },
      "id": "iBE-fzoQD5MA",
      "execution_count": 306,
      "outputs": [
        {
          "output_type": "stream",
          "name": "stderr",
          "text": [
            "WARNING:matplotlib.legend:No artists with labels found to put in legend.  Note that artists whose label start with an underscore are ignored when legend() is called with no argument.\n"
          ]
        },
        {
          "output_type": "execute_result",
          "data": {
            "text/plain": [
              "[<matplotlib.lines.Line2D at 0x7f8e3025e0e0>]"
            ]
          },
          "metadata": {},
          "execution_count": 306
        },
        {
          "output_type": "display_data",
          "data": {
            "text/plain": [
              "<Figure size 640x480 with 1 Axes>"
            ],
            "image/png": "[encoded data removed]"
          },
          "metadata": {}
        }
      ]
    },
    {
      "cell_type": "code",
      "source": [
        "model.evaluate(X_test, y_test)"
      ],
      "metadata": {
        "colab": {
          "base_uri": "https://localhost:8080/"
        },
        "id": "gm0LTC_ZRvuP",
        "outputId": "81723ede-ef06-4b77-ec4a-5f1c1a9a4eb9"
      },
      "id": "gm0LTC_ZRvuP",
      "execution_count": 305,
      "outputs": [
        {
          "output_type": "stream",
          "name": "stdout",
          "text": [
            "134/134 [==============================] - 0s 1ms/step - loss: 2.0937e-05 - mean_squared_error: 2.0937e-05\n"
          ]
        },
        {
          "output_type": "execute_result",
          "data": {
            "text/plain": [
              "[2.0937459339620546e-05, 2.0937459339620546e-05]"
            ]
          },
          "metadata": {},
          "execution_count": 305
        }
      ]
    }
  ],
  "metadata": {
    "kernelspec": {
      "display_name": "Python 3 (ipykernel)",
      "language": "python",
      "name": "python3"
    },
    "language_info": {
      "codemirror_mode": {
        "name": "ipython",
        "version": 3
      },
      "file_extension": ".py",
      "mimetype": "text/x-python",
      "name": "python",
      "nbconvert_exporter": "python",
      "pygments_lexer": "ipython3",
      "version": "3.9.7"
    },
    "colab": {
      "provenance": []
    }
  },
  "nbformat": 4,
  "nbformat_minor": 5
}