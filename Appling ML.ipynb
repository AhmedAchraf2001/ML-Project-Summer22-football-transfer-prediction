{
 "cells": [
  {
   "cell_type": "code",
   "execution_count": 11,
   "id": "327688a2",
   "metadata": {
    "ExecuteTime": {
     "end_time": "2022-09-15T03:52:04.140741Z",
     "start_time": "2022-09-15T03:52:04.136751Z"
    }
   },
   "outputs": [],
   "source": [
    "from sklearn.preprocessing import OneHotEncoder\n",
    "import pandas as pd\n",
    "import numpy as np"
   ]
  },
  {
   "cell_type": "code",
   "execution_count": 3,
   "id": "bd8b1406",
   "metadata": {
    "ExecuteTime": {
     "end_time": "2022-09-15T03:47:42.380553Z",
     "start_time": "2022-09-15T03:47:42.345645Z"
    }
   },
   "outputs": [],
   "source": [
    "data = pd.read_csv('Cleaned Data')\n",
    "data.drop('Unnamed: 0', axis = 1 , inplace= True)"
   ]
  },
  {
   "cell_type": "code",
   "execution_count": 4,
   "id": "3dac5b4e",
   "metadata": {
    "ExecuteTime": {
     "end_time": "2022-09-15T03:47:50.953322Z",
     "start_time": "2022-09-15T03:47:50.944353Z"
    }
   },
   "outputs": [
    {
     "data": {
      "text/html": [
       "<div>\n",
       "<style scoped>\n",
       "    .dataframe tbody tr th:only-of-type {\n",
       "        vertical-align: middle;\n",
       "    }\n",
       "\n",
       "    .dataframe tbody tr th {\n",
       "        vertical-align: top;\n",
       "    }\n",
       "\n",
       "    .dataframe thead th {\n",
       "        text-align: right;\n",
       "    }\n",
       "</style>\n",
       "<table border=\"1\" class=\"dataframe\">\n",
       "  <thead>\n",
       "    <tr style=\"text-align: right;\">\n",
       "      <th></th>\n",
       "      <th>position</th>\n",
       "      <th>age</th>\n",
       "      <th>origin_club</th>\n",
       "      <th>new_club</th>\n",
       "      <th>cost</th>\n",
       "    </tr>\n",
       "  </thead>\n",
       "  <tbody>\n",
       "    <tr>\n",
       "      <th>0</th>\n",
       "      <td>Central Midfield</td>\n",
       "      <td>21.0</td>\n",
       "      <td>Wadi Degla FC</td>\n",
       "      <td>Future FC</td>\n",
       "      <td>150000.0</td>\n",
       "    </tr>\n",
       "    <tr>\n",
       "      <th>1</th>\n",
       "      <td>Centre-Forward</td>\n",
       "      <td>24.0</td>\n",
       "      <td>Wadi Degla FC</td>\n",
       "      <td>Future FC</td>\n",
       "      <td>200000.0</td>\n",
       "    </tr>\n",
       "    <tr>\n",
       "      <th>2</th>\n",
       "      <td>Attacking Midfield</td>\n",
       "      <td>19.0</td>\n",
       "      <td>Lokomotiv Moscow</td>\n",
       "      <td>Vitória Guimarães SC</td>\n",
       "      <td>250000.0</td>\n",
       "    </tr>\n",
       "    <tr>\n",
       "      <th>3</th>\n",
       "      <td>Centre-Back</td>\n",
       "      <td>19.0</td>\n",
       "      <td>Delfino Pescara 1936</td>\n",
       "      <td>Cagliari Calcio</td>\n",
       "      <td>200000.0</td>\n",
       "    </tr>\n",
       "    <tr>\n",
       "      <th>4</th>\n",
       "      <td>Left-Back</td>\n",
       "      <td>24.0</td>\n",
       "      <td>Dynamo Kyiv</td>\n",
       "      <td>Zorya Lugansk</td>\n",
       "      <td>400000.0</td>\n",
       "    </tr>\n",
       "  </tbody>\n",
       "</table>\n",
       "</div>"
      ],
      "text/plain": [
       "             position   age           origin_club              new_club  \\\n",
       "0    Central Midfield  21.0         Wadi Degla FC             Future FC   \n",
       "1      Centre-Forward  24.0         Wadi Degla FC             Future FC   \n",
       "2  Attacking Midfield  19.0      Lokomotiv Moscow  Vitória Guimarães SC   \n",
       "3         Centre-Back  19.0  Delfino Pescara 1936       Cagliari Calcio   \n",
       "4           Left-Back  24.0           Dynamo Kyiv         Zorya Lugansk   \n",
       "\n",
       "       cost  \n",
       "0  150000.0  \n",
       "1  200000.0  \n",
       "2  250000.0  \n",
       "3  200000.0  \n",
       "4  400000.0  "
      ]
     },
     "execution_count": 4,
     "metadata": {},
     "output_type": "execute_result"
    }
   ],
   "source": [
    "data.head()"
   ]
  },
  {
   "cell_type": "code",
   "execution_count": 5,
   "id": "f03c618e",
   "metadata": {
    "ExecuteTime": {
     "end_time": "2022-09-15T03:48:31.220496Z",
     "start_time": "2022-09-15T03:48:31.216506Z"
    }
   },
   "outputs": [],
   "source": [
    "o = OneHotEncoder()"
   ]
  },
  {
   "cell_type": "code",
   "execution_count": 18,
   "id": "53dabd6d",
   "metadata": {
    "ExecuteTime": {
     "end_time": "2022-09-15T03:54:11.944108Z",
     "start_time": "2022-09-15T03:54:11.816449Z"
    }
   },
   "outputs": [
    {
     "data": {
      "text/plain": [
       "array([[0., 1., 0., ..., 0., 0., 0.],\n",
       "       [0., 0., 0., ..., 0., 0., 0.],\n",
       "       [1., 0., 0., ..., 0., 0., 0.],\n",
       "       ...,\n",
       "       [0., 0., 0., ..., 0., 0., 0.],\n",
       "       [0., 0., 0., ..., 0., 0., 0.],\n",
       "       [0., 0., 0., ..., 0., 0., 0.]])"
      ]
     },
     "execution_count": 18,
     "metadata": {},
     "output_type": "execute_result"
    }
   ],
   "source": [
    "feature_array = o.fit_transform(data[['position', 'origin_club', 'new_club']]).toarray()\n",
    "feature_array"
   ]
  },
  {
   "cell_type": "code",
   "execution_count": 38,
   "id": "ce4c7242",
   "metadata": {
    "ExecuteTime": {
     "end_time": "2022-09-15T04:03:03.381941Z",
     "start_time": "2022-09-15T04:03:03.376955Z"
    }
   },
   "outputs": [],
   "source": [
    "feature_label = o.categories_\n",
    "li = []\n",
    "for i in range(0,3):\n",
    "    for u in feature_label[i].tolist():\n",
    "        li.append(u)"
   ]
  },
  {
   "cell_type": "code",
   "execution_count": 39,
   "id": "c0793d51",
   "metadata": {
    "ExecuteTime": {
     "end_time": "2022-09-15T04:03:07.027016Z",
     "start_time": "2022-09-15T04:03:07.018040Z"
    },
    "scrolled": true
   },
   "outputs": [
    {
     "data": {
      "text/plain": [
       "array(['Attacking Midfield', 'Central Midfield', 'Centre-Back', ...,\n",
       "       'Úlfarnir', 'Ümraniyespor', 'Ünye 1957 Spor'], dtype='<U50')"
      ]
     },
     "execution_count": 39,
     "metadata": {},
     "output_type": "execute_result"
    }
   ],
   "source": [
    "feature_label = np.array(li).flatten()\n",
    "feature_label"
   ]
  },
  {
   "cell_type": "code",
   "execution_count": 40,
   "id": "209062cb",
   "metadata": {
    "ExecuteTime": {
     "end_time": "2022-09-15T04:03:11.119614Z",
     "start_time": "2022-09-15T04:03:11.113635Z"
    }
   },
   "outputs": [],
   "source": [
    "feature = pd.DataFrame(feature_array, columns=feature_label)"
   ]
  },
  {
   "cell_type": "code",
   "execution_count": 42,
   "id": "74601969",
   "metadata": {
    "ExecuteTime": {
     "end_time": "2022-09-15T04:05:22.561463Z",
     "start_time": "2022-09-15T04:05:18.664789Z"
    }
   },
   "outputs": [],
   "source": [
    "newData = pd.concat([data, feature], axis= 1)"
   ]
  },
  {
   "cell_type": "code",
   "execution_count": 43,
   "id": "929e55f7",
   "metadata": {
    "ExecuteTime": {
     "end_time": "2022-09-15T04:06:08.734480Z",
     "start_time": "2022-09-15T04:06:00.809091Z"
    }
   },
   "outputs": [],
   "source": [
    "newData.drop(['position', 'origin_club', 'new_club'], axis = 1 , inplace= True)"
   ]
  },
  {
   "cell_type": "code",
   "execution_count": null,
   "id": "f3912cd7",
   "metadata": {
    "ExecuteTime": {
     "end_time": "2022-09-15T04:09:24.309854Z",
     "start_time": "2022-09-15T04:09:20.634682Z"
    },
    "scrolled": true
   },
   "outputs": [],
   "source": [
    "newData.to_csv('oneHotEncodding')"
   ]
  },
  {
   "cell_type": "code",
   "execution_count": 48,
   "id": "dfc89ac4",
   "metadata": {
    "ExecuteTime": {
     "end_time": "2022-09-15T04:11:49.941164Z",
     "start_time": "2022-09-15T04:11:49.937174Z"
    }
   },
   "outputs": [],
   "source": [
    "from sklearn.model_selection import train_test_split\n",
    "from sklearn.linear_model import LinearRegression"
   ]
  },
  {
   "cell_type": "code",
   "execution_count": 54,
   "id": "244a3e70",
   "metadata": {
    "ExecuteTime": {
     "end_time": "2022-09-15T04:13:55.390199Z",
     "start_time": "2022-09-15T04:13:55.385212Z"
    }
   },
   "outputs": [],
   "source": [
    "y = newData.cost"
   ]
  },
  {
   "cell_type": "code",
   "execution_count": 55,
   "id": "6998ff71",
   "metadata": {
    "ExecuteTime": {
     "end_time": "2022-09-15T04:13:56.754583Z",
     "start_time": "2022-09-15T04:13:56.065321Z"
    }
   },
   "outputs": [],
   "source": [
    "X = newData.drop('cost',axis=1)"
   ]
  },
  {
   "cell_type": "code",
   "execution_count": 56,
   "id": "960a8778",
   "metadata": {
    "ExecuteTime": {
     "end_time": "2022-09-15T04:14:01.891276Z",
     "start_time": "2022-09-15T04:13:59.978307Z"
    }
   },
   "outputs": [],
   "source": [
    "X_train, X_test, y_train, y_test = train_test_split(X, y, test_size=0.2)"
   ]
  },
  {
   "cell_type": "code",
   "execution_count": 57,
   "id": "252378c3",
   "metadata": {
    "ExecuteTime": {
     "end_time": "2022-09-15T04:14:04.205127Z",
     "start_time": "2022-09-15T04:14:04.201109Z"
    }
   },
   "outputs": [],
   "source": [
    "reg = LinearRegression()"
   ]
  },
  {
   "cell_type": "code",
   "execution_count": 58,
   "id": "2ba8e4a4",
   "metadata": {
    "ExecuteTime": {
     "end_time": "2022-09-15T04:23:30.023779Z",
     "start_time": "2022-09-15T04:14:06.650284Z"
    }
   },
   "outputs": [
    {
     "data": {
      "text/plain": [
       "LinearRegression()"
      ]
     },
     "execution_count": 58,
     "metadata": {},
     "output_type": "execute_result"
    }
   ],
   "source": [
    "reg.fit(X_train,y_train)"
   ]
  },
  {
   "cell_type": "code",
   "execution_count": 59,
   "id": "d5c4cb20",
   "metadata": {
    "ExecuteTime": {
     "end_time": "2022-09-15T04:26:52.019701Z",
     "start_time": "2022-09-15T04:26:51.720475Z"
    }
   },
   "outputs": [],
   "source": [
    "y_pred = reg.predict(X_test) "
   ]
  },
  {
   "cell_type": "code",
   "execution_count": 60,
   "id": "0d4aec5b",
   "metadata": {
    "ExecuteTime": {
     "end_time": "2022-09-15T04:28:33.944806Z",
     "start_time": "2022-09-15T04:28:33.776257Z"
    }
   },
   "outputs": [
    {
     "data": {
      "text/plain": [
       "-2.6118874171800136e+18"
      ]
     },
     "execution_count": 60,
     "metadata": {},
     "output_type": "execute_result"
    }
   ],
   "source": [
    "reg.score(X_test,y_test)"
   ]
  },
  {
   "cell_type": "code",
   "execution_count": 62,
   "id": "7fde9af4",
   "metadata": {
    "ExecuteTime": {
     "end_time": "2022-09-15T04:30:55.244767Z",
     "start_time": "2022-09-15T04:30:55.072230Z"
    }
   },
   "outputs": [
    {
     "data": {
      "text/plain": [
       "-2.6118874171800136e+18"
      ]
     },
     "execution_count": 62,
     "metadata": {},
     "output_type": "execute_result"
    }
   ],
   "source": [
    "from sklearn.metrics import r2_score\n",
    "\n",
    "preds = reg.predict(X_test)\n",
    "\n",
    "r2_score(y_test, preds)"
   ]
  },
  {
   "cell_type": "code",
   "execution_count": 63,
   "id": "5564ae60",
   "metadata": {
    "ExecuteTime": {
     "end_time": "2022-09-15T04:31:29.325293Z",
     "start_time": "2022-09-15T04:31:29.160734Z"
    }
   },
   "outputs": [
    {
     "data": {
      "text/plain": [
       "1.0"
      ]
     },
     "execution_count": 63,
     "metadata": {},
     "output_type": "execute_result"
    }
   ],
   "source": [
    "reg.score(X_test,y_pred)"
   ]
  },
  {
   "cell_type": "code",
   "execution_count": null,
   "id": "7854cf53",
   "metadata": {},
   "outputs": [],
   "source": []
  }
 ],
 "metadata": {
  "kernelspec": {
   "display_name": "Python 3 (ipykernel)",
   "language": "python",
   "name": "python3"
  },
  "language_info": {
   "codemirror_mode": {
    "name": "ipython",
    "version": 3
   },
   "file_extension": ".py",
   "mimetype": "text/x-python",
   "name": "python",
   "nbconvert_exporter": "python",
   "pygments_lexer": "ipython3",
   "version": "3.9.7"
  }
 },
 "nbformat": 4,
 "nbformat_minor": 5
}
