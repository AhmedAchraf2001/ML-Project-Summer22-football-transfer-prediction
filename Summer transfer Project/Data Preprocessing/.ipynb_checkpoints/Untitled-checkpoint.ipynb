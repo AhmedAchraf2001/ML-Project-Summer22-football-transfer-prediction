{
 "cells": [
  {
   "cell_type": "code",
   "execution_count": null,
   "id": "3f677d99",
   "metadata": {},
   "outputs": [],
   "source": [
    "url = 'https://raw.githubusercontent.com/reganjohn/BHI/master/topology/country-capitals.csv'\n",
    "req = requests.get(url).content\n",
    "countryData = pd.read_csv(io.StringIO(req.decode('latin1')))\n",
    "countryData.head()\n",
    "countryData.drop(['capital', 'latitude', 'longitude', 'countryCode'], axis=1, inplace=True)\n",
    "g = countryData.groupby('continent')\n",
    "#create a new column\n",
    "data['continent'] = data.country_origin_club\n",
    "for i in g.country:\n",
    "    print(i[0])\n",
    "    li = g.get_group(\"Africa\").country.tolist()\n",
    "    \n",
    "for i in [\"DR Congo\",\"Cote d'Ivoire\",'Botsuana', 'Réunion', 'Congo', 'Eswatini']:\n",
    "    li.append(i)\n",
    "data.continent.replace(li,'africa',inplace=True)\n",
    "data.continent.replace(g.get_group(\"Antarctica\").country.tolist(),'Antarctica',inplace=True)\n",
    "li = g.get_group(\"Asia\").country.tolist()\n",
    "for i in [\"Palästina\",'Hongkong','Korea, South', 'Chinese Taipei','Chinese Taipei (Taiwan)']:\n",
    "    li.append(i)\n",
    "data.continent.replace(li,'Asia',inplace=True)\n",
    "data.continent.replace(g.get_group(\"Australia\").country.tolist(),'Australia',inplace=True)\n",
    "data.continent.replace(g.get_group(\"Central America\").country.tolist(),'Central America',inplace=True)\n",
    "li = g.get_group(\"Europe\").country.tolist()\n",
    "for i in [\"England\",'Scotland','Bosnia-Herzegovina', \"Wales\",'North Macedonia','Northern Ireland','Neukaledonien']:\n",
    "    li.append(i)\n",
    "data.continent.replace(li,'Europe',inplace=True)\n",
    "li = g.get_group(\"North America\").country.tolist()\n",
    "li.append('Guadeloupe')\n",
    "data.continent.replace(li,'North America',inplace=True)\n",
    "data.continent.replace(g.get_group(\"South America\").country.tolist(),'South America',inplace=True)\n",
    "data.head(60)\n",
    "data.country_origin_club[(data['continent'] != 'africa') & (data['continent'] != 'Antarctica') & (data['continent'] != 'Asia') & (data['continent'] != 'Australia') & (data['continent'] != 'Central America') & (data['continent'] != 'Europe') & (data['continent'] != 'North America') & (data['continent'] != 'South America')].value_counts().index"
   ]
  }
 ],
 "metadata": {
  "kernelspec": {
   "display_name": "Python 3 (ipykernel)",
   "language": "python",
   "name": "python3"
  },
  "language_info": {
   "codemirror_mode": {
    "name": "ipython",
    "version": 3
   },
   "file_extension": ".py",
   "mimetype": "text/x-python",
   "name": "python",
   "nbconvert_exporter": "python",
   "pygments_lexer": "ipython3",
   "version": "3.9.7"
  }
 },
 "nbformat": 4,
 "nbformat_minor": 5
}
