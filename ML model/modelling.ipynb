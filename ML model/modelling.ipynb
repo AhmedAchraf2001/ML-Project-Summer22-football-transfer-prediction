{
 "cells": [
  {
   "cell_type": "markdown",
   "id": "41f84f19",
   "metadata": {},
   "source": [
    "# Regression model on cost feature"
   ]
  },
  {
   "cell_type": "code",
   "execution_count": 1,
   "id": "327688a2",
   "metadata": {
    "ExecuteTime": {
     "end_time": "2022-09-19T20:04:48.418057Z",
     "start_time": "2022-09-19T20:04:47.266383Z"
    }
   },
   "outputs": [
    {
     "name": "stderr",
     "output_type": "stream",
     "text": [
      "C:\\Users\\10\\anaconda3\\lib\\site-packages\\requests\\__init__.py:89: RequestsDependencyWarning: urllib3 (1.26.12) or chardet (3.0.4) doesn't match a supported version!\n",
      "  warnings.warn(\"urllib3 ({}) or chardet ({}) doesn't match a supported \"\n"
     ]
    }
   ],
   "source": [
    "import pandas as pd\n",
    "import numpy as np\n",
    "import requests, io\n",
    "import seaborn as sns\n",
    "import matplotlib.pyplot as plt\n",
    "from sklearn.preprocessing import OneHotEncoder\n",
    "from sklearn.preprocessing import StandardScaler, normalize"
   ]
  },
  {
   "cell_type": "code",
   "execution_count": 2,
   "id": "bd8b1406",
   "metadata": {
    "ExecuteTime": {
     "end_time": "2022-09-19T20:04:48.485877Z",
     "start_time": "2022-09-19T20:04:48.419050Z"
    }
   },
   "outputs": [],
   "source": [
    "data = pd.read_csv('data')\n",
    "data.drop('Unnamed: 0', axis = 1 , inplace= True)"
   ]
  },
  {
   "cell_type": "code",
   "execution_count": 3,
   "id": "4493155d",
   "metadata": {
    "ExecuteTime": {
     "end_time": "2022-09-19T20:04:48.492854Z",
     "start_time": "2022-09-19T20:04:48.485877Z"
    }
   },
   "outputs": [],
   "source": [
    "data.drop(data.columns[0], axis = 1 , inplace= True)"
   ]
  },
  {
   "cell_type": "code",
   "execution_count": 6,
   "id": "5a5769f0",
   "metadata": {
    "ExecuteTime": {
     "end_time": "2022-09-19T20:05:10.309184Z",
     "start_time": "2022-09-19T20:05:10.291232Z"
    }
   },
   "outputs": [
    {
     "data": {
      "text/html": [
       "<div>\n",
       "<style scoped>\n",
       "    .dataframe tbody tr th:only-of-type {\n",
       "        vertical-align: middle;\n",
       "    }\n",
       "\n",
       "    .dataframe tbody tr th {\n",
       "        vertical-align: top;\n",
       "    }\n",
       "\n",
       "    .dataframe thead th {\n",
       "        text-align: right;\n",
       "    }\n",
       "</style>\n",
       "<table border=\"1\" class=\"dataframe\">\n",
       "  <thead>\n",
       "    <tr style=\"text-align: right;\">\n",
       "      <th></th>\n",
       "      <th>apperance</th>\n",
       "      <th>goals</th>\n",
       "      <th>assists</th>\n",
       "      <th>yellow_card</th>\n",
       "      <th>2nd_ycard</th>\n",
       "      <th>red_card</th>\n",
       "      <th>min</th>\n",
       "      <th>apperance_NT</th>\n",
       "      <th>goals_NT</th>\n",
       "      <th>assists_NT</th>\n",
       "      <th>yellow_card_NT</th>\n",
       "      <th>2nd_ycard_NT</th>\n",
       "      <th>red_card_NT</th>\n",
       "      <th>min_NT</th>\n",
       "      <th>position</th>\n",
       "      <th>age</th>\n",
       "      <th>country</th>\n",
       "      <th>cost</th>\n",
       "      <th>National_Team</th>\n",
       "    </tr>\n",
       "  </thead>\n",
       "  <tbody>\n",
       "    <tr>\n",
       "      <th>0</th>\n",
       "      <td>37</td>\n",
       "      <td>0</td>\n",
       "      <td>3</td>\n",
       "      <td>8</td>\n",
       "      <td>0</td>\n",
       "      <td>0</td>\n",
       "      <td>2947.0</td>\n",
       "      <td>6</td>\n",
       "      <td>0</td>\n",
       "      <td>1</td>\n",
       "      <td>0</td>\n",
       "      <td>0</td>\n",
       "      <td>0</td>\n",
       "      <td>152.0</td>\n",
       "      <td>Goalkeeper</td>\n",
       "      <td>23.0</td>\n",
       "      <td>Egypt</td>\n",
       "      <td>500000.0</td>\n",
       "      <td>1</td>\n",
       "    </tr>\n",
       "    <tr>\n",
       "      <th>1</th>\n",
       "      <td>130</td>\n",
       "      <td>5</td>\n",
       "      <td>5</td>\n",
       "      <td>15</td>\n",
       "      <td>1</td>\n",
       "      <td>0</td>\n",
       "      <td>10770.0</td>\n",
       "      <td>5</td>\n",
       "      <td>0</td>\n",
       "      <td>0</td>\n",
       "      <td>1</td>\n",
       "      <td>0</td>\n",
       "      <td>0</td>\n",
       "      <td>207.0</td>\n",
       "      <td>midfield</td>\n",
       "      <td>26.0</td>\n",
       "      <td>Egypt</td>\n",
       "      <td>500000.0</td>\n",
       "      <td>1</td>\n",
       "    </tr>\n",
       "    <tr>\n",
       "      <th>2</th>\n",
       "      <td>167</td>\n",
       "      <td>1</td>\n",
       "      <td>15</td>\n",
       "      <td>16</td>\n",
       "      <td>0</td>\n",
       "      <td>0</td>\n",
       "      <td>13304.0</td>\n",
       "      <td>6</td>\n",
       "      <td>0</td>\n",
       "      <td>1</td>\n",
       "      <td>1</td>\n",
       "      <td>0</td>\n",
       "      <td>0</td>\n",
       "      <td>424.0</td>\n",
       "      <td>midfield</td>\n",
       "      <td>21.0</td>\n",
       "      <td>Egypt</td>\n",
       "      <td>150000.0</td>\n",
       "      <td>1</td>\n",
       "    </tr>\n",
       "    <tr>\n",
       "      <th>3</th>\n",
       "      <td>15</td>\n",
       "      <td>3</td>\n",
       "      <td>0</td>\n",
       "      <td>2</td>\n",
       "      <td>0</td>\n",
       "      <td>0</td>\n",
       "      <td>341.0</td>\n",
       "      <td>0</td>\n",
       "      <td>0</td>\n",
       "      <td>0</td>\n",
       "      <td>0</td>\n",
       "      <td>0</td>\n",
       "      <td>0</td>\n",
       "      <td>0.0</td>\n",
       "      <td>attack</td>\n",
       "      <td>24.0</td>\n",
       "      <td>Egypt</td>\n",
       "      <td>200000.0</td>\n",
       "      <td>0</td>\n",
       "    </tr>\n",
       "    <tr>\n",
       "      <th>4</th>\n",
       "      <td>40</td>\n",
       "      <td>4</td>\n",
       "      <td>3</td>\n",
       "      <td>9</td>\n",
       "      <td>0</td>\n",
       "      <td>0</td>\n",
       "      <td>2478.0</td>\n",
       "      <td>9</td>\n",
       "      <td>1</td>\n",
       "      <td>1</td>\n",
       "      <td>1</td>\n",
       "      <td>0</td>\n",
       "      <td>0</td>\n",
       "      <td>487.0</td>\n",
       "      <td>midfield</td>\n",
       "      <td>19.0</td>\n",
       "      <td>Russia</td>\n",
       "      <td>250000.0</td>\n",
       "      <td>1</td>\n",
       "    </tr>\n",
       "    <tr>\n",
       "      <th>5</th>\n",
       "      <td>60</td>\n",
       "      <td>4</td>\n",
       "      <td>1</td>\n",
       "      <td>6</td>\n",
       "      <td>0</td>\n",
       "      <td>1</td>\n",
       "      <td>4788.0</td>\n",
       "      <td>0</td>\n",
       "      <td>0</td>\n",
       "      <td>0</td>\n",
       "      <td>0</td>\n",
       "      <td>0</td>\n",
       "      <td>0</td>\n",
       "      <td>0.0</td>\n",
       "      <td>defence</td>\n",
       "      <td>19.0</td>\n",
       "      <td>Italy</td>\n",
       "      <td>200000.0</td>\n",
       "      <td>0</td>\n",
       "    </tr>\n",
       "    <tr>\n",
       "      <th>6</th>\n",
       "      <td>213</td>\n",
       "      <td>17</td>\n",
       "      <td>21</td>\n",
       "      <td>20</td>\n",
       "      <td>1</td>\n",
       "      <td>0</td>\n",
       "      <td>14912.0</td>\n",
       "      <td>4</td>\n",
       "      <td>1</td>\n",
       "      <td>0</td>\n",
       "      <td>0</td>\n",
       "      <td>0</td>\n",
       "      <td>0</td>\n",
       "      <td>193.0</td>\n",
       "      <td>midfield</td>\n",
       "      <td>25.0</td>\n",
       "      <td>England</td>\n",
       "      <td>450000.0</td>\n",
       "      <td>1</td>\n",
       "    </tr>\n",
       "    <tr>\n",
       "      <th>7</th>\n",
       "      <td>68</td>\n",
       "      <td>5</td>\n",
       "      <td>4</td>\n",
       "      <td>6</td>\n",
       "      <td>2</td>\n",
       "      <td>0</td>\n",
       "      <td>4787.0</td>\n",
       "      <td>9</td>\n",
       "      <td>1</td>\n",
       "      <td>3</td>\n",
       "      <td>1</td>\n",
       "      <td>0</td>\n",
       "      <td>0</td>\n",
       "      <td>626.0</td>\n",
       "      <td>defence</td>\n",
       "      <td>24.0</td>\n",
       "      <td>Ukraine</td>\n",
       "      <td>400000.0</td>\n",
       "      <td>1</td>\n",
       "    </tr>\n",
       "    <tr>\n",
       "      <th>8</th>\n",
       "      <td>117</td>\n",
       "      <td>8</td>\n",
       "      <td>10</td>\n",
       "      <td>14</td>\n",
       "      <td>0</td>\n",
       "      <td>0</td>\n",
       "      <td>5788.0</td>\n",
       "      <td>0</td>\n",
       "      <td>0</td>\n",
       "      <td>0</td>\n",
       "      <td>0</td>\n",
       "      <td>0</td>\n",
       "      <td>0</td>\n",
       "      <td>0.0</td>\n",
       "      <td>attack</td>\n",
       "      <td>25.0</td>\n",
       "      <td>Ukraine</td>\n",
       "      <td>500000.0</td>\n",
       "      <td>0</td>\n",
       "    </tr>\n",
       "    <tr>\n",
       "      <th>9</th>\n",
       "      <td>49</td>\n",
       "      <td>14</td>\n",
       "      <td>3</td>\n",
       "      <td>12</td>\n",
       "      <td>0</td>\n",
       "      <td>1</td>\n",
       "      <td>3082.0</td>\n",
       "      <td>0</td>\n",
       "      <td>0</td>\n",
       "      <td>0</td>\n",
       "      <td>0</td>\n",
       "      <td>0</td>\n",
       "      <td>0</td>\n",
       "      <td>0.0</td>\n",
       "      <td>attack</td>\n",
       "      <td>25.0</td>\n",
       "      <td>Spain</td>\n",
       "      <td>400000.0</td>\n",
       "      <td>0</td>\n",
       "    </tr>\n",
       "  </tbody>\n",
       "</table>\n",
       "</div>"
      ],
      "text/plain": [
       "   apperance  goals  assists  yellow_card  2nd_ycard  red_card      min  \\\n",
       "0         37      0        3            8          0         0   2947.0   \n",
       "1        130      5        5           15          1         0  10770.0   \n",
       "2        167      1       15           16          0         0  13304.0   \n",
       "3         15      3        0            2          0         0    341.0   \n",
       "4         40      4        3            9          0         0   2478.0   \n",
       "5         60      4        1            6          0         1   4788.0   \n",
       "6        213     17       21           20          1         0  14912.0   \n",
       "7         68      5        4            6          2         0   4787.0   \n",
       "8        117      8       10           14          0         0   5788.0   \n",
       "9         49     14        3           12          0         1   3082.0   \n",
       "\n",
       "   apperance_NT  goals_NT  assists_NT  yellow_card_NT  2nd_ycard_NT  \\\n",
       "0             6         0           1               0             0   \n",
       "1             5         0           0               1             0   \n",
       "2             6         0           1               1             0   \n",
       "3             0         0           0               0             0   \n",
       "4             9         1           1               1             0   \n",
       "5             0         0           0               0             0   \n",
       "6             4         1           0               0             0   \n",
       "7             9         1           3               1             0   \n",
       "8             0         0           0               0             0   \n",
       "9             0         0           0               0             0   \n",
       "\n",
       "   red_card_NT  min_NT    position   age  country      cost  National_Team  \n",
       "0            0   152.0  Goalkeeper  23.0    Egypt  500000.0              1  \n",
       "1            0   207.0    midfield  26.0    Egypt  500000.0              1  \n",
       "2            0   424.0    midfield  21.0    Egypt  150000.0              1  \n",
       "3            0     0.0      attack  24.0    Egypt  200000.0              0  \n",
       "4            0   487.0    midfield  19.0   Russia  250000.0              1  \n",
       "5            0     0.0     defence  19.0    Italy  200000.0              0  \n",
       "6            0   193.0    midfield  25.0  England  450000.0              1  \n",
       "7            0   626.0     defence  24.0  Ukraine  400000.0              1  \n",
       "8            0     0.0      attack  25.0  Ukraine  500000.0              0  \n",
       "9            0     0.0      attack  25.0    Spain  400000.0              0  "
      ]
     },
     "execution_count": 6,
     "metadata": {},
     "output_type": "execute_result"
    }
   ],
   "source": [
    "data.head(10)"
   ]
  },
  {
   "cell_type": "code",
   "execution_count": 104,
   "id": "3dac5b4e",
   "metadata": {
    "ExecuteTime": {
     "end_time": "2022-09-19T18:43:36.922937Z",
     "start_time": "2022-09-19T18:43:36.912963Z"
    },
    "scrolled": false
   },
   "outputs": [
    {
     "data": {
      "text/plain": [
       "apperance           0\n",
       "goals               0\n",
       "assists             0\n",
       "yellow_card         0\n",
       "2nd_ycard           0\n",
       "red_card            0\n",
       "min                 0\n",
       "apperance_NT        0\n",
       "goals_NT            0\n",
       "assists_NT          0\n",
       "yellow_card_NT      0\n",
       "2nd_ycard_NT        0\n",
       "red_card_NT         0\n",
       "min_NT              0\n",
       "age                 0\n",
       "position            0\n",
       "country           925\n",
       "cost                0\n",
       "National_Team       0\n",
       "dtype: int64"
      ]
     },
     "execution_count": 104,
     "metadata": {},
     "output_type": "execute_result"
    }
   ],
   "source": [
    "data.isna().sum()"
   ]
  },
  {
   "cell_type": "markdown",
   "id": "f47a0789",
   "metadata": {},
   "source": [
    "# "
   ]
  },
  {
   "cell_type": "markdown",
   "id": "8feb507c",
   "metadata": {},
   "source": [
    "### data preprocessing"
   ]
  },
  {
   "cell_type": "code",
   "execution_count": 4,
   "id": "7db883d4",
   "metadata": {
    "ExecuteTime": {
     "end_time": "2022-09-19T20:05:03.360164Z",
     "start_time": "2022-09-19T20:05:03.355177Z"
    }
   },
   "outputs": [],
   "source": [
    "data.rename(columns={'position':'Age'}, inplace= True)\n",
    "data.rename(columns={'age':'position'}, inplace= True)\n",
    "data.rename(columns={'Age':'age'}, inplace= True)"
   ]
  },
  {
   "cell_type": "code",
   "execution_count": 5,
   "id": "f3def153",
   "metadata": {
    "ExecuteTime": {
     "end_time": "2022-09-19T20:05:03.618972Z",
     "start_time": "2022-09-19T20:05:03.609993Z"
    }
   },
   "outputs": [
    {
     "data": {
      "text/plain": [
       "defence       8866\n",
       "midfield      8422\n",
       "attack        8400\n",
       "Goalkeeper    2958\n",
       "GoalKeeper       1\n",
       "Name: position, dtype: int64"
      ]
     },
     "execution_count": 5,
     "metadata": {},
     "output_type": "execute_result"
    }
   ],
   "source": [
    "data.position.value_counts()"
   ]
  },
  {
   "cell_type": "code",
   "execution_count": 107,
   "id": "49382340",
   "metadata": {
    "ExecuteTime": {
     "end_time": "2022-09-19T18:43:36.947873Z",
     "start_time": "2022-09-19T18:43:36.939891Z"
    }
   },
   "outputs": [],
   "source": [
    "data.replace({'position':{'GoalKeeper':'Goalkeeper'}}, inplace= True)"
   ]
  },
  {
   "cell_type": "code",
   "execution_count": 108,
   "id": "da3991e6",
   "metadata": {
    "ExecuteTime": {
     "end_time": "2022-09-19T18:43:36.954851Z",
     "start_time": "2022-09-19T18:43:36.948867Z"
    }
   },
   "outputs": [
    {
     "data": {
      "text/plain": [
       "(28647, 19)"
      ]
     },
     "execution_count": 108,
     "metadata": {},
     "output_type": "execute_result"
    }
   ],
   "source": [
    "data.shape"
   ]
  },
  {
   "cell_type": "code",
   "execution_count": 109,
   "id": "9d1dc103",
   "metadata": {
    "ExecuteTime": {
     "end_time": "2022-09-19T18:43:36.963830Z",
     "start_time": "2022-09-19T18:43:36.956846Z"
    }
   },
   "outputs": [],
   "source": [
    "dummie = pd.get_dummies(data.position)"
   ]
  },
  {
   "cell_type": "code",
   "execution_count": 110,
   "id": "bd55aaca",
   "metadata": {
    "ExecuteTime": {
     "end_time": "2022-09-19T18:43:36.971806Z",
     "start_time": "2022-09-19T18:43:36.964824Z"
    }
   },
   "outputs": [],
   "source": [
    "data = pd.concat([data, dummie], axis = 1)"
   ]
  },
  {
   "cell_type": "code",
   "execution_count": 111,
   "id": "8045a56f",
   "metadata": {
    "ExecuteTime": {
     "end_time": "2022-09-19T18:43:36.981782Z",
     "start_time": "2022-09-19T18:43:36.972804Z"
    }
   },
   "outputs": [],
   "source": [
    "data.drop(['country', 'position','red_card_NT','2nd_ycard_NT','yellow_card_NT','red_card','2nd_ycard','yellow_card'], axis= 1 , inplace= True)"
   ]
  },
  {
   "cell_type": "code",
   "execution_count": 112,
   "id": "9b178fbf",
   "metadata": {
    "ExecuteTime": {
     "end_time": "2022-09-19T18:43:36.993747Z",
     "start_time": "2022-09-19T18:43:36.982778Z"
    },
    "scrolled": false
   },
   "outputs": [
    {
     "data": {
      "text/html": [
       "<div>\n",
       "<style scoped>\n",
       "    .dataframe tbody tr th:only-of-type {\n",
       "        vertical-align: middle;\n",
       "    }\n",
       "\n",
       "    .dataframe tbody tr th {\n",
       "        vertical-align: top;\n",
       "    }\n",
       "\n",
       "    .dataframe thead th {\n",
       "        text-align: right;\n",
       "    }\n",
       "</style>\n",
       "<table border=\"1\" class=\"dataframe\">\n",
       "  <thead>\n",
       "    <tr style=\"text-align: right;\">\n",
       "      <th></th>\n",
       "      <th>apperance</th>\n",
       "      <th>goals</th>\n",
       "      <th>assists</th>\n",
       "      <th>min</th>\n",
       "      <th>apperance_NT</th>\n",
       "      <th>goals_NT</th>\n",
       "      <th>assists_NT</th>\n",
       "      <th>min_NT</th>\n",
       "      <th>age</th>\n",
       "      <th>cost</th>\n",
       "      <th>National_Team</th>\n",
       "      <th>Goalkeeper</th>\n",
       "      <th>attack</th>\n",
       "      <th>defence</th>\n",
       "      <th>midfield</th>\n",
       "    </tr>\n",
       "  </thead>\n",
       "  <tbody>\n",
       "    <tr>\n",
       "      <th>0</th>\n",
       "      <td>37</td>\n",
       "      <td>0</td>\n",
       "      <td>3</td>\n",
       "      <td>2947.0</td>\n",
       "      <td>6</td>\n",
       "      <td>0</td>\n",
       "      <td>1</td>\n",
       "      <td>152.0</td>\n",
       "      <td>23.0</td>\n",
       "      <td>500000.0</td>\n",
       "      <td>1</td>\n",
       "      <td>1</td>\n",
       "      <td>0</td>\n",
       "      <td>0</td>\n",
       "      <td>0</td>\n",
       "    </tr>\n",
       "    <tr>\n",
       "      <th>1</th>\n",
       "      <td>130</td>\n",
       "      <td>5</td>\n",
       "      <td>5</td>\n",
       "      <td>10770.0</td>\n",
       "      <td>5</td>\n",
       "      <td>0</td>\n",
       "      <td>0</td>\n",
       "      <td>207.0</td>\n",
       "      <td>26.0</td>\n",
       "      <td>500000.0</td>\n",
       "      <td>1</td>\n",
       "      <td>0</td>\n",
       "      <td>0</td>\n",
       "      <td>0</td>\n",
       "      <td>1</td>\n",
       "    </tr>\n",
       "  </tbody>\n",
       "</table>\n",
       "</div>"
      ],
      "text/plain": [
       "   apperance  goals  assists      min  apperance_NT  goals_NT  assists_NT  \\\n",
       "0         37      0        3   2947.0             6         0           1   \n",
       "1        130      5        5  10770.0             5         0           0   \n",
       "\n",
       "   min_NT   age      cost  National_Team  Goalkeeper  attack  defence  \\\n",
       "0   152.0  23.0  500000.0              1           1       0        0   \n",
       "1   207.0  26.0  500000.0              1           0       0        0   \n",
       "\n",
       "   midfield  \n",
       "0         0  \n",
       "1         1  "
      ]
     },
     "execution_count": 112,
     "metadata": {},
     "output_type": "execute_result"
    }
   ],
   "source": [
    "data.head(2)"
   ]
  },
  {
   "cell_type": "code",
   "execution_count": 113,
   "id": "7d5d5e90",
   "metadata": {
    "ExecuteTime": {
     "end_time": "2022-09-19T18:43:37.010702Z",
     "start_time": "2022-09-19T18:43:36.994745Z"
    },
    "scrolled": false
   },
   "outputs": [
    {
     "data": {
      "text/plain": [
       "goals_NT         24.332324\n",
       "assists_NT       19.598220\n",
       "apperance_NT      7.668328\n",
       "goals             6.867819\n",
       "assists           5.193607\n",
       "Goalkeeper        2.607147\n",
       "apperance         1.550298\n",
       "min               1.525228\n",
       "cost              1.340561\n",
       "attack            0.908471\n",
       "midfield          0.904406\n",
       "National_Team     0.841109\n",
       "defence           0.824249\n",
       "min_NT          -19.687122\n",
       "age                    NaN\n",
       "dtype: float64"
      ]
     },
     "execution_count": 113,
     "metadata": {},
     "output_type": "execute_result"
    }
   ],
   "source": [
    "data.skew().sort_values(ascending= False)"
   ]
  },
  {
   "cell_type": "markdown",
   "id": "e60e4cba",
   "metadata": {},
   "source": [
    "### outliers "
   ]
  },
  {
   "cell_type": "code",
   "execution_count": 114,
   "id": "abc637bd",
   "metadata": {
    "ExecuteTime": {
     "end_time": "2022-09-19T18:43:37.086499Z",
     "start_time": "2022-09-19T18:43:37.010702Z"
    },
    "scrolled": false
   },
   "outputs": [
    {
     "name": "stderr",
     "output_type": "stream",
     "text": [
      "C:\\Users\\10\\anaconda3\\lib\\site-packages\\seaborn\\_decorators.py:36: FutureWarning: Pass the following variable as a keyword arg: x. From version 0.12, the only valid positional argument will be `data`, and passing other arguments without an explicit keyword will result in an error or misinterpretation.\n",
      "  warnings.warn(\n"
     ]
    },
    {
     "data": {
      "image/png": "[encoded data removed]",
      "text/plain": [
       "<Figure size 432x288 with 1 Axes>"
      ]
     },
     "metadata": {
      "needs_background": "light"
     },
     "output_type": "display_data"
    }
   ],
   "source": [
    "%matplotlib inline\n",
    "s = sns.boxplot(data['age'])\n",
    "plt.show()"
   ]
  },
  {
   "cell_type": "code",
   "execution_count": 115,
   "id": "5ed457e8",
   "metadata": {
    "ExecuteTime": {
     "end_time": "2022-09-19T18:43:37.091486Z",
     "start_time": "2022-09-19T18:43:37.087497Z"
    },
    "scrolled": true
   },
   "outputs": [],
   "source": [
    "ageOutliers = data[data.age > 38].index.tolist()"
   ]
  },
  {
   "cell_type": "code",
   "execution_count": 116,
   "id": "25c05980",
   "metadata": {
    "ExecuteTime": {
     "end_time": "2022-09-19T18:43:37.100498Z",
     "start_time": "2022-09-19T18:43:37.092483Z"
    },
    "scrolled": true
   },
   "outputs": [],
   "source": [
    "data.drop(ageOutliers, inplace= True)"
   ]
  },
  {
   "cell_type": "code",
   "execution_count": 117,
   "id": "c4930281",
   "metadata": {
    "ExecuteTime": {
     "end_time": "2022-09-19T18:43:37.167149Z",
     "start_time": "2022-09-19T18:43:37.101459Z"
    },
    "scrolled": false
   },
   "outputs": [
    {
     "name": "stderr",
     "output_type": "stream",
     "text": [
      "C:\\Users\\10\\anaconda3\\lib\\site-packages\\seaborn\\_decorators.py:36: FutureWarning: Pass the following variable as a keyword arg: x. From version 0.12, the only valid positional argument will be `data`, and passing other arguments without an explicit keyword will result in an error or misinterpretation.\n",
      "  warnings.warn(\n"
     ]
    },
    {
     "data": {
      "image/png": "[encoded data removed]",
      "text/plain": [
       "<Figure size 432x288 with 1 Axes>"
      ]
     },
     "metadata": {
      "needs_background": "light"
     },
     "output_type": "display_data"
    }
   ],
   "source": [
    "sns.boxplot(data.age)\n",
    "plt.show()"
   ]
  },
  {
   "cell_type": "code",
   "execution_count": 118,
   "id": "9216e215",
   "metadata": {
    "ExecuteTime": {
     "end_time": "2022-09-19T18:43:37.180114Z",
     "start_time": "2022-09-19T18:43:37.168147Z"
    },
    "scrolled": false
   },
   "outputs": [
    {
     "data": {
      "text/plain": [
       "goals_NT         24.602625\n",
       "assists_NT       19.799267\n",
       "apperance_NT      7.764581\n",
       "goals             6.965683\n",
       "assists           5.248064\n",
       "Goalkeeper        2.625486\n",
       "apperance         1.531736\n",
       "min               1.496178\n",
       "cost              1.336699\n",
       "attack            0.908087\n",
       "midfield          0.901783\n",
       "National_Team     0.842782\n",
       "defence           0.821932\n",
       "age               0.532033\n",
       "min_NT          -20.458556\n",
       "dtype: float64"
      ]
     },
     "execution_count": 118,
     "metadata": {},
     "output_type": "execute_result"
    }
   ],
   "source": [
    "data.skew().sort_values(ascending= False)"
   ]
  },
  {
   "cell_type": "markdown",
   "id": "db360dab",
   "metadata": {},
   "source": [
    "# "
   ]
  },
  {
   "cell_type": "markdown",
   "id": "2f06b479",
   "metadata": {},
   "source": [
    "## appling log transformatioin to high values 'skewed columns'"
   ]
  },
  {
   "cell_type": "code",
   "execution_count": 119,
   "id": "dabf92f1",
   "metadata": {
    "ExecuteTime": {
     "end_time": "2022-09-19T18:43:37.189091Z",
     "start_time": "2022-09-19T18:43:37.181112Z"
    }
   },
   "outputs": [],
   "source": [
    "for i in ['goals_NT', 'assists_NT', 'apperance_NT']:\n",
    "    data[i] += 10\n",
    "    data[i] = np.log(data[i])"
   ]
  },
  {
   "cell_type": "markdown",
   "id": "b6f50bc5",
   "metadata": {},
   "source": [
    "# "
   ]
  },
  {
   "cell_type": "markdown",
   "id": "9d87c749",
   "metadata": {},
   "source": [
    "## Normailzing data"
   ]
  },
  {
   "cell_type": "code",
   "execution_count": 120,
   "id": "f1b32b3f",
   "metadata": {
    "ExecuteTime": {
     "end_time": "2022-09-19T18:43:37.199068Z",
     "start_time": "2022-09-19T18:43:37.190088Z"
    }
   },
   "outputs": [],
   "source": [
    "nordata = normalize(data[['cost','min','min_NT','apperance','age', 'goals','assists']])"
   ]
  },
  {
   "cell_type": "code",
   "execution_count": 121,
   "id": "5449aae7",
   "metadata": {
    "ExecuteTime": {
     "end_time": "2022-09-19T18:43:37.205047Z",
     "start_time": "2022-09-19T18:43:37.200061Z"
    }
   },
   "outputs": [],
   "source": [
    "xdata = pd.DataFrame(nordata,columns=['cost_','min_','min_NT_','apperance_','age_','goals_','assists_'])"
   ]
  },
  {
   "cell_type": "code",
   "execution_count": 122,
   "id": "f3512a37",
   "metadata": {
    "ExecuteTime": {
     "end_time": "2022-09-19T18:43:37.216023Z",
     "start_time": "2022-09-19T18:43:37.206044Z"
    }
   },
   "outputs": [],
   "source": [
    "data = pd.concat([data, xdata], axis=1)"
   ]
  },
  {
   "cell_type": "code",
   "execution_count": 123,
   "id": "aa162849",
   "metadata": {
    "ExecuteTime": {
     "end_time": "2022-09-19T18:43:37.225992Z",
     "start_time": "2022-09-19T18:43:37.217015Z"
    }
   },
   "outputs": [],
   "source": [
    "data.drop(['cost','min','min_NT','apperance','age','goals','assists'], axis=1, inplace= True)"
   ]
  },
  {
   "cell_type": "code",
   "execution_count": 124,
   "id": "aa50b231",
   "metadata": {
    "ExecuteTime": {
     "end_time": "2022-09-19T18:43:37.239954Z",
     "start_time": "2022-09-19T18:43:37.226989Z"
    },
    "scrolled": true
   },
   "outputs": [
    {
     "data": {
      "text/html": [
       "<div>\n",
       "<style scoped>\n",
       "    .dataframe tbody tr th:only-of-type {\n",
       "        vertical-align: middle;\n",
       "    }\n",
       "\n",
       "    .dataframe tbody tr th {\n",
       "        vertical-align: top;\n",
       "    }\n",
       "\n",
       "    .dataframe thead th {\n",
       "        text-align: right;\n",
       "    }\n",
       "</style>\n",
       "<table border=\"1\" class=\"dataframe\">\n",
       "  <thead>\n",
       "    <tr style=\"text-align: right;\">\n",
       "      <th></th>\n",
       "      <th>apperance_NT</th>\n",
       "      <th>goals_NT</th>\n",
       "      <th>assists_NT</th>\n",
       "      <th>National_Team</th>\n",
       "      <th>Goalkeeper</th>\n",
       "      <th>attack</th>\n",
       "      <th>defence</th>\n",
       "      <th>midfield</th>\n",
       "      <th>cost_</th>\n",
       "      <th>min_</th>\n",
       "      <th>min_NT_</th>\n",
       "      <th>apperance_</th>\n",
       "      <th>age_</th>\n",
       "      <th>goals_</th>\n",
       "      <th>assists_</th>\n",
       "    </tr>\n",
       "  </thead>\n",
       "  <tbody>\n",
       "    <tr>\n",
       "      <th>0</th>\n",
       "      <td>2.772589</td>\n",
       "      <td>2.302585</td>\n",
       "      <td>2.397895</td>\n",
       "      <td>1.0</td>\n",
       "      <td>1.0</td>\n",
       "      <td>0.0</td>\n",
       "      <td>0.0</td>\n",
       "      <td>0.0</td>\n",
       "      <td>0.999983</td>\n",
       "      <td>0.005894</td>\n",
       "      <td>0.000304</td>\n",
       "      <td>0.000074</td>\n",
       "      <td>0.000046</td>\n",
       "      <td>0.00000</td>\n",
       "      <td>0.000006</td>\n",
       "    </tr>\n",
       "    <tr>\n",
       "      <th>1</th>\n",
       "      <td>2.708050</td>\n",
       "      <td>2.302585</td>\n",
       "      <td>2.302585</td>\n",
       "      <td>1.0</td>\n",
       "      <td>0.0</td>\n",
       "      <td>0.0</td>\n",
       "      <td>0.0</td>\n",
       "      <td>1.0</td>\n",
       "      <td>0.999768</td>\n",
       "      <td>0.021535</td>\n",
       "      <td>0.000414</td>\n",
       "      <td>0.000260</td>\n",
       "      <td>0.000052</td>\n",
       "      <td>0.00001</td>\n",
       "      <td>0.000010</td>\n",
       "    </tr>\n",
       "  </tbody>\n",
       "</table>\n",
       "</div>"
      ],
      "text/plain": [
       "   apperance_NT  goals_NT  assists_NT  National_Team  Goalkeeper  attack  \\\n",
       "0      2.772589  2.302585    2.397895            1.0         1.0     0.0   \n",
       "1      2.708050  2.302585    2.302585            1.0         0.0     0.0   \n",
       "\n",
       "   defence  midfield     cost_      min_   min_NT_  apperance_      age_  \\\n",
       "0      0.0       0.0  0.999983  0.005894  0.000304    0.000074  0.000046   \n",
       "1      0.0       1.0  0.999768  0.021535  0.000414    0.000260  0.000052   \n",
       "\n",
       "    goals_  assists_  \n",
       "0  0.00000  0.000006  \n",
       "1  0.00001  0.000010  "
      ]
     },
     "execution_count": 124,
     "metadata": {},
     "output_type": "execute_result"
    }
   ],
   "source": [
    "data.head(2)"
   ]
  },
  {
   "cell_type": "code",
   "execution_count": 125,
   "id": "b70413c0",
   "metadata": {
    "ExecuteTime": {
     "end_time": "2022-09-19T18:43:37.248930Z",
     "start_time": "2022-09-19T18:43:37.240952Z"
    }
   },
   "outputs": [],
   "source": [
    "data.dropna(inplace= True)"
   ]
  },
  {
   "cell_type": "code",
   "execution_count": 126,
   "id": "ea081289",
   "metadata": {
    "ExecuteTime": {
     "end_time": "2022-09-19T18:43:37.254914Z",
     "start_time": "2022-09-19T18:43:37.249928Z"
    },
    "scrolled": true
   },
   "outputs": [
    {
     "data": {
      "text/plain": [
       "(28401, 15)"
      ]
     },
     "execution_count": 126,
     "metadata": {},
     "output_type": "execute_result"
    }
   ],
   "source": [
    "data.shape"
   ]
  },
  {
   "cell_type": "markdown",
   "id": "aa98f21f",
   "metadata": {},
   "source": [
    "# "
   ]
  },
  {
   "cell_type": "code",
   "execution_count": 224,
   "id": "a3061116",
   "metadata": {
    "ExecuteTime": {
     "end_time": "2022-09-19T18:56:44.482513Z",
     "start_time": "2022-09-19T18:56:44.476528Z"
    }
   },
   "outputs": [],
   "source": [
    "X = data.drop('cost_', axis=1)\n",
    "y = data.cost_"
   ]
  },
  {
   "cell_type": "code",
   "execution_count": 278,
   "id": "230e6c75",
   "metadata": {
    "ExecuteTime": {
     "end_time": "2022-09-19T19:21:25.387711Z",
     "start_time": "2022-09-19T19:21:25.378734Z"
    }
   },
   "outputs": [],
   "source": [
    "from sklearn.model_selection import train_test_split\n",
    "X_train, X_test, y_train, y_test = train_test_split(X, y, test_size = 0.2, random_state= 75)"
   ]
  },
  {
   "cell_type": "code",
   "execution_count": 279,
   "id": "3d6d2268",
   "metadata": {
    "ExecuteTime": {
     "end_time": "2022-09-19T19:21:25.671163Z",
     "start_time": "2022-09-19T19:21:25.667145Z"
    }
   },
   "outputs": [],
   "source": [
    "from sklearn.linear_model import LinearRegression\n",
    "regressor = LinearRegression()"
   ]
  },
  {
   "cell_type": "code",
   "execution_count": 280,
   "id": "544a6692",
   "metadata": {
    "ExecuteTime": {
     "end_time": "2022-09-19T19:21:25.893712Z",
     "start_time": "2022-09-19T19:21:25.884737Z"
    }
   },
   "outputs": [
    {
     "data": {
      "text/plain": [
       "LinearRegression()"
      ]
     },
     "execution_count": 280,
     "metadata": {},
     "output_type": "execute_result"
    }
   ],
   "source": [
    "regressor.fit(X_train, y_train)"
   ]
  },
  {
   "cell_type": "code",
   "execution_count": 281,
   "id": "f7623f4f",
   "metadata": {
    "ExecuteTime": {
     "end_time": "2022-09-19T19:21:26.093207Z",
     "start_time": "2022-09-19T19:21:26.090186Z"
    }
   },
   "outputs": [
    {
     "name": "stdout",
     "output_type": "stream",
     "text": [
      "45685815829.10036\n"
     ]
    }
   ],
   "source": [
    "print(regressor.intercept_)"
   ]
  },
  {
   "cell_type": "code",
   "execution_count": 282,
   "id": "f73e0ddc",
   "metadata": {
    "ExecuteTime": {
     "end_time": "2022-09-19T19:21:26.279541Z",
     "start_time": "2022-09-19T19:21:26.274556Z"
    }
   },
   "outputs": [],
   "source": [
    "y_pred = regressor.predict(X_test)"
   ]
  },
  {
   "cell_type": "code",
   "execution_count": 283,
   "id": "ada9abc1",
   "metadata": {
    "ExecuteTime": {
     "end_time": "2022-09-19T19:21:26.585438Z",
     "start_time": "2022-09-19T19:21:26.578457Z"
    }
   },
   "outputs": [
    {
     "data": {
      "text/plain": [
       "0.7507173553328816"
      ]
     },
     "execution_count": 283,
     "metadata": {},
     "output_type": "execute_result"
    }
   ],
   "source": [
    "regressor.score(X_test, y_test)"
   ]
  },
  {
   "cell_type": "code",
   "execution_count": 284,
   "id": "39e97805",
   "metadata": {
    "ExecuteTime": {
     "end_time": "2022-09-19T19:21:27.105220Z",
     "start_time": "2022-09-19T19:21:27.098267Z"
    }
   },
   "outputs": [
    {
     "data": {
      "text/plain": [
       "0.7197762961675397"
      ]
     },
     "execution_count": 284,
     "metadata": {},
     "output_type": "execute_result"
    }
   ],
   "source": [
    "regressor.score(X_train, y_train)"
   ]
  },
  {
   "cell_type": "code",
   "execution_count": 237,
   "id": "92be7942",
   "metadata": {
    "ExecuteTime": {
     "end_time": "2022-09-19T18:59:00.925392Z",
     "start_time": "2022-09-19T18:59:00.915418Z"
    }
   },
   "outputs": [
    {
     "name": "stdout",
     "output_type": "stream",
     "text": [
      "Mean squared error: 0.00094\n",
      "Variance score: 0.73685\n"
     ]
    }
   ],
   "source": [
    "# The mean squared error\n",
    "print(\"Mean squared error: %.5f\" % np.mean((regressor.predict(X_test) - y_test) ** 2))\n",
    "# Explained variance score: 1 is perfect prediction\n",
    "print('score: %.5f' % regressor.score(X_test, y_test))"
   ]
  },
  {
   "cell_type": "markdown",
   "id": "44f28559",
   "metadata": {},
   "source": [
    "# "
   ]
  },
  {
   "cell_type": "markdown",
   "id": "cc260a87",
   "metadata": {},
   "source": [
    "### Using Ridge (L2 Regularized) Regression Model"
   ]
  },
  {
   "cell_type": "code",
   "execution_count": 285,
   "id": "3bba971b",
   "metadata": {
    "ExecuteTime": {
     "end_time": "2022-09-19T19:21:37.364085Z",
     "start_time": "2022-09-19T19:21:37.355112Z"
    }
   },
   "outputs": [
    {
     "data": {
      "text/plain": [
       "Ridge(alpha=1, max_iter=1000, tol=0.1)"
      ]
     },
     "execution_count": 285,
     "metadata": {},
     "output_type": "execute_result"
    }
   ],
   "source": [
    "from sklearn.linear_model import Ridge\n",
    "ridge_reg= Ridge(alpha=1, max_iter=1000, tol=0.1)\n",
    "ridge_reg.fit(X_train, y_train)"
   ]
  },
  {
   "cell_type": "code",
   "execution_count": 286,
   "id": "d2de394a",
   "metadata": {
    "ExecuteTime": {
     "end_time": "2022-09-19T19:21:37.609464Z",
     "start_time": "2022-09-19T19:21:37.602484Z"
    }
   },
   "outputs": [
    {
     "data": {
      "text/plain": [
       "0.7582557133012059"
      ]
     },
     "execution_count": 286,
     "metadata": {},
     "output_type": "execute_result"
    }
   ],
   "source": [
    "ridge_reg.score(X_test, y_test)"
   ]
  },
  {
   "cell_type": "code",
   "execution_count": 287,
   "id": "271b26d9",
   "metadata": {
    "ExecuteTime": {
     "end_time": "2022-09-19T19:21:37.816910Z",
     "start_time": "2022-09-19T19:21:37.809929Z"
    },
    "scrolled": true
   },
   "outputs": [
    {
     "data": {
      "text/plain": [
       "0.7163965947911732"
      ]
     },
     "execution_count": 287,
     "metadata": {},
     "output_type": "execute_result"
    }
   ],
   "source": [
    "ridge_reg.score(X_train, y_train)"
   ]
  },
  {
   "cell_type": "code",
   "execution_count": 237,
   "id": "c4550f9d",
   "metadata": {
    "ExecuteTime": {
     "end_time": "2022-09-19T18:59:00.925392Z",
     "start_time": "2022-09-19T18:59:00.915418Z"
    }
   },
   "outputs": [
    {
     "name": "stdout",
     "output_type": "stream",
     "text": [
      "Mean squared error: 0.00094\n",
      "Variance score: 0.73685\n"
     ]
    }
   ],
   "source": [
    "# The mean squared error\n",
    "print(\"Mean squared error: %.5f\" % np.mean((regressor.predict(X_test) - y_test) ** 2))\n",
    "# Explained variance score: 1 is perfect prediction\n",
    "print('Variance score: %.5f' % regressor.score(X_test, y_test))"
   ]
  },
  {
   "cell_type": "markdown",
   "id": "e117f441",
   "metadata": {},
   "source": [
    "# "
   ]
  },
  {
   "cell_type": "code",
   "execution_count": null,
   "id": "0a95bd7b",
   "metadata": {},
   "outputs": [],
   "source": []
  }
 ],
 "metadata": {
  "kernelspec": {
   "display_name": "Python 3 (ipykernel)",
   "language": "python",
   "name": "python3"
  },
  "language_info": {
   "codemirror_mode": {
    "name": "ipython",
    "version": 3
   },
   "file_extension": ".py",
   "mimetype": "text/x-python",
   "name": "python",
   "nbconvert_exporter": "python",
   "pygments_lexer": "ipython3",
   "version": "3.9.7"
  }
 },
 "nbformat": 4,
 "nbformat_minor": 5
}
